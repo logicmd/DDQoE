{
 "metadata": {
  "name": "LogisticRegression-bin-5"
 },
 "nbformat": 3,
 "nbformat_minor": 0,
 "worksheets": [
  {
   "cells": [
    {
     "cell_type": "code",
     "collapsed": false,
     "input": [
      "import numpy as np\n",
      "import matplotlib.pyplot as plt\n",
      "from sklearn.cross_validation import cross_val_score\n",
      "from sklearn.datasets import load_svmlight_file\n",
      "from sklearn.cross_validation import train_test_split, KFold\n",
      "from sklearn.multiclass import OneVsRestClassifier\n",
      "from sklearn.linear_model import LogisticRegression\n",
      "\n",
      "platform = { \n",
      "                   'All': -1,\n",
      "                   'Apple TV': 1, \n",
      "                   'Mac': 2, \n",
      "                   'Windows': 3, \n",
      "                   'iPad': 4, \n",
      "                   'Android': 5, \n",
      "                   'iPhone': 6, \n",
      "                   'iPod' : 7, \n",
      "                   'None' :8, \n",
      "                }\n",
      "\n",
      "metric_list = ['Watching Lasting Time(s)',\n",
      "               'Ad Ratio',\n",
      "               'Avg Bitrate(kbps)',\n",
      "               'Switch(per hour)',\n",
      "               'Initial Time(\\'o clock)']\n",
      "\n",
      "metric = {\n",
      "                  'Watching Lasting Time(s)': 0,\n",
      "                  'Ad Ratio': 1,\n",
      "                  'Avg Bitrate(kbps)': 2,\n",
      "                  'Switch(per hour)': 3,\n",
      "                  'Initial Time(\\'o clock)': 5\n",
      "              }\n",
      "train = None\n",
      "\n",
      "bins = {\n",
      "            'iPad': {\n",
      "                'Watching Lasting Time(s)': [1.0, 946.0, 2608.0, 5947.0, 15113.0,  270000.0],\n",
      "                'Ad Ratio': [0.0,  0.0, 0.81999999999999995, 0.93999999999999995, 1.0, 1.1],\n",
      "                'Avg Bitrate(kbps)': [50.0, 1700.0, 2068.1999999999998, 2157.6999999999998, 2190.1999999999998, 2202.0],\n",
      "                'Switch(per hour)': [0.0, 0.01, 0.059999999999999998, 0.14999999999999999, 0.34999999999999998, 61.0],\n",
      "                'Initial Time(\\'o clock)': [0.0, 12.029999999999999, 14.619999999999999, 17.5, 20.579999999999998, 24]\n",
      "            },\n",
      "            'Android': {\n",
      "                'Watching Lasting Time(s)': [1.0, 673.0, 2129.0, 6392.0, 28362.0, 270000.0],\n",
      "                'Ad Ratio': [0.0, 0.17000000000000001, 0.40000000000000002, 0.47999999999999998, 0.5, 1.1],\n",
      "                'Avg Bitrate(kbps)': [50.0, 605.60000000000002, 758.29999999999995, 800.0, 801.0, 2202.0],\n",
      "                'Switch(per hour)': [0.0, 0.0, 0.01, 0.089999999999999997, 0.41999999999999998, 61.0],\n",
      "                'Initial Time(\\'o clock)': [0.0, 10.68, 13.57, 17.399999999999999, 20.75, 24]\n",
      "            },\n",
      "            'iPhone': {\n",
      "                'Watching Lasting Time(s)': [1.0, 521.0, 1539.0, 3675.0, 9784.0, 270000.0],\n",
      "                'Ad Ratio': [0.0, 0.25, 0.80000000000000004, 0.94999999999999996, 1.0, 1.1],\n",
      "                'Avg Bitrate(kbps)': [50.0, 651.20000000000005, 764.5, 789.29999999999995, 800.0, 2202.0],\n",
      "                'Switch(per hour)': [0.0, 0.0, 0.040000000000000001, 0.11, 0.31, 61.0],\n",
      "                'Initial Time(\\'o clock)': [0.0, 12.029999999999999, 14.43, 17.370000000000001, 20.219999999999999, 24]\n",
      "            },\n",
      "            'Apple TV': {\n",
      "                'Watching Lasting Time(s)': [2.0, 1912.0, 4595.0, 7394.0, 16272.0, 270000.0],\n",
      "                'Ad Ratio': [0.0, 0.25, 0.80000000000000004, 0.94999999999999996, 1.0, 1.1],\n",
      "                'Avg Bitrate(kbps)': [175.0, 796.10000000000002, 1449.7, 2112.9000000000001, 2182.5999999999999, 2202.0],\n",
      "                'Switch(per hour)': [0.0, 0.02, 0.059999999999999998, 0.11, 0.20000000000000001, 61.0],\n",
      "                'Initial Time(\\'o clock)': [0.20000000000000001, 12.18, 14.5, 17.149999999999999, 20.219999999999999, 24]\n",
      "            },\n",
      "            \n",
      "        }\n",
      "        \n",
      "\n",
      "class lr:\n",
      "\n",
      "    def __init__(self):\n",
      "        global train\n",
      "        \n",
      "        X_train, y_train = load_svmlight_file('./data/time_train4')\n",
      "        X_train, y_train2 = load_svmlight_file('./data/ad_train4')\n",
      "        X_train = X_train.toarray()\n",
      "        train = np.column_stack((y_train, y_train2, X_train))\n",
      "\n",
      "\n",
      "    def train_and_test(self, feature, label, n=10, test_size=0.1):\n",
      "        \n",
      "        max_score = -1\n",
      "        max_C = None\n",
      "        max_clf = None\n",
      "        \n",
      "        kf = KFold(n=label.shape[0], n_folds=5)\n",
      "        for C_exp in xrange(-3,7):\n",
      "            scores = []\n",
      "            C = 10**(-C_exp)\n",
      "            \n",
      "            for train_index, test_index in kf:\n",
      "                feature_train, feature_test = feature[train_index], feature[test_index]\n",
      "                label_train, label_test = label[train_index], label[test_index]\n",
      "                \n",
      "                clf = OneVsRestClassifier(LogisticRegression(C=C))\n",
      "                clf = clf.fit(feature_train, label_train)\n",
      "                score = clf.score(feature_test, label_test)\n",
      "                scores.append(score)\n",
      "            score = np.average(scores)\n",
      "            print \"C:%f, score: %.2f\" %(C, score)\n",
      "            if (score > max_score):\n",
      "                max_score = score\n",
      "                max_C = C\n",
      "            \n",
      "        max_clf = OneVsRestClassifier(LogisticRegression(C=max_C)).fit(feature, label)\n",
      "        final_score = max_clf.score(feature, label)\n",
      "        \n",
      "        print \"C:%f, Final scores: %.2f\\n\" %(max_C, final_score)\n",
      "        \n",
      "        #print np.average1([12,3])\n",
      "        #confidence = max_clf.decision_function(feature)\n",
      "        #print confidence\n",
      "        #print \"confidence: %.2f\" %(np.average(abs(confidence)))\n",
      "        n = len(max_clf.coef_)\n",
      "        for i in xrange(n):\n",
      "            print max_clf.coef_[i], max_clf.intercept_[i]\n",
      "        \n",
      "        return final_score, max_clf\n",
      "            \n",
      "    def plot(self, p):\n",
      "        global platform\n",
      "        global metric\n",
      "        global train\n",
      "        \n",
      "        \n",
      "        mat = np.zeros((train[train[:,4]==platform[p],:].shape[0],5))\n",
      "        for idx, m in enumerate(metric_list):\n",
      "            mat[:, idx] = numpy.digitize(train[train[:,4]==platform[p], metric[m]], bins[p][m])\n",
      "            #print \"%f\\t%f\" %(np.amax(train[train[:,4]==platform[p], metric[m]]), np.amax(mat[:, idx]))\n",
      "        \n",
      "        print 'Sample size: ' + str(mat.shape[0])\n",
      "        \n",
      "        time_train = mat[:, 0]\n",
      "        ad_train = mat[:, 1]\n",
      "        features = mat[:, 2:5]\n",
      "    \n",
      "        \n",
      "        print p + \": time\"\n",
      "        time_score, time_clf = self.train_and_test(features, time_train)\n",
      "        \n",
      "        print p + \": ad\"\n",
      "        ad_score, ad_clf = self.train_and_test(features, ad_train)\n",
      "\n",
      "        print \"**********\\n**********\\n\"\n",
      "        \n",
      "        \n",
      "\n",
      "if __name__ == '__main__':\n",
      "\n",
      "    c = lr()\n",
      "    c.plot('iPad')\n",
      "    \n",
      "    c.plot('Android')\n",
      "    \n",
      "    c.plot('iPhone')\n",
      "    \n",
      "    c.plot('Apple TV')\n"
     ],
     "language": "python",
     "metadata": {},
     "outputs": [
      {
       "output_type": "stream",
       "stream": "stderr",
       "text": [
        "/usr/lib/pymodules/python2.7/sklearn/datasets/svmlight_format.py:136: DeprecationWarning: using a non-integer number instead of an integer will result in an error in the future\n",
        "  return _load_svmlight_file(f, dtype, multilabel, zero_based, query_id)\n",
        "/usr/lib/pymodules/python2.7/sklearn/datasets/svmlight_format.py:136: DeprecationWarning: using a non-integer number instead of an integer will result in an error in the future\n",
        "  return _load_svmlight_file(f, dtype, multilabel, zero_based, query_id)\n",
        "/usr/lib/pymodules/python2.7/sklearn/datasets/svmlight_format.py:136: DeprecationWarning: using a non-integer number instead of an integer will result in an error in the future\n",
        "  return _load_svmlight_file(f, dtype, multilabel, zero_based, query_id)\n",
        "/usr/lib/pymodules/python2.7/sklearn/datasets/svmlight_format.py:136: DeprecationWarning: using a non-integer number instead of an integer will result in an error in the future\n",
        "  return _load_svmlight_file(f, dtype, multilabel, zero_based, query_id)\n",
        "/usr/lib/pymodules/python2.7/sklearn/datasets/svmlight_format.py:136: DeprecationWarning: using a non-integer number instead of an integer will result in an error in the future\n",
        "  return _load_svmlight_file(f, dtype, multilabel, zero_based, query_id)\n",
        "/usr/lib/pymodules/python2.7/sklearn/datasets/svmlight_format.py:136: DeprecationWarning: using a non-integer number instead of an integer will result in an error in the future\n",
        "  return _load_svmlight_file(f, dtype, multilabel, zero_based, query_id)\n",
        "/usr/lib/pymodules/python2.7/sklearn/datasets/svmlight_format.py:136: DeprecationWarning: using a non-integer number instead of an integer will result in an error in the future\n",
        "  return _load_svmlight_file(f, dtype, multilabel, zero_based, query_id)\n",
        "/usr/lib/pymodules/python2.7/sklearn/datasets/svmlight_format.py:136: DeprecationWarning: using a non-integer number instead of an integer will result in an error in the future\n",
        "  return _load_svmlight_file(f, dtype, multilabel, zero_based, query_id)\n",
        "/usr/lib/pymodules/python2.7/sklearn/datasets/svmlight_format.py:136: DeprecationWarning: using a non-integer number instead of an integer will result in an error in the future\n",
        "  return _load_svmlight_file(f, dtype, multilabel, zero_based, query_id)\n",
        "/usr/lib/pymodules/python2.7/sklearn/datasets/svmlight_format.py:136: DeprecationWarning: using a non-integer number instead of an integer will result in an error in the future\n",
        "  return _load_svmlight_file(f, dtype, multilabel, zero_based, query_id)\n",
        "/usr/lib/pymodules/python2.7/sklearn/datasets/svmlight_format.py:136: DeprecationWarning: using a non-integer number instead of an integer will result in an error in the future\n",
        "  return _load_svmlight_file(f, dtype, multilabel, zero_based, query_id)\n",
        "/usr/lib/pymodules/python2.7/sklearn/datasets/svmlight_format.py:136: DeprecationWarning: using a non-integer number instead of an integer will result in an error in the future\n",
        "  return _load_svmlight_file(f, dtype, multilabel, zero_based, query_id)\n",
        "/usr/lib/pymodules/python2.7/sklearn/datasets/svmlight_format.py:136: DeprecationWarning: using a non-integer number instead of an integer will result in an error in the future\n",
        "  return _load_svmlight_file(f, dtype, multilabel, zero_based, query_id)\n",
        "/usr/lib/pymodules/python2.7/sklearn/datasets/svmlight_format.py:136: DeprecationWarning: using a non-integer number instead of an integer will result in an error in the future\n",
        "  return _load_svmlight_file(f, dtype, multilabel, zero_based, query_id)\n",
        "/usr/lib/pymodules/python2.7/sklearn/datasets/svmlight_format.py:136: DeprecationWarning: using a non-integer number instead of an integer will result in an error in the future\n",
        "  return _load_svmlight_file(f, dtype, multilabel, zero_based, query_id)\n",
        "/usr/lib/pymodules/python2.7/sklearn/datasets/svmlight_format.py:136: DeprecationWarning: using a non-integer number instead of an integer will result in an error in the future\n",
        "  return _load_svmlight_file(f, dtype, multilabel, zero_based, query_id)\n",
        "/usr/lib/pymodules/python2.7/sklearn/datasets/svmlight_format.py:136: DeprecationWarning: using a non-integer number instead of an integer will result in an error in the future\n",
        "  return _load_svmlight_file(f, dtype, multilabel, zero_based, query_id)\n",
        "/usr/lib/pymodules/python2.7/sklearn/datasets/svmlight_format.py:136: DeprecationWarning: using a non-integer number instead of an integer will result in an error in the future\n",
        "  return _load_svmlight_file(f, dtype, multilabel, zero_based, query_id)\n",
        "/usr/lib/pymodules/python2.7/sklearn/datasets/svmlight_format.py:136: DeprecationWarning: using a non-integer number instead of an integer will result in an error in the future\n",
        "  return _load_svmlight_file(f, dtype, multilabel, zero_based, query_id)\n",
        "/usr/lib/pymodules/python2.7/sklearn/datasets/svmlight_format.py:136: DeprecationWarning: using a non-integer number instead of an integer will result in an error in the future\n",
        "  return _load_svmlight_file(f, dtype, multilabel, zero_based, query_id)\n",
        "/usr/lib/pymodules/python2.7/sklearn/datasets/svmlight_format.py:136: DeprecationWarning: using a non-integer number instead of an integer will result in an error in the future\n",
        "  return _load_svmlight_file(f, dtype, multilabel, zero_based, query_id)\n",
        "/usr/lib/pymodules/python2.7/sklearn/datasets/svmlight_format.py:136: DeprecationWarning: using a non-integer number instead of an integer will result in an error in the future\n",
        "  return _load_svmlight_file(f, dtype, multilabel, zero_based, query_id)\n",
        "/usr/lib/pymodules/python2.7/sklearn/datasets/svmlight_format.py:136: DeprecationWarning: using a non-integer number instead of an integer will result in an error in the future\n",
        "  return _load_svmlight_file(f, dtype, multilabel, zero_based, query_id)\n",
        "/usr/lib/pymodules/python2.7/sklearn/datasets/svmlight_format.py:136: DeprecationWarning: using a non-integer number instead of an integer will result in an error in the future\n",
        "  return _load_svmlight_file(f, dtype, multilabel, zero_based, query_id)\n",
        "/usr/lib/pymodules/python2.7/sklearn/datasets/svmlight_format.py:136: DeprecationWarning: using a non-integer number instead of an integer will result in an error in the future\n",
        "  return _load_svmlight_file(f, dtype, multilabel, zero_based, query_id)\n",
        "/usr/lib/pymodules/python2.7/sklearn/datasets/svmlight_format.py:136: DeprecationWarning: using a non-integer number instead of an integer will result in an error in the future\n",
        "  return _load_svmlight_file(f, dtype, multilabel, zero_based, query_id)\n",
        "/usr/lib/pymodules/python2.7/sklearn/datasets/svmlight_format.py:136: DeprecationWarning: using a non-integer number instead of an integer will result in an error in the future\n",
        "  return _load_svmlight_file(f, dtype, multilabel, zero_based, query_id)\n",
        "/usr/lib/pymodules/python2.7/sklearn/datasets/svmlight_format.py:136: DeprecationWarning: using a non-integer number instead of an integer will result in an error in the future\n",
        "  return _load_svmlight_file(f, dtype, multilabel, zero_based, query_id)\n",
        "/usr/lib/pymodules/python2.7/sklearn/datasets/svmlight_format.py:136: DeprecationWarning: using a non-integer number instead of an integer will result in an error in the future\n",
        "  return _load_svmlight_file(f, dtype, multilabel, zero_based, query_id)\n",
        "/usr/lib/pymodules/python2.7/sklearn/datasets/svmlight_format.py:136: DeprecationWarning: using a non-integer number instead of an integer will result in an error in the future\n",
        "  return _load_svmlight_file(f, dtype, multilabel, zero_based, query_id)\n",
        "/usr/lib/pymodules/python2.7/sklearn/datasets/svmlight_format.py:136: DeprecationWarning: using a non-integer number instead of an integer will result in an error in the future\n",
        "  return _load_svmlight_file(f, dtype, multilabel, zero_based, query_id)\n",
        "/usr/lib/pymodules/python2.7/sklearn/datasets/svmlight_format.py:136: DeprecationWarning: using a non-integer number instead of an integer will result in an error in the future\n",
        "  return _load_svmlight_file(f, dtype, multilabel, zero_based, query_id)\n",
        "/usr/lib/pymodules/python2.7/sklearn/datasets/svmlight_format.py:136: DeprecationWarning: using a non-integer number instead of an integer will result in an error in the future\n",
        "  return _load_svmlight_file(f, dtype, multilabel, zero_based, query_id)\n"
       ]
      },
      {
       "output_type": "stream",
       "stream": "stderr",
       "text": [
        "/usr/lib/pymodules/python2.7/sklearn/datasets/svmlight_format.py:136: DeprecationWarning: using a non-integer number instead of an integer will result in an error in the future\n",
        "  return _load_svmlight_file(f, dtype, multilabel, zero_based, query_id)\n",
        "/usr/lib/pymodules/python2.7/sklearn/datasets/svmlight_format.py:136: DeprecationWarning: using a non-integer number instead of an integer will result in an error in the future\n",
        "  return _load_svmlight_file(f, dtype, multilabel, zero_based, query_id)\n",
        "/usr/lib/pymodules/python2.7/sklearn/datasets/svmlight_format.py:136: DeprecationWarning: using a non-integer number instead of an integer will result in an error in the future\n",
        "  return _load_svmlight_file(f, dtype, multilabel, zero_based, query_id)\n",
        "/usr/lib/pymodules/python2.7/sklearn/datasets/svmlight_format.py:136: DeprecationWarning: using a non-integer number instead of an integer will result in an error in the future\n",
        "  return _load_svmlight_file(f, dtype, multilabel, zero_based, query_id)\n",
        "/usr/lib/pymodules/python2.7/sklearn/datasets/svmlight_format.py:136: DeprecationWarning: using a non-integer number instead of an integer will result in an error in the future\n",
        "  return _load_svmlight_file(f, dtype, multilabel, zero_based, query_id)\n",
        "/usr/lib/pymodules/python2.7/sklearn/datasets/svmlight_format.py:136: DeprecationWarning: using a non-integer number instead of an integer will result in an error in the future\n",
        "  return _load_svmlight_file(f, dtype, multilabel, zero_based, query_id)\n"
       ]
      },
      {
       "output_type": "stream",
       "stream": "stderr",
       "text": [
        "/usr/lib/pymodules/python2.7/sklearn/datasets/svmlight_format.py:136: DeprecationWarning: using a non-integer number instead of an integer will result in an error in the future\n",
        "  return _load_svmlight_file(f, dtype, multilabel, zero_based, query_id)\n",
        "/usr/lib/pymodules/python2.7/sklearn/datasets/svmlight_format.py:136: DeprecationWarning: using a non-integer number instead of an integer will result in an error in the future\n",
        "  return _load_svmlight_file(f, dtype, multilabel, zero_based, query_id)\n",
        "/usr/lib/pymodules/python2.7/sklearn/datasets/svmlight_format.py:136: DeprecationWarning: using a non-integer number instead of an integer will result in an error in the future\n",
        "  return _load_svmlight_file(f, dtype, multilabel, zero_based, query_id)\n",
        "/usr/lib/pymodules/python2.7/sklearn/datasets/svmlight_format.py:136: DeprecationWarning: using a non-integer number instead of an integer will result in an error in the future\n",
        "  return _load_svmlight_file(f, dtype, multilabel, zero_based, query_id)\n"
       ]
      },
      {
       "output_type": "stream",
       "stream": "stderr",
       "text": [
        "/usr/lib/pymodules/python2.7/sklearn/datasets/svmlight_format.py:136: DeprecationWarning: using a non-integer number instead of an integer will result in an error in the future\n",
        "  return _load_svmlight_file(f, dtype, multilabel, zero_based, query_id)\n",
        "/usr/lib/pymodules/python2.7/sklearn/datasets/svmlight_format.py:136: DeprecationWarning: using a non-integer number instead of an integer will result in an error in the future\n",
        "  return _load_svmlight_file(f, dtype, multilabel, zero_based, query_id)\n",
        "/usr/lib/pymodules/python2.7/sklearn/datasets/svmlight_format.py:136: DeprecationWarning: using a non-integer number instead of an integer will result in an error in the future\n",
        "  return _load_svmlight_file(f, dtype, multilabel, zero_based, query_id)\n",
        "/usr/lib/pymodules/python2.7/sklearn/datasets/svmlight_format.py:136: DeprecationWarning: using a non-integer number instead of an integer will result in an error in the future\n",
        "  return _load_svmlight_file(f, dtype, multilabel, zero_based, query_id)\n"
       ]
      },
      {
       "output_type": "stream",
       "stream": "stderr",
       "text": [
        "/usr/lib/pymodules/python2.7/sklearn/datasets/svmlight_format.py:136: DeprecationWarning: using a non-integer number instead of an integer will result in an error in the future\n",
        "  return _load_svmlight_file(f, dtype, multilabel, zero_based, query_id)\n",
        "/usr/lib/pymodules/python2.7/sklearn/datasets/svmlight_format.py:136: DeprecationWarning: using a non-integer number instead of an integer will result in an error in the future\n",
        "  return _load_svmlight_file(f, dtype, multilabel, zero_based, query_id)\n",
        "/usr/lib/pymodules/python2.7/sklearn/datasets/svmlight_format.py:136: DeprecationWarning: using a non-integer number instead of an integer will result in an error in the future\n",
        "  return _load_svmlight_file(f, dtype, multilabel, zero_based, query_id)\n",
        "/usr/lib/pymodules/python2.7/sklearn/datasets/svmlight_format.py:136: DeprecationWarning: using a non-integer number instead of an integer will result in an error in the future\n",
        "  return _load_svmlight_file(f, dtype, multilabel, zero_based, query_id)\n"
       ]
      },
      {
       "output_type": "stream",
       "stream": "stderr",
       "text": [
        "/usr/lib/pymodules/python2.7/sklearn/datasets/svmlight_format.py:136: DeprecationWarning: using a non-integer number instead of an integer will result in an error in the future\n",
        "  return _load_svmlight_file(f, dtype, multilabel, zero_based, query_id)\n",
        "/usr/lib/pymodules/python2.7/sklearn/datasets/svmlight_format.py:136: DeprecationWarning: using a non-integer number instead of an integer will result in an error in the future\n",
        "  return _load_svmlight_file(f, dtype, multilabel, zero_based, query_id)\n"
       ]
      },
      {
       "output_type": "stream",
       "stream": "stderr",
       "text": [
        "/usr/lib/pymodules/python2.7/sklearn/datasets/svmlight_format.py:136: DeprecationWarning: using a non-integer number instead of an integer will result in an error in the future\n",
        "  return _load_svmlight_file(f, dtype, multilabel, zero_based, query_id)\n",
        "/usr/lib/pymodules/python2.7/sklearn/datasets/svmlight_format.py:136: DeprecationWarning: using a non-integer number instead of an integer will result in an error in the future\n",
        "  return _load_svmlight_file(f, dtype, multilabel, zero_based, query_id)\n"
       ]
      },
      {
       "output_type": "stream",
       "stream": "stderr",
       "text": [
        "/usr/lib/pymodules/python2.7/sklearn/datasets/svmlight_format.py:136: DeprecationWarning: using a non-integer number instead of an integer will result in an error in the future\n",
        "  return _load_svmlight_file(f, dtype, multilabel, zero_based, query_id)\n",
        "/usr/lib/pymodules/python2.7/sklearn/datasets/svmlight_format.py:136: DeprecationWarning: using a non-integer number instead of an integer will result in an error in the future\n",
        "  return _load_svmlight_file(f, dtype, multilabel, zero_based, query_id)\n"
       ]
      },
      {
       "output_type": "stream",
       "stream": "stderr",
       "text": [
        "/usr/lib/pymodules/python2.7/sklearn/datasets/svmlight_format.py:136: DeprecationWarning: using a non-integer number instead of an integer will result in an error in the future\n",
        "  return _load_svmlight_file(f, dtype, multilabel, zero_based, query_id)\n",
        "/usr/lib/pymodules/python2.7/sklearn/datasets/svmlight_format.py:136: DeprecationWarning: using a non-integer number instead of an integer will result in an error in the future\n",
        "  return _load_svmlight_file(f, dtype, multilabel, zero_based, query_id)\n"
       ]
      },
      {
       "output_type": "stream",
       "stream": "stderr",
       "text": [
        "/usr/lib/pymodules/python2.7/sklearn/datasets/svmlight_format.py:136: DeprecationWarning: using a non-integer number instead of an integer will result in an error in the future\n",
        "  return _load_svmlight_file(f, dtype, multilabel, zero_based, query_id)\n",
        "/usr/lib/pymodules/python2.7/sklearn/datasets/svmlight_format.py:136: DeprecationWarning: using a non-integer number instead of an integer will result in an error in the future\n",
        "  return _load_svmlight_file(f, dtype, multilabel, zero_based, query_id)\n"
       ]
      },
      {
       "output_type": "stream",
       "stream": "stderr",
       "text": [
        "/usr/lib/pymodules/python2.7/sklearn/datasets/svmlight_format.py:136: DeprecationWarning: using a non-integer number instead of an integer will result in an error in the future\n",
        "  return _load_svmlight_file(f, dtype, multilabel, zero_based, query_id)\n",
        "/usr/lib/pymodules/python2.7/sklearn/datasets/svmlight_format.py:136: DeprecationWarning: using a non-integer number instead of an integer will result in an error in the future\n",
        "  return _load_svmlight_file(f, dtype, multilabel, zero_based, query_id)\n"
       ]
      },
      {
       "output_type": "stream",
       "stream": "stderr",
       "text": [
        "/usr/lib/pymodules/python2.7/sklearn/datasets/svmlight_format.py:136: DeprecationWarning: using a non-integer number instead of an integer will result in an error in the future\n",
        "  return _load_svmlight_file(f, dtype, multilabel, zero_based, query_id)\n",
        "/usr/lib/pymodules/python2.7/sklearn/datasets/svmlight_format.py:136: DeprecationWarning: using a non-integer number instead of an integer will result in an error in the future\n",
        "  return _load_svmlight_file(f, dtype, multilabel, zero_based, query_id)\n",
        "/usr/lib/pymodules/python2.7/sklearn/datasets/svmlight_format.py:136: DeprecationWarning: using a non-integer number instead of an integer will result in an error in the future\n",
        "  return _load_svmlight_file(f, dtype, multilabel, zero_based, query_id)\n",
        "/usr/lib/pymodules/python2.7/sklearn/datasets/svmlight_format.py:136: DeprecationWarning: using a non-integer number instead of an integer will result in an error in the future\n",
        "  return _load_svmlight_file(f, dtype, multilabel, zero_based, query_id)\n",
        "/usr/lib/pymodules/python2.7/sklearn/datasets/svmlight_format.py:136: DeprecationWarning: using a non-integer number instead of an integer will result in an error in the future\n",
        "  return _load_svmlight_file(f, dtype, multilabel, zero_based, query_id)\n",
        "/usr/lib/pymodules/python2.7/sklearn/datasets/svmlight_format.py:136: DeprecationWarning: using a non-integer number instead of an integer will result in an error in the future\n",
        "  return _load_svmlight_file(f, dtype, multilabel, zero_based, query_id)\n",
        "/usr/lib/pymodules/python2.7/sklearn/datasets/svmlight_format.py:136: DeprecationWarning: using a non-integer number instead of an integer will result in an error in the future\n",
        "  return _load_svmlight_file(f, dtype, multilabel, zero_based, query_id)\n",
        "/usr/lib/pymodules/python2.7/sklearn/datasets/svmlight_format.py:136: DeprecationWarning: using a non-integer number instead of an integer will result in an error in the future\n",
        "  return _load_svmlight_file(f, dtype, multilabel, zero_based, query_id)\n",
        "/usr/lib/pymodules/python2.7/sklearn/datasets/svmlight_format.py:136: DeprecationWarning: using a non-integer number instead of an integer will result in an error in the future\n",
        "  return _load_svmlight_file(f, dtype, multilabel, zero_based, query_id)\n",
        "/usr/lib/pymodules/python2.7/sklearn/datasets/svmlight_format.py:136: DeprecationWarning: using a non-integer number instead of an integer will result in an error in the future\n",
        "  return _load_svmlight_file(f, dtype, multilabel, zero_based, query_id)\n",
        "/usr/lib/pymodules/python2.7/sklearn/datasets/svmlight_format.py:136: DeprecationWarning: using a non-integer number instead of an integer will result in an error in the future\n",
        "  return _load_svmlight_file(f, dtype, multilabel, zero_based, query_id)\n",
        "/usr/lib/pymodules/python2.7/sklearn/datasets/svmlight_format.py:136: DeprecationWarning: using a non-integer number instead of an integer will result in an error in the future\n",
        "  return _load_svmlight_file(f, dtype, multilabel, zero_based, query_id)\n",
        "/usr/lib/pymodules/python2.7/sklearn/datasets/svmlight_format.py:136: DeprecationWarning: using a non-integer number instead of an integer will result in an error in the future\n",
        "  return _load_svmlight_file(f, dtype, multilabel, zero_based, query_id)\n",
        "/usr/lib/pymodules/python2.7/sklearn/datasets/svmlight_format.py:136: DeprecationWarning: using a non-integer number instead of an integer will result in an error in the future\n",
        "  return _load_svmlight_file(f, dtype, multilabel, zero_based, query_id)\n",
        "/usr/lib/pymodules/python2.7/sklearn/datasets/svmlight_format.py:136: DeprecationWarning: using a non-integer number instead of an integer will result in an error in the future\n",
        "  return _load_svmlight_file(f, dtype, multilabel, zero_based, query_id)\n",
        "/usr/lib/pymodules/python2.7/sklearn/datasets/svmlight_format.py:136: DeprecationWarning: using a non-integer number instead of an integer will result in an error in the future\n",
        "  return _load_svmlight_file(f, dtype, multilabel, zero_based, query_id)\n",
        "/usr/lib/pymodules/python2.7/sklearn/datasets/svmlight_format.py:136: DeprecationWarning: using a non-integer number instead of an integer will result in an error in the future\n",
        "  return _load_svmlight_file(f, dtype, multilabel, zero_based, query_id)\n",
        "/usr/lib/pymodules/python2.7/sklearn/datasets/svmlight_format.py:136: DeprecationWarning: using a non-integer number instead of an integer will result in an error in the future\n",
        "  return _load_svmlight_file(f, dtype, multilabel, zero_based, query_id)\n",
        "/usr/lib/pymodules/python2.7/sklearn/datasets/svmlight_format.py:136: DeprecationWarning: using a non-integer number instead of an integer will result in an error in the future\n",
        "  return _load_svmlight_file(f, dtype, multilabel, zero_based, query_id)\n",
        "/usr/lib/pymodules/python2.7/sklearn/datasets/svmlight_format.py:136: DeprecationWarning: using a non-integer number instead of an integer will result in an error in the future\n",
        "  return _load_svmlight_file(f, dtype, multilabel, zero_based, query_id)\n",
        "/usr/lib/pymodules/python2.7/sklearn/datasets/svmlight_format.py:136: DeprecationWarning: using a non-integer number instead of an integer will result in an error in the future\n",
        "  return _load_svmlight_file(f, dtype, multilabel, zero_based, query_id)\n",
        "/usr/lib/pymodules/python2.7/sklearn/datasets/svmlight_format.py:136: DeprecationWarning: using a non-integer number instead of an integer will result in an error in the future\n",
        "  return _load_svmlight_file(f, dtype, multilabel, zero_based, query_id)\n",
        "/usr/lib/pymodules/python2.7/sklearn/datasets/svmlight_format.py:136: DeprecationWarning: using a non-integer number instead of an integer will result in an error in the future\n",
        "  return _load_svmlight_file(f, dtype, multilabel, zero_based, query_id)\n",
        "/usr/lib/pymodules/python2.7/sklearn/datasets/svmlight_format.py:136: DeprecationWarning: using a non-integer number instead of an integer will result in an error in the future\n",
        "  return _load_svmlight_file(f, dtype, multilabel, zero_based, query_id)\n",
        "/usr/lib/pymodules/python2.7/sklearn/datasets/svmlight_format.py:136: DeprecationWarning: using a non-integer number instead of an integer will result in an error in the future\n",
        "  return _load_svmlight_file(f, dtype, multilabel, zero_based, query_id)\n",
        "/usr/lib/pymodules/python2.7/sklearn/datasets/svmlight_format.py:136: DeprecationWarning: using a non-integer number instead of an integer will result in an error in the future\n",
        "  return _load_svmlight_file(f, dtype, multilabel, zero_based, query_id)\n",
        "/usr/lib/pymodules/python2.7/sklearn/datasets/svmlight_format.py:136: DeprecationWarning: using a non-integer number instead of an integer will result in an error in the future\n",
        "  return _load_svmlight_file(f, dtype, multilabel, zero_based, query_id)\n",
        "/usr/lib/pymodules/python2.7/sklearn/datasets/svmlight_format.py:136: DeprecationWarning: using a non-integer number instead of an integer will result in an error in the future\n",
        "  return _load_svmlight_file(f, dtype, multilabel, zero_based, query_id)\n",
        "/usr/lib/pymodules/python2.7/sklearn/datasets/svmlight_format.py:136: DeprecationWarning: using a non-integer number instead of an integer will result in an error in the future\n",
        "  return _load_svmlight_file(f, dtype, multilabel, zero_based, query_id)\n",
        "/usr/lib/pymodules/python2.7/sklearn/datasets/svmlight_format.py:136: DeprecationWarning: using a non-integer number instead of an integer will result in an error in the future\n",
        "  return _load_svmlight_file(f, dtype, multilabel, zero_based, query_id)\n",
        "/usr/lib/pymodules/python2.7/sklearn/datasets/svmlight_format.py:136: DeprecationWarning: using a non-integer number instead of an integer will result in an error in the future\n",
        "  return _load_svmlight_file(f, dtype, multilabel, zero_based, query_id)\n",
        "/usr/lib/pymodules/python2.7/sklearn/datasets/svmlight_format.py:136: DeprecationWarning: using a non-integer number instead of an integer will result in an error in the future\n",
        "  return _load_svmlight_file(f, dtype, multilabel, zero_based, query_id)\n"
       ]
      },
      {
       "output_type": "stream",
       "stream": "stderr",
       "text": [
        "/usr/lib/pymodules/python2.7/sklearn/datasets/svmlight_format.py:136: DeprecationWarning: using a non-integer number instead of an integer will result in an error in the future\n",
        "  return _load_svmlight_file(f, dtype, multilabel, zero_based, query_id)\n",
        "/usr/lib/pymodules/python2.7/sklearn/datasets/svmlight_format.py:136: DeprecationWarning: using a non-integer number instead of an integer will result in an error in the future\n",
        "  return _load_svmlight_file(f, dtype, multilabel, zero_based, query_id)\n",
        "/usr/lib/pymodules/python2.7/sklearn/datasets/svmlight_format.py:136: DeprecationWarning: using a non-integer number instead of an integer will result in an error in the future\n",
        "  return _load_svmlight_file(f, dtype, multilabel, zero_based, query_id)\n",
        "/usr/lib/pymodules/python2.7/sklearn/datasets/svmlight_format.py:136: DeprecationWarning: using a non-integer number instead of an integer will result in an error in the future\n",
        "  return _load_svmlight_file(f, dtype, multilabel, zero_based, query_id)\n",
        "/usr/lib/pymodules/python2.7/sklearn/datasets/svmlight_format.py:136: DeprecationWarning: using a non-integer number instead of an integer will result in an error in the future\n",
        "  return _load_svmlight_file(f, dtype, multilabel, zero_based, query_id)\n",
        "/usr/lib/pymodules/python2.7/sklearn/datasets/svmlight_format.py:136: DeprecationWarning: using a non-integer number instead of an integer will result in an error in the future\n",
        "  return _load_svmlight_file(f, dtype, multilabel, zero_based, query_id)\n"
       ]
      },
      {
       "output_type": "stream",
       "stream": "stderr",
       "text": [
        "/usr/lib/pymodules/python2.7/sklearn/datasets/svmlight_format.py:136: DeprecationWarning: using a non-integer number instead of an integer will result in an error in the future\n",
        "  return _load_svmlight_file(f, dtype, multilabel, zero_based, query_id)\n",
        "/usr/lib/pymodules/python2.7/sklearn/datasets/svmlight_format.py:136: DeprecationWarning: using a non-integer number instead of an integer will result in an error in the future\n",
        "  return _load_svmlight_file(f, dtype, multilabel, zero_based, query_id)\n",
        "/usr/lib/pymodules/python2.7/sklearn/datasets/svmlight_format.py:136: DeprecationWarning: using a non-integer number instead of an integer will result in an error in the future\n",
        "  return _load_svmlight_file(f, dtype, multilabel, zero_based, query_id)\n",
        "/usr/lib/pymodules/python2.7/sklearn/datasets/svmlight_format.py:136: DeprecationWarning: using a non-integer number instead of an integer will result in an error in the future\n",
        "  return _load_svmlight_file(f, dtype, multilabel, zero_based, query_id)\n",
        "/usr/lib/pymodules/python2.7/sklearn/datasets/svmlight_format.py:136: DeprecationWarning: using a non-integer number instead of an integer will result in an error in the future\n",
        "  return _load_svmlight_file(f, dtype, multilabel, zero_based, query_id)\n",
        "/usr/lib/pymodules/python2.7/sklearn/datasets/svmlight_format.py:136: DeprecationWarning: using a non-integer number instead of an integer will result in an error in the future\n",
        "  return _load_svmlight_file(f, dtype, multilabel, zero_based, query_id)\n"
       ]
      },
      {
       "output_type": "stream",
       "stream": "stderr",
       "text": [
        "/usr/lib/pymodules/python2.7/sklearn/datasets/svmlight_format.py:136: DeprecationWarning: using a non-integer number instead of an integer will result in an error in the future\n",
        "  return _load_svmlight_file(f, dtype, multilabel, zero_based, query_id)\n",
        "/usr/lib/pymodules/python2.7/sklearn/datasets/svmlight_format.py:136: DeprecationWarning: using a non-integer number instead of an integer will result in an error in the future\n",
        "  return _load_svmlight_file(f, dtype, multilabel, zero_based, query_id)\n",
        "/usr/lib/pymodules/python2.7/sklearn/datasets/svmlight_format.py:136: DeprecationWarning: using a non-integer number instead of an integer will result in an error in the future\n",
        "  return _load_svmlight_file(f, dtype, multilabel, zero_based, query_id)\n",
        "/usr/lib/pymodules/python2.7/sklearn/datasets/svmlight_format.py:136: DeprecationWarning: using a non-integer number instead of an integer will result in an error in the future\n",
        "  return _load_svmlight_file(f, dtype, multilabel, zero_based, query_id)\n"
       ]
      },
      {
       "output_type": "stream",
       "stream": "stderr",
       "text": [
        "/usr/lib/pymodules/python2.7/sklearn/datasets/svmlight_format.py:136: DeprecationWarning: using a non-integer number instead of an integer will result in an error in the future\n",
        "  return _load_svmlight_file(f, dtype, multilabel, zero_based, query_id)\n",
        "/usr/lib/pymodules/python2.7/sklearn/datasets/svmlight_format.py:136: DeprecationWarning: using a non-integer number instead of an integer will result in an error in the future\n",
        "  return _load_svmlight_file(f, dtype, multilabel, zero_based, query_id)\n"
       ]
      },
      {
       "output_type": "stream",
       "stream": "stderr",
       "text": [
        "/usr/lib/pymodules/python2.7/sklearn/datasets/svmlight_format.py:136: DeprecationWarning: using a non-integer number instead of an integer will result in an error in the future\n",
        "  return _load_svmlight_file(f, dtype, multilabel, zero_based, query_id)\n",
        "/usr/lib/pymodules/python2.7/sklearn/datasets/svmlight_format.py:136: DeprecationWarning: using a non-integer number instead of an integer will result in an error in the future\n",
        "  return _load_svmlight_file(f, dtype, multilabel, zero_based, query_id)\n"
       ]
      },
      {
       "output_type": "stream",
       "stream": "stderr",
       "text": [
        "/usr/lib/pymodules/python2.7/sklearn/datasets/svmlight_format.py:136: DeprecationWarning: using a non-integer number instead of an integer will result in an error in the future\n",
        "  return _load_svmlight_file(f, dtype, multilabel, zero_based, query_id)\n",
        "/usr/lib/pymodules/python2.7/sklearn/datasets/svmlight_format.py:136: DeprecationWarning: using a non-integer number instead of an integer will result in an error in the future\n",
        "  return _load_svmlight_file(f, dtype, multilabel, zero_based, query_id)\n"
       ]
      },
      {
       "output_type": "stream",
       "stream": "stderr",
       "text": [
        "/usr/lib/pymodules/python2.7/sklearn/datasets/svmlight_format.py:136: DeprecationWarning: using a non-integer number instead of an integer will result in an error in the future\n",
        "  return _load_svmlight_file(f, dtype, multilabel, zero_based, query_id)\n",
        "/usr/lib/pymodules/python2.7/sklearn/datasets/svmlight_format.py:136: DeprecationWarning: using a non-integer number instead of an integer will result in an error in the future\n",
        "  return _load_svmlight_file(f, dtype, multilabel, zero_based, query_id)\n"
       ]
      },
      {
       "output_type": "stream",
       "stream": "stderr",
       "text": [
        "/usr/lib/pymodules/python2.7/sklearn/datasets/svmlight_format.py:136: DeprecationWarning: using a non-integer number instead of an integer will result in an error in the future\n",
        "  return _load_svmlight_file(f, dtype, multilabel, zero_based, query_id)\n",
        "/usr/lib/pymodules/python2.7/sklearn/datasets/svmlight_format.py:136: DeprecationWarning: using a non-integer number instead of an integer will result in an error in the future\n",
        "  return _load_svmlight_file(f, dtype, multilabel, zero_based, query_id)\n"
       ]
      },
      {
       "output_type": "stream",
       "stream": "stderr",
       "text": [
        "/usr/lib/pymodules/python2.7/sklearn/datasets/svmlight_format.py:136: DeprecationWarning: using a non-integer number instead of an integer will result in an error in the future\n",
        "  return _load_svmlight_file(f, dtype, multilabel, zero_based, query_id)\n",
        "/usr/lib/pymodules/python2.7/sklearn/datasets/svmlight_format.py:136: DeprecationWarning: using a non-integer number instead of an integer will result in an error in the future\n",
        "  return _load_svmlight_file(f, dtype, multilabel, zero_based, query_id)\n"
       ]
      },
      {
       "output_type": "stream",
       "stream": "stdout",
       "text": [
        "Sample size: 13760\n",
        "Android: time\n",
        "C:1000.000000, score: 0.29"
       ]
      },
      {
       "output_type": "stream",
       "stream": "stdout",
       "text": [
        "\n",
        "C:100.000000, score: 0.29"
       ]
      },
      {
       "output_type": "stream",
       "stream": "stdout",
       "text": [
        "\n",
        "C:10.000000, score: 0.29"
       ]
      },
      {
       "output_type": "stream",
       "stream": "stdout",
       "text": [
        "\n",
        "C:1.000000, score: 0.29"
       ]
      },
      {
       "output_type": "stream",
       "stream": "stdout",
       "text": [
        "\n",
        "C:0.100000, score: 0.29"
       ]
      },
      {
       "output_type": "stream",
       "stream": "stdout",
       "text": [
        "\n",
        "C:0.010000, score: 0.33"
       ]
      },
      {
       "output_type": "stream",
       "stream": "stdout",
       "text": [
        "\n",
        "C:0.001000, score: 0.27"
       ]
      },
      {
       "output_type": "stream",
       "stream": "stdout",
       "text": [
        "\n",
        "C:0.000100, score: 0.26"
       ]
      },
      {
       "output_type": "stream",
       "stream": "stdout",
       "text": [
        "\n",
        "C:0.000010, score: 0.24"
       ]
      },
      {
       "output_type": "stream",
       "stream": "stdout",
       "text": [
        "\n",
        "C:0.000001, score: 0.23"
       ]
      },
      {
       "output_type": "stream",
       "stream": "stdout",
       "text": [
        "\n",
        "C:0.010000, Final scores: 0.33\n"
       ]
      },
      {
       "output_type": "stream",
       "stream": "stdout",
       "text": [
        "\n",
        "[ 0.05320904 -0.22509749  0.01736573] [-0.85581679]\n",
        "[-0.06472381 -0.01954489 -0.0192213 ] [-1.0299407]\n",
        "[-0.09794679  0.06065282  0.02503922] [-1.31936537]\n",
        "[-0.09031751  0.09787396 -0.182889  ] [-0.87807738]\n",
        "[-0.27728819 -0.55765128 -0.00836015] [ 1.11964474]\n",
        "Android: ad\n",
        "C:1000.000000, score: 0.34"
       ]
      },
      {
       "output_type": "stream",
       "stream": "stdout",
       "text": [
        "\n",
        "C:100.000000, score: 0.34"
       ]
      },
      {
       "output_type": "stream",
       "stream": "stdout",
       "text": [
        "\n",
        "C:10.000000, score: 0.34"
       ]
      },
      {
       "output_type": "stream",
       "stream": "stdout",
       "text": [
        "\n",
        "C:1.000000, score: 0.34"
       ]
      },
      {
       "output_type": "stream",
       "stream": "stdout",
       "text": [
        "\n",
        "C:0.100000, score: 0.34"
       ]
      },
      {
       "output_type": "stream",
       "stream": "stdout",
       "text": [
        "\n",
        "C:0.010000, score: 0.34"
       ]
      },
      {
       "output_type": "stream",
       "stream": "stdout",
       "text": [
        "\n",
        "C:0.001000, score: 0.34"
       ]
      },
      {
       "output_type": "stream",
       "stream": "stdout",
       "text": [
        "\n",
        "C:0.000100, score: 0.34"
       ]
      },
      {
       "output_type": "stream",
       "stream": "stdout",
       "text": [
        "\n",
        "C:0.000010, score: 0.34"
       ]
      },
      {
       "output_type": "stream",
       "stream": "stdout",
       "text": [
        "\n",
        "C:0.000001, score: 0.34"
       ]
      },
      {
       "output_type": "stream",
       "stream": "stdout",
       "text": [
        "\n",
        "C:0.100000, Final scores: 0.34\n"
       ]
      },
      {
       "output_type": "stream",
       "stream": "stdout",
       "text": [
        "\n",
        "[-0.03510734 -0.0058963   0.12061247] [-1.64153288]\n",
        "[-0.08738004 -0.06934735  0.12206103] [-1.32194767]\n",
        "[ 0.01043103  0.0906629  -0.10238425] [-1.4399007]\n",
        "[ 0.06180217  0.02238357 -0.1032353 ] [-2.39722785]\n",
        "[-0.01904514 -0.11510752 -0.09306623] [ 0.02444135]\n",
        "**********\n",
        "**********\n",
        "\n",
        "Sample size: 17102\n",
        "iPhone: time\n",
        "C:1000.000000, score: 0.36"
       ]
      },
      {
       "output_type": "stream",
       "stream": "stdout",
       "text": [
        "\n",
        "C:100.000000, score: 0.36"
       ]
      },
      {
       "output_type": "stream",
       "stream": "stdout",
       "text": [
        "\n",
        "C:10.000000, score: 0.36"
       ]
      },
      {
       "output_type": "stream",
       "stream": "stdout",
       "text": [
        "\n",
        "C:1.000000, score: 0.36"
       ]
      },
      {
       "output_type": "stream",
       "stream": "stdout",
       "text": [
        "\n",
        "C:0.100000, score: 0.36"
       ]
      },
      {
       "output_type": "stream",
       "stream": "stdout",
       "text": [
        "\n",
        "C:0.010000, score: 0.34"
       ]
      },
      {
       "output_type": "stream",
       "stream": "stdout",
       "text": [
        "\n",
        "C:0.001000, score: 0.22"
       ]
      },
      {
       "output_type": "stream",
       "stream": "stdout",
       "text": [
        "\n",
        "C:0.000100, score: 0.21"
       ]
      },
      {
       "output_type": "stream",
       "stream": "stdout",
       "text": [
        "\n",
        "C:0.000010, score: 0.19"
       ]
      },
      {
       "output_type": "stream",
       "stream": "stdout",
       "text": [
        "\n",
        "C:0.000001, score: 0.19"
       ]
      },
      {
       "output_type": "stream",
       "stream": "stdout",
       "text": [
        "\n",
        "C:0.100000, Final scores: 0.37\n"
       ]
      },
      {
       "output_type": "stream",
       "stream": "stdout",
       "text": [
        "\n",
        "[ 0.57991897  0.72652203 -0.01170751] [-5.55101942]\n",
        "[ 0.43579781  0.67017626 -0.0240235 ] [-4.86432033]\n",
        "[ 0.12006397  0.25719641  0.06933238] [-2.79210962]\n",
        "[-0.24398023 -0.28056181  0.04563289] [ 0.08600247]\n",
        "[-0.80738415 -1.70087967 -0.14983779] [ 6.32717216]\n",
        "iPhone: ad\n",
        "C:1000.000000, score: 0.35"
       ]
      },
      {
       "output_type": "stream",
       "stream": "stdout",
       "text": [
        "\n",
        "C:100.000000, score: 0.35"
       ]
      },
      {
       "output_type": "stream",
       "stream": "stdout",
       "text": [
        "\n",
        "C:10.000000, score: 0.35"
       ]
      },
      {
       "output_type": "stream",
       "stream": "stdout",
       "text": [
        "\n",
        "C:1.000000, score: 0.35"
       ]
      },
      {
       "output_type": "stream",
       "stream": "stdout",
       "text": [
        "\n",
        "C:0.100000, score: 0.35"
       ]
      },
      {
       "output_type": "stream",
       "stream": "stdout",
       "text": [
        "\n",
        "C:0.010000, score: 0.35"
       ]
      },
      {
       "output_type": "stream",
       "stream": "stdout",
       "text": [
        "\n",
        "C:0.001000, score: 0.35"
       ]
      },
      {
       "output_type": "stream",
       "stream": "stdout",
       "text": [
        "\n",
        "C:0.000100, score: 0.35"
       ]
      },
      {
       "output_type": "stream",
       "stream": "stdout",
       "text": [
        "\n",
        "C:0.000010, score: 0.35"
       ]
      },
      {
       "output_type": "stream",
       "stream": "stdout",
       "text": [
        "\n",
        "C:0.000001, score: 0.35"
       ]
      },
      {
       "output_type": "stream",
       "stream": "stdout",
       "text": [
        "\n",
        "C:1000.000000, Final scores: 0.35\n"
       ]
      },
      {
       "output_type": "stream",
       "stream": "stdout",
       "text": [
        "\n",
        "[-0.16930708 -0.08675119  0.06379201] [-0.94148076]\n",
        "[-0.11260178  0.00120916  0.00381821] [-0.99942103]\n",
        "[ 0.05236974  0.00399419 -0.09457323] [-1.23576466]\n",
        "[ 0.12680345 -0.13464412 -0.07326495] [-2.57762802]\n",
        "[ 0.12788404  0.0889282   0.04359167] [-1.44544141]\n",
        "**********\n",
        "**********\n",
        "\n",
        "Sample size: 348\n",
        "Apple TV: time\n",
        "C:1000.000000, score: 0.33\n",
        "C:100.000000, score: 0.33"
       ]
      },
      {
       "output_type": "stream",
       "stream": "stdout",
       "text": [
        "\n",
        "C:10.000000, score: 0.33\n",
        "C:1.000000, score: 0.33"
       ]
      },
      {
       "output_type": "stream",
       "stream": "stdout",
       "text": [
        "\n",
        "C:0.100000, score: 0.28\n",
        "C:0.010000, score: 0.22"
       ]
      },
      {
       "output_type": "stream",
       "stream": "stdout",
       "text": [
        "\n",
        "C:0.001000, score: 0.20\n",
        "C:0.000100, score: 0.18"
       ]
      },
      {
       "output_type": "stream",
       "stream": "stdout",
       "text": [
        "\n",
        "C:0.000010, score: 0.18\n",
        "C:0.000001, score: 0.18"
       ]
      },
      {
       "ename": "AttributeError",
       "evalue": "Base estimator doesn't have a coef_ attribute.",
       "output_type": "pyerr",
       "traceback": [
        "\u001b[0;31m---------------------------------------------------------------------------\u001b[0m\n\u001b[0;31mAttributeError\u001b[0m                            Traceback (most recent call last)",
        "\u001b[0;32m<ipython-input-13-af472809ac2f>\u001b[0m in \u001b[0;36m<module>\u001b[0;34m()\u001b[0m\n\u001b[1;32m    155\u001b[0m     \u001b[0mc\u001b[0m\u001b[0;34m.\u001b[0m\u001b[0mplot\u001b[0m\u001b[0;34m(\u001b[0m\u001b[0;34m'iPhone'\u001b[0m\u001b[0;34m)\u001b[0m\u001b[0;34m\u001b[0m\u001b[0m\n\u001b[1;32m    156\u001b[0m \u001b[0;34m\u001b[0m\u001b[0m\n\u001b[0;32m--> 157\u001b[0;31m     \u001b[0mc\u001b[0m\u001b[0;34m.\u001b[0m\u001b[0mplot\u001b[0m\u001b[0;34m(\u001b[0m\u001b[0;34m'Apple TV'\u001b[0m\u001b[0;34m)\u001b[0m\u001b[0;34m\u001b[0m\u001b[0m\n\u001b[0m",
        "\u001b[0;32m<ipython-input-13-af472809ac2f>\u001b[0m in \u001b[0;36mplot\u001b[0;34m(self, p)\u001b[0m\n\u001b[1;32m    140\u001b[0m \u001b[0;34m\u001b[0m\u001b[0m\n\u001b[1;32m    141\u001b[0m         \u001b[0;32mprint\u001b[0m \u001b[0mp\u001b[0m \u001b[0;34m+\u001b[0m \u001b[0;34m\": ad\"\u001b[0m\u001b[0;34m\u001b[0m\u001b[0m\n\u001b[0;32m--> 142\u001b[0;31m         \u001b[0mad_score\u001b[0m\u001b[0;34m,\u001b[0m \u001b[0mad_clf\u001b[0m \u001b[0;34m=\u001b[0m \u001b[0mself\u001b[0m\u001b[0;34m.\u001b[0m\u001b[0mtrain_and_test\u001b[0m\u001b[0;34m(\u001b[0m\u001b[0mfeatures\u001b[0m\u001b[0;34m,\u001b[0m \u001b[0mad_train\u001b[0m\u001b[0;34m)\u001b[0m\u001b[0;34m\u001b[0m\u001b[0m\n\u001b[0m\u001b[1;32m    143\u001b[0m \u001b[0;34m\u001b[0m\u001b[0m\n\u001b[1;32m    144\u001b[0m         \u001b[0;32mprint\u001b[0m \u001b[0;34m\"**********\\n**********\\n\"\u001b[0m\u001b[0;34m\u001b[0m\u001b[0m\n",
        "\u001b[0;32m<ipython-input-13-af472809ac2f>\u001b[0m in \u001b[0;36mtrain_and_test\u001b[0;34m(self, feature, label, n, test_size)\u001b[0m\n\u001b[1;32m    112\u001b[0m         \u001b[0;31m#print confidence\u001b[0m\u001b[0;34m\u001b[0m\u001b[0;34m\u001b[0m\u001b[0m\n\u001b[1;32m    113\u001b[0m         \u001b[0;31m#print \"confidence: %.2f\" %(np.average(abs(confidence)))\u001b[0m\u001b[0;34m\u001b[0m\u001b[0;34m\u001b[0m\u001b[0m\n\u001b[0;32m--> 114\u001b[0;31m         \u001b[0mn\u001b[0m \u001b[0;34m=\u001b[0m \u001b[0mlen\u001b[0m\u001b[0;34m(\u001b[0m\u001b[0mmax_clf\u001b[0m\u001b[0;34m.\u001b[0m\u001b[0mcoef_\u001b[0m\u001b[0;34m)\u001b[0m\u001b[0;34m\u001b[0m\u001b[0m\n\u001b[0m\u001b[1;32m    115\u001b[0m         \u001b[0;32mfor\u001b[0m \u001b[0mi\u001b[0m \u001b[0;32min\u001b[0m \u001b[0mxrange\u001b[0m\u001b[0;34m(\u001b[0m\u001b[0mn\u001b[0m\u001b[0;34m)\u001b[0m\u001b[0;34m:\u001b[0m\u001b[0;34m\u001b[0m\u001b[0m\n\u001b[1;32m    116\u001b[0m             \u001b[0;32mprint\u001b[0m \u001b[0mmax_clf\u001b[0m\u001b[0;34m.\u001b[0m\u001b[0mcoef_\u001b[0m\u001b[0;34m[\u001b[0m\u001b[0mi\u001b[0m\u001b[0;34m]\u001b[0m\u001b[0;34m,\u001b[0m \u001b[0mmax_clf\u001b[0m\u001b[0;34m.\u001b[0m\u001b[0mintercept_\u001b[0m\u001b[0;34m[\u001b[0m\u001b[0mi\u001b[0m\u001b[0;34m]\u001b[0m\u001b[0;34m\u001b[0m\u001b[0m\n",
        "\u001b[0;32m/usr/lib/pymodules/python2.7/sklearn/multiclass.pyc\u001b[0m in \u001b[0;36mcoef_\u001b[0;34m(self)\u001b[0m\n\u001b[1;32m    266\u001b[0m         \u001b[0;32mif\u001b[0m \u001b[0;32mnot\u001b[0m \u001b[0mhasattr\u001b[0m\u001b[0;34m(\u001b[0m\u001b[0mself\u001b[0m\u001b[0;34m.\u001b[0m\u001b[0mestimators_\u001b[0m\u001b[0;34m[\u001b[0m\u001b[0;36m0\u001b[0m\u001b[0;34m]\u001b[0m\u001b[0;34m,\u001b[0m \u001b[0;34m\"coef_\"\u001b[0m\u001b[0;34m)\u001b[0m\u001b[0;34m:\u001b[0m\u001b[0;34m\u001b[0m\u001b[0m\n\u001b[1;32m    267\u001b[0m             raise AttributeError(\n\u001b[0;32m--> 268\u001b[0;31m                 \"Base estimator doesn't have a coef_ attribute.\")\n\u001b[0m\u001b[1;32m    269\u001b[0m         \u001b[0;32mreturn\u001b[0m \u001b[0mnp\u001b[0m\u001b[0;34m.\u001b[0m\u001b[0marray\u001b[0m\u001b[0;34m(\u001b[0m\u001b[0;34m[\u001b[0m\u001b[0me\u001b[0m\u001b[0;34m.\u001b[0m\u001b[0mcoef_\u001b[0m\u001b[0;34m.\u001b[0m\u001b[0mravel\u001b[0m\u001b[0;34m(\u001b[0m\u001b[0;34m)\u001b[0m \u001b[0;32mfor\u001b[0m \u001b[0me\u001b[0m \u001b[0;32min\u001b[0m \u001b[0mself\u001b[0m\u001b[0;34m.\u001b[0m\u001b[0mestimators_\u001b[0m\u001b[0;34m]\u001b[0m\u001b[0;34m)\u001b[0m\u001b[0;34m\u001b[0m\u001b[0m\n\u001b[1;32m    270\u001b[0m \u001b[0;34m\u001b[0m\u001b[0m\n",
        "\u001b[0;31mAttributeError\u001b[0m: Base estimator doesn't have a coef_ attribute."
       ]
      },
      {
       "output_type": "stream",
       "stream": "stdout",
       "text": [
        "\n",
        "C:1.000000, Final scores: 0.33\n",
        "\n",
        "[-0.24580092  0.22371129  0.08056823] [-1.6487641]\n",
        "[-0.03980032  0.04391113  0.05610571] [-1.54170399]\n",
        "[ 0.0829518  -0.0200361  -0.01529797] [-1.51605413]\n",
        "[ 0.10995396  0.16202597 -0.09615938] [-1.91074346]\n",
        "[-0.11815106 -0.66298378 -0.18970552] [ 1.32603145]\n",
        "Apple TV: ad\n",
        "C:1000.000000, score: 1.00\n",
        "C:100.000000, score: 1.00\n",
        "C:10.000000, score: 1.00\n",
        "C:1.000000, score: 1.00\n",
        "C:0.100000, score: 1.00\n",
        "C:0.010000, score: 1.00\n",
        "C:0.001000, score: 1.00\n",
        "C:0.000100, score: 1.00\n",
        "C:0.000010, score: 1.00\n",
        "C:0.000001, score: 1.00\n",
        "C:1000.000000, Final scores: 1.00\n",
        "\n"
       ]
      },
      {
       "output_type": "stream",
       "stream": "stderr",
       "text": [
        "/usr/lib/pymodules/python2.7/sklearn/datasets/svmlight_format.py:136: DeprecationWarning: using a non-integer number instead of an integer will result in an error in the future\n",
        "  return _load_svmlight_file(f, dtype, multilabel, zero_based, query_id)\n"
       ]
      }
     ],
     "prompt_number": 13
    },
    {
     "cell_type": "code",
     "collapsed": false,
     "input": [],
     "language": "python",
     "metadata": {},
     "outputs": []
    }
   ],
   "metadata": {}
  }
 ]
}