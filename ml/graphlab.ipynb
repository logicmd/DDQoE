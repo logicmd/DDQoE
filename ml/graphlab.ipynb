{
 "metadata": {
  "name": "graphlab"
 },
 "nbformat": 3,
 "nbformat_minor": 0,
 "worksheets": [
  {
   "cells": [
    {
     "cell_type": "code",
     "collapsed": false,
     "input": [
      "import graphlab\n",
      "sf = graphlab.SFrame(data='http://graphlab.com/files/datasets/freebase_performances.csv')\n",
      "print sf\n",
      "g = graphlab.Graph()\n",
      "g = g.add_edges(sf, 'actor_name', 'film_name')\n",
      "pr = graphlab.pagerank.create(g)\n",
      "pr.get('pagerank').topk(column_name='pagerank')"
     ],
     "language": "python",
     "metadata": {},
     "outputs": [
      {
       "output_type": "stream",
       "stream": "stderr",
       "text": [
        "[INFO] Start server at: ipc:///tmp/graphlab_server-47341 - Server binary: /usr/local/lib/python2.7/dist-packages/graphlab/unity_server - Server log: /tmp/graphlab_server_1394513158.log\n"
       ]
      },
      {
       "output_type": "stream",
       "stream": "stderr",
       "text": [
        "[INFO] GraphLab Server Version: 0.1.0\n"
       ]
      },
      {
       "output_type": "stream",
       "stream": "stdout",
       "text": [
        "             actor_name                       character  \\\n",
        "0  0  David A. R. White                      Adam Riley   \n",
        "1  1       Lonnie Colon        'Captain' Robert Jackson   \n",
        "2  2        Brad Heller                    Jacob Krause   \n",
        "3  3        Logan White                         Carissa   \n",
        "4  4       Monte Perlin            Commander Fredericks   \n",
        "5  5       John Gilbert                  Peter McCollum   \n",
        "6  6       Kevin Downes                   Charles Baker   \n",
        "7  7          Asad Farr                 Global Chairman   \n",
        "8  8  Don Parker Decker  President of the United States   \n",
        "9  9         Bree Pavey                   Audrey Thomas   \n",
        "\n",
        "                           film_name  year  \n",
        "0  The Moment After 2: The Awakening  2006  \n",
        "1  The Moment After 2: The Awakening  2006  \n",
        "2  The Moment After 2: The Awakening  2006  \n",
        "3  The Moment After 2: The Awakening  2006  \n",
        "4  The Moment After 2: The Awakening  2006  \n",
        "5  The Moment After 2: The Awakening  2006  \n",
        "6  The Moment After 2: The Awakening  2006  \n",
        "7  The Moment After 2: The Awakening  2006  \n",
        "8  The Moment After 2: The Awakening  2006  \n",
        "9  The Moment After 2: The Awakening  2006  \n",
        "\n",
        "...\n",
        "[156468 rows x 5 columns]\n",
        "\n"
       ]
      },
      {
       "html": [
        "<div style=\"max-height:1000px;max-width:1500px;overflow:auto;\">\n",
        "<table border=\"1\" class=\"dataframe\">\n",
        "  <thead>\n",
        "    <tr style=\"text-align: right;\">\n",
        "      <th></th>\n",
        "      <th>__id</th>\n",
        "      <th>pagerank</th>\n",
        "    </tr>\n",
        "  </thead>\n",
        "  <tbody>\n",
        "    <tr>\n",
        "      <th>0</th>\n",
        "      <td>                            Redemption</td>\n",
        "      <td> 11.841677</td>\n",
        "    </tr>\n",
        "    <tr>\n",
        "      <th>1</th>\n",
        "      <td>                             Sharknado</td>\n",
        "      <td> 11.668914</td>\n",
        "    </tr>\n",
        "    <tr>\n",
        "      <th>2</th>\n",
        "      <td>                            The Family</td>\n",
        "      <td> 10.560418</td>\n",
        "    </tr>\n",
        "    <tr>\n",
        "      <th>3</th>\n",
        "      <td>                                  8:46</td>\n",
        "      <td> 10.148118</td>\n",
        "    </tr>\n",
        "    <tr>\n",
        "      <th>4</th>\n",
        "      <td>           Abraham Lincoln vs. Zombies</td>\n",
        "      <td>  9.478747</td>\n",
        "    </tr>\n",
        "    <tr>\n",
        "      <th>5</th>\n",
        "      <td>             Dean Teaster's Ghost Town</td>\n",
        "      <td>  9.190300</td>\n",
        "    </tr>\n",
        "    <tr>\n",
        "      <th>6</th>\n",
        "      <td> How Do You Write a Joe Schermann Song</td>\n",
        "      <td>  9.181248</td>\n",
        "    </tr>\n",
        "    <tr>\n",
        "      <th>7</th>\n",
        "      <td>                          The Showdown</td>\n",
        "      <td>  8.540713</td>\n",
        "    </tr>\n",
        "    <tr>\n",
        "      <th>8</th>\n",
        "      <td>                       Killing Kennedy</td>\n",
        "      <td>  8.526108</td>\n",
        "    </tr>\n",
        "    <tr>\n",
        "      <th>9</th>\n",
        "      <td>                     Meteor Apocalypse</td>\n",
        "      <td>  8.523713</td>\n",
        "    </tr>\n",
        "  </tbody>\n",
        "</table>\n",
        "<p>10 rows \u00d7 2 columns</p>\n",
        "</div>"
       ],
       "output_type": "pyout",
       "prompt_number": 1,
       "text": [
        "                                    __id   pagerank\n",
        "0                             Redemption  11.841677\n",
        "1                              Sharknado  11.668914\n",
        "2                             The Family  10.560418\n",
        "3                                   8:46  10.148118\n",
        "4            Abraham Lincoln vs. Zombies   9.478747\n",
        "5              Dean Teaster's Ghost Town   9.190300\n",
        "6  How Do You Write a Joe Schermann Song   9.181248\n",
        "7                           The Showdown   8.540713\n",
        "8                        Killing Kennedy   8.526108\n",
        "9                      Meteor Apocalypse   8.523713\n",
        "\n",
        "[10 rows x 2 columns]"
       ]
      }
     ],
     "prompt_number": 1
    },
    {
     "cell_type": "code",
     "collapsed": false,
     "input": [],
     "language": "python",
     "metadata": {},
     "outputs": []
    }
   ],
   "metadata": {}
  }
 ]
}