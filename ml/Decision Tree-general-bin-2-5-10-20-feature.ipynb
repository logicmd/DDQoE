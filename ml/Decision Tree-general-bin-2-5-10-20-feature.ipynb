{
 "metadata": {
  "name": "Decision Tree-general-bin-2-5-10-20-feature"
 },
 "nbformat": 3,
 "nbformat_minor": 0,
 "worksheets": [
  {
   "cells": [
    {
     "cell_type": "code",
     "collapsed": false,
     "input": [
      "'''\n",
      "Platform:  \n",
      "{ \n",
      "     iPad: 10264251 \n",
      "     Android: 7512890 \n",
      "     iPhone: 5377486 \n",
      "     Apple TV: 368609 \n",
      "     iPod: 243399 \n",
      "     Mac: 21074 \n",
      "     Windows: 423 \n",
      "     None: 133 \n",
      "}\n",
      "\n",
      "[1, 2, 3, 4, 5, 6, 7, 8],\n",
      "['Apple TV', 'Mac', 'Windows', 'iPad', 'Android', 'iPhone', 'iPod', 'Unknown']\n",
      "'''\n",
      "import numpy as np\n",
      "import matplotlib.pyplot as plt\n",
      "from sklearn.cross_validation import cross_val_score\n",
      "from sklearn.datasets import load_svmlight_file\n",
      "from sklearn.cross_validation import train_test_split, KFold\n",
      "\n",
      "\n",
      "from sklearn import tree\n",
      "from six import StringIO  \n",
      "import os\n",
      "\n",
      "platform = { \n",
      "                   'All': -1,\n",
      "                   'AllWithFeature': -2,\n",
      "                   'Apple TV': 1, \n",
      "                   'Mac': 2, \n",
      "                   'Windows': 3, \n",
      "                   'iPad': 4, \n",
      "                   'Android': 5, \n",
      "                   'iPhone': 6, \n",
      "                   'iPod' : 7, \n",
      "                   'None' :8, \n",
      "                }\n",
      "\n",
      "metric_list = ['Watching Lasting Time(s)',\n",
      "               'Ad Ratio',\n",
      "               'Avg Bitrate(kbps)',\n",
      "               'Switch(per hour)',\n",
      "               'Initial Time(\\'o clock)']\n",
      "\n",
      "metric = {\n",
      "                  'Watching Lasting Time(s)': 0,\n",
      "                  'Ad Ratio': 1,\n",
      "                  'Avg Bitrate(kbps)': 2,\n",
      "                  'Switch(per hour)': 3,\n",
      "                  'Initial Time(\\'o clock)': 5\n",
      "              }\n",
      "train = None\n",
      "\n",
      "bins = {\n",
      "            'Watching Lasting Time(s)': [0, 130500, 261000],\n",
      "            'Ad Ratio': [0, 0.5, 1.1],\n",
      "            'Avg Bitrate(kbps)': [0, 1250, 2500],\n",
      "            'Switch(per hour)': [0, 30, 61],\n",
      "            'Initial Time(\\'o clock)': [0, 12, 24]\n",
      "}\n",
      "        \n",
      "\n",
      "class dt:\n",
      "\n",
      "    def __init__(self):\n",
      "        global train\n",
      "        \n",
      "        X_train, y_train = load_svmlight_file('./data/time_train4')\n",
      "        X_train, y_train2 = load_svmlight_file('./data/ad_train4')\n",
      "        X_train = X_train.toarray()\n",
      "        train = np.column_stack((y_train, y_train2, X_train))\n",
      "\n",
      "    def output(self, file_name, clf):\n",
      "        with open(file_name+\".dot\", 'w') as f:\n",
      "            f = tree.export_graphviz(clf, out_file=f)\n",
      "            os.system(\"dot -Tpdf \" + file_name +\".dot\" + \" -o \" + file_name + \".pdf\")\n",
      "\n",
      "    def train_and_test(self, feature, label, n=10, test_size=0.1):\n",
      "        scores = []\n",
      "        max_score = -1\n",
      "        max_clf = None\n",
      "        \n",
      "        kf = KFold(n=label.shape[0], n_folds=5)\n",
      "        for train_index, test_index in kf:\n",
      "            feature_train, feature_test = feature[train_index], feature[test_index]\n",
      "            label_train, label_test = label[train_index], label[test_index]\n",
      "\n",
      "            clf = tree.DecisionTreeClassifier()\n",
      "            clf = clf.fit(feature_train, label_train)\n",
      "            score = clf.score(feature_test, label_test)\n",
      "            if score > max_score:\n",
      "                max_score = score\n",
      "                max_clf = clf\n",
      "            scores.append(score)\n",
      "        print \"scores: \" + str(scores)\n",
      "        return np.average(scores), max_clf\n",
      "            \n",
      "    def plot(self, p):\n",
      "        global platform\n",
      "        global metric\n",
      "        global train\n",
      "        \n",
      "        if platform[p] == platform['AllWithFeature']:\n",
      "            mat = np.zeros((train[:,:].shape[0],6))\n",
      "            mat[:,5] = train[:,4]\n",
      "        elif platform[p] == platform['All']:\n",
      "            mat = np.zeros((train[:,:].shape[0],5))\n",
      "        else:\n",
      "            mat = np.zeros((train[train[:,4]==platform[p],:].shape[0],5))\n",
      "        for idx, m in enumerate(metric_list):\n",
      "\n",
      "            if platform[p] == platform['AllWithFeature'] or platform[p] == platform['All'] :\n",
      "                mat[:, idx] = numpy.digitize(train[:, metric[m]], bins[m])\n",
      "            else:\n",
      "                mat[:, idx] = numpy.digitize(train[train[:,4]==platform[p], metric[m]], bins[m])\n",
      "            \n",
      "            #print \"%f\\t%f\" %(np.amax(train[train[:,4]==platform[p], metric[m]]), np.amax(mat[:, idx]))\n",
      "        \n",
      "        print \"%%%%%%%%%%%%%%%%%%%%%%%%\"\n",
      "        \n",
      "        print 'Sample size: ' + str(mat.shape[0])\n",
      "        \n",
      "        time_train = mat[:, 0]\n",
      "        ad_train = mat[:, 1]\n",
      "        if platform[p] == platform['AllWithFeature']:\n",
      "            features = mat[:, 2:6]\n",
      "        else:\n",
      "            features = mat[:, 2:5]\n",
      "        \n",
      "        print p + \": time\"\n",
      "        time_score, time_clf = self.train_and_test(features, time_train)\n",
      "        print \"Average scores:\" + str(time_score)\n",
      "        print \"Importance:\" + str(time_clf.feature_importances_)\n",
      "        \n",
      "        print p + \": ad\"\n",
      "        ad_score, ad_clf = self.train_and_test(features, ad_train)\n",
      "        print \"Average scores:\" + str(ad_score)\n",
      "        print \"Importance:\" + str(ad_clf.feature_importances_)\n",
      "        \n",
      "        time_file_name = \"./decision_tree_new_feature/\"+ p + \"_time\"\n",
      "        \n",
      "        \n",
      "        #with open(time_file_name+\".dot\", 'w') as f:\n",
      "        #    f = tree.export_graphviz(time_clf, out_file=f, feature_names=['average bitrate', 'switch time', 'initial time'])\n",
      "            \n",
      "        #ad_file_name = \"./decision_tree_new/\"+ p + \"_ad\"\n",
      "        #with open(ad_file_name+\".dot\", 'w') as f:\n",
      "        #    f = tree.export_graphviz(ad_clf, out_file=f, feature_names=['average bitrate', 'switch time', 'initial time'])\n",
      "            \n",
      "        #with open('./decision_tree_new/convert.sh', 'a') as ff:\n",
      "        #   \n",
      "        #    ff.write(\"dot -Tpdf \" + p + \"_time\" +\".dot\" + \" -o \" + p + \"_time\" + \".pdf\\n\")\n",
      "        #    ff.write(\"dot -Tpdf \" + p + \"_ad\" +\".dot\" + \" -o \" + p + \"_ad\" + \".pdf\\n\") \n",
      "        \n",
      "        print \"%%%%%%%%%%%%%%%%%%%%%%%%\"\n",
      "        \n",
      "        return time_score, ad_score\n",
      "        \n",
      "\n",
      "if __name__ == '__main__':\n",
      "    with open('./decision_tree/convert.sh', 'w') as ff:\n",
      "         ff.write(\"#!/bin/sh\\n\")\n",
      "\n",
      "    c = dt()\n",
      "    \n",
      "    c.plot('All')\n",
      "    \n",
      "    c.plot('AllWithFeature')\n",
      "    \n",
      "    t = []\n",
      "    a = []\n",
      "    \n",
      "    time, ad = c.plot('iPad')\n",
      "    t.append(time)\n",
      "    a.append(ad)\n",
      "    \n",
      "    time, ad = c.plot('iPhone')\n",
      "    t.append(time)\n",
      "    a.append(ad)\n",
      "    \n",
      "    time, ad = c.plot('Android')\n",
      "    t.append(time)\n",
      "    a.append(ad)\n",
      "    \n",
      "    time, ad = c.plot('Apple TV')\n",
      "    t.append(time)\n",
      "    a.append(ad)\n",
      "    \n",
      "    print \"time: \" + str(t[0]*23415/55478+ t[1]*17102/55478+t[2]*13760/55478+t[3]*348/55478)\n",
      "    print \"ad: \" + str(a[0]*23415/55478+ a[1]*17102/55478+a[2]*13760/55478+a[3]*348/55478)"
     ],
     "language": "python",
     "metadata": {},
     "outputs": [
      {
       "output_type": "stream",
       "stream": "stdout",
       "text": [
        "%%%%%%%%%%%%%%%%%%%%%%%%\n",
        "Sample size: 55478\n",
        "All: time\n",
        "scores: [0.96304974765681328, 0.96205839942321558, 0.96241888968997835, 0.96566020730058588, 0.96313654799459214]"
       ]
      },
      {
       "output_type": "stream",
       "stream": "stdout",
       "text": [
        "\n",
        "Average scores:0.963264758413\n",
        "Importance:[  2.42179053e-01   1.88674452e-04   7.57632273e-01]\n",
        "All: ad\n",
        "scores: [0.64717015140591205, 0.64717015140591205, 0.65555155010814703, 0.64335286164939165, 0.64840018026137902]"
       ]
      },
      {
       "output_type": "stream",
       "stream": "stdout",
       "text": [
        "\n",
        "Average scores:0.648328978966\n",
        "Importance:[ 0.9600697   0.01229609  0.02763421]\n",
        "%%%%%%%%%%%%%%%%%%%%%%%%\n",
        "%%%%%%%%%%%%%%%%%%%%%%%%\n",
        "Sample size: 55478\n",
        "AllWithFeature: time\n",
        "scores: [0.96304974765681328, 0.96205839942321558, 0.96241888968997835, 0.96566020730058588, 0.96313654799459214]"
       ]
      },
      {
       "output_type": "stream",
       "stream": "stdout",
       "text": [
        "\n",
        "Average scores:0.963264758413\n",
        "Importance:[  6.13085826e-03   1.66474816e-04   3.87619409e-01   6.06083258e-01]\n",
        "AllWithFeature: ad\n",
        "scores: [0.73567051189617882, 0.73801369863013699, 0.74080749819754865, 0.73528616493916177, 0.72969806219017574]"
       ]
      },
      {
       "output_type": "stream",
       "stream": "stdout",
       "text": [
        "\n",
        "Average scores:0.735895187171\n",
        "Importance:[ 0.00898362  0.00173611  0.00207893  0.98720134]\n",
        "%%%%%%%%%%%%%%%%%%%%%%%%\n",
        "%%%%%%%%%%%%%%%%%%%%%%%%\n",
        "Sample size: 23415\n",
        "iPad: time\n",
        "scores: [0.97992739696775566, 0.97651078368567157, 0.9762972453555413, 0.98270339525944905, 0.97907324364723469]"
       ]
      },
      {
       "output_type": "stream",
       "stream": "stdout",
       "text": [
        "\n",
        "Average scores:0.978902412983\n",
        "Importance:[  6.12581352e-02   6.10834714e-05   9.38680781e-01]\n",
        "iPad: ad\n",
        "scores: [0.74653000213538334, 0.73563954729874015, 0.75165492205850948, 0.73563954729874015, 0.74225923553277817]\n",
        "Average scores:0.742344650865\n",
        "Importance:[ 0.93365963  0.06141148  0.0049289 ]\n",
        "%%%%%%%%%%%%%%%%%%%%%%%%\n",
        "%%%%%%%%%%%%%%%%%%%%%%%%"
       ]
      },
      {
       "output_type": "stream",
       "stream": "stdout",
       "text": [
        "\n",
        "Sample size: 17102\n",
        "iPhone: time\n",
        "scores: [0.97895352236188249, 0.97866121017246421, 0.97894736842105268, 0.97748538011695907, 0.98245614035087714]\n",
        "Average scores:0.979300724285\n",
        "Importance:[  0.00000000e+00   8.74369042e-05   9.99912563e-01]\n",
        "iPhone: ad\n",
        "scores: [0.76848874598070738, 0.78515054077755042, 0.79005847953216379, 0.7792397660818714, 0.77192982456140347]"
       ]
      },
      {
       "output_type": "stream",
       "stream": "stdout",
       "text": [
        "\n",
        "Average scores:0.778973471387\n",
        "Importance:[ 0.          0.80379381  0.19620619]\n",
        "%%%%%%%%%%%%%%%%%%%%%%%%\n",
        "%%%%%%%%%%%%%%%%%%%%%%%%\n",
        "Sample size: 13760\n",
        "Android: time\n",
        "scores: [0.91097383720930236, 0.91424418604651159, 0.91715116279069764, 0.92405523255813948, 0.91061046511627908]"
       ]
      },
      {
       "output_type": "stream",
       "stream": "stdout",
       "text": [
        "\n",
        "Average scores:0.915406976744\n",
        "Importance:[  5.10934484e-03   6.60897584e-04   9.94229758e-01]\n",
        "Android: ad\n",
        "scores: [0.66860465116279066, 0.67151162790697672, 0.65770348837209303, 0.67005813953488369, 0.64861918604651159]\n",
        "Average scores:0.663299418605\n",
        "Importance:[ 0.04312393  0.08224426  0.8746318 ]\n",
        "%%%%%%%%%%%%%%%%%%%%%%%%\n",
        "%%%%%%%%%%%%%%%%%%%%%%%%\n",
        "Sample size: 348\n",
        "Apple TV: time\n",
        "scores: [0.98571428571428577, 0.97142857142857142, 0.97142857142857142, 0.98550724637681164, 0.95652173913043481]\n",
        "Average scores:0.974120082816\n",
        "Importance:[  2.86853993e-01   2.32550453e-04   7.12913456e-01]"
       ]
      },
      {
       "output_type": "stream",
       "stream": "stdout",
       "text": [
        "\n",
        "Apple TV: ad\n",
        "scores: [1.0, 1.0, 1.0, 1.0, 1.0]\n",
        "Average scores:1.0\n",
        "Importance:[ 0.  0.  0.]\n",
        "%%%%%%%%%%%%%%%%%%%%%%%%\n",
        "time: 0.948195586999\n",
        "ad: 0.724233106955\n"
       ]
      }
     ],
     "prompt_number": 12
    },
    {
     "cell_type": "code",
     "collapsed": false,
     "input": [
      "bins = {\n",
      "            'Watching Lasting Time(s)': [0, 52000, 104000, 156000, 208000, 261000],\n",
      "            'Ad Ratio': [0, 0.2, 0.4, 0.6, 0.8, 1.1],\n",
      "            'Avg Bitrate(kbps)': [0, 500, 1000, 1500, 2000, 2500],\n",
      "            'Switch(per hour)': [0, 12, 24, 36, 48, 61],\n",
      "            'Initial Time(\\'o clock)': [0, 4.8, 9.6, 14.4, 19.2, 24]\n",
      "}\n",
      "\n",
      "if __name__ == '__main__':\n",
      "\n",
      "    c = dt()\n",
      "    \n",
      "    c.plot('All')\n",
      "    \n",
      "    c.plot('AllWithFeature')\n",
      "    \n",
      "    t = []\n",
      "    a = []\n",
      "    \n",
      "    time, ad = c.plot('iPad')\n",
      "    t.append(time)\n",
      "    a.append(ad)\n",
      "    \n",
      "    time, ad = c.plot('iPhone')\n",
      "    t.append(time)\n",
      "    a.append(ad)\n",
      "    \n",
      "    time, ad = c.plot('Android')\n",
      "    t.append(time)\n",
      "    a.append(ad)\n",
      "    \n",
      "    time, ad = c.plot('Apple TV')\n",
      "    t.append(time)\n",
      "    a.append(ad)\n",
      "    \n",
      "    print \"time: \" + str(t[0]*23415/55478+ t[1]*17102/55478+t[2]*13760/55478+t[3]*348/55478)\n",
      "    print \"ad: \" + str(a[0]*23415/55478+ a[1]*17102/55478+a[2]*13760/55478+a[3]*348/55478)\n"
     ],
     "language": "python",
     "metadata": {},
     "outputs": [
      {
       "output_type": "stream",
       "stream": "stdout",
       "text": [
        "%%%%%%%%%%%%%%%%%%%%%%%%\n",
        "Sample size: 55478\n",
        "All: time\n",
        "scores: [0.91888968997837062, 0.91420331651045417, 0.91510454217736126, 0.9190626408292023, 0.91347453808021628]"
       ]
      },
      {
       "output_type": "stream",
       "stream": "stdout",
       "text": [
        "\n",
        "Average scores:0.916146945515\n",
        "Importance:[ 0.0624371   0.00193633  0.93562657]\n",
        "All: ad\n",
        "scores: [0.46692501802451336, 0.46818673395818311, 0.4716113914924297, 0.46237043713384407, 0.46642631816133395]"
       ]
      },
      {
       "output_type": "stream",
       "stream": "stdout",
       "text": [
        "\n",
        "Average scores:0.467103979754\n",
        "Importance:[ 0.8893682   0.02231456  0.08831724]\n",
        "%%%%%%%%%%%%%%%%%%%%%%%%\n",
        "%%%%%%%%%%%%%%%%%%%%%%%%\n",
        "Sample size: 55478\n",
        "AllWithFeature: time\n",
        "scores: [0.9187995674116799, 0.91429343907714489, 0.91510454217736126, 0.9190626408292023, 0.91347453808021628]"
       ]
      },
      {
       "output_type": "stream",
       "stream": "stdout",
       "text": [
        "\n",
        "Average scores:0.916146945515\n",
        "Importance:[ 0.03278405  0.00308303  0.73432779  0.22980513]\n",
        "AllWithFeature: ad\n",
        "scores: [0.60301009372746939, 0.60048666186012978, 0.60967916366258113, 0.59900856241550249, 0.60576836412798563]"
       ]
      },
      {
       "output_type": "stream",
       "stream": "stdout",
       "text": [
        "\n",
        "Average scores:0.603590569159\n",
        "Importance:[ 0.03393103  0.003994    0.02174967  0.9403253 ]\n",
        "%%%%%%%%%%%%%%%%%%%%%%%%\n",
        "%%%%%%%%%%%%%%%%%%%%%%%%\n",
        "Sample size: 23415\n",
        "iPad: time\n",
        "scores: [0.93572496263079219, 0.93188127268844756, 0.9323083493487081, 0.93593850096092246, 0.93209481101857783]"
       ]
      },
      {
       "output_type": "stream",
       "stream": "stdout",
       "text": [
        "\n",
        "Average scores:0.933589579329\n",
        "Importance:[  4.72264326e-02   6.88953876e-04   9.52084614e-01]\n",
        "iPad: ad\n",
        "scores: [0.62310484732009397, 0.61434977578475336, 0.63335468716634635, 0.61797992739696772, 0.62737561392269914]"
       ]
      },
      {
       "output_type": "stream",
       "stream": "stdout",
       "text": [
        "\n",
        "Average scores:0.623232970318\n",
        "Importance:[ 0.67681782  0.03837541  0.28480677]\n",
        "%%%%%%%%%%%%%%%%%%%%%%%%\n",
        "%%%%%%%%%%%%%%%%%%%%%%%%\n",
        "Sample size: 17102\n",
        "iPhone: time\n",
        "scores: [0.94884536685179777, 0.94709149371528789, 0.94999999999999996, 0.95175438596491224, 0.94619883040935671]"
       ]
      },
      {
       "output_type": "stream",
       "stream": "stdout",
       "text": [
        "\n",
        "Average scores:0.948778015388\n",
        "Importance:[  1.76815758e-02   4.42846293e-04   9.81875578e-01]\n",
        "iPhone: ad\n",
        "scores: [0.6080093539900614, 0.6237942122186495, 0.6166666666666667, 0.60233918128654973, 0.59707602339181287]\n",
        "Average scores:0.609577087511\n",
        "Importance:[ 0.68519917  0.08927053  0.2255303 ]\n",
        "%%%%%%%%%%%%%%%%%%%%%%%%\n",
        "%%%%%%%%%%%%%%%%%%%%%%%%"
       ]
      },
      {
       "output_type": "stream",
       "stream": "stdout",
       "text": [
        "\n",
        "Sample size: 13760\n",
        "Android: time\n",
        "scores: [0.8495639534883721, 0.84011627906976749, 0.84156976744186052, 0.85029069767441856, 0.83975290697674421]\n",
        "Average scores:0.84425872093\n",
        "Importance:[ 0.05000375  0.01049921  0.93949704]\n",
        "Android: ad\n",
        "scores: [0.55414244186046513, 0.53415697674418605, 0.55377906976744184, 0.55159883720930236, 0.56976744186046513]"
       ]
      },
      {
       "output_type": "stream",
       "stream": "stdout",
       "text": [
        "\n",
        "Average scores:0.552688953488\n",
        "Importance:[ 0.23893653  0.17869226  0.58237122]\n",
        "%%%%%%%%%%%%%%%%%%%%%%%%\n",
        "%%%%%%%%%%%%%%%%%%%%%%%%\n",
        "Sample size: 348\n",
        "Apple TV: time\n",
        "scores: [0.9285714285714286, 0.9285714285714286, 0.95714285714285718, 0.92753623188405798, 0.92753623188405798]\n",
        "Average scores:0.933871635611\n",
        "Importance:[ 0.39089338  0.          0.60910662]\n",
        "Apple TV: ad\n",
        "scores: [1.0, 1.0, 1.0, 1.0, 1.0]\n",
        "Average scores:1.0\n",
        "Importance:[ 0.  0.  0.]\n",
        "%%%%%%%%%%%%%%%%%%%%%%%%\n",
        "time: 0.901762661746\n",
        "ad: 0.594307425477\n"
       ]
      }
     ],
     "prompt_number": 13
    },
    {
     "cell_type": "code",
     "collapsed": false,
     "input": [
      "bins = {\n",
      "            'Watching Lasting Time(s)': [0, 26000, 52000, 78000, 104000, 130000, 156000, 182000, 208000, 234000, 261000],\n",
      "            'Ad Ratio': [0, 0.1, 0.2, 0.3, 0.4, 0.5, 0.6, 0.7, 0.8, 0.9, 1.1],\n",
      "            'Avg Bitrate(kbps)': [0, 250, 500, 750, 1000, 1250, 1500, 1750, 2000, 2250, 2500],\n",
      "            'Switch(per hour)': [0, 6, 12, 18, 24, 30, 36, 42, 48, 54, 61],\n",
      "            'Initial Time(\\'o clock)': [0, 2.4, 4.8, 7.2, 9.6, 12.0, 14.4, 16.8, 19.2, 21.6, 24]\n",
      "}\n",
      "\n",
      "if __name__ == '__main__':\n",
      "\n",
      "    c = dt()\n",
      "    \n",
      "    c.plot('All')\n",
      "    \n",
      "    c.plot('AllWithFeature')\n",
      "    \n",
      "    t = []\n",
      "    a = []\n",
      "    \n",
      "    time, ad = c.plot('iPad')\n",
      "    t.append(time)\n",
      "    a.append(ad)\n",
      "    \n",
      "    time, ad = c.plot('iPhone')\n",
      "    t.append(time)\n",
      "    a.append(ad)\n",
      "    \n",
      "    time, ad = c.plot('Android')\n",
      "    t.append(time)\n",
      "    a.append(ad)\n",
      "    \n",
      "    time, ad = c.plot('Apple TV')\n",
      "    t.append(time)\n",
      "    a.append(ad)\n",
      "    \n",
      "    print \"time: \" + str(t[0]*23415/55478+ t[1]*17102/55478+t[2]*13760/55478+t[3]*348/55478)\n",
      "    print \"ad: \" + str(a[0]*23415/55478+ a[1]*17102/55478+a[2]*13760/55478+a[3]*348/55478)"
     ],
     "language": "python",
     "metadata": {},
     "outputs": [
      {
       "output_type": "stream",
       "stream": "stdout",
       "text": [
        "%%%%%%%%%%%%%%%%%%%%%%%%\n",
        "Sample size: 55478\n",
        "All: time\n",
        "scores: [0.86247296322999278, 0.8550829127613554, 0.86112112472963231, 0.85723298783235691, 0.85867507886435335]"
       ]
      },
      {
       "output_type": "stream",
       "stream": "stdout",
       "text": [
        "\n",
        "Average scores:0.858917013484\n",
        "Importance:[ 0.11034902  0.00970248  0.87994849]\n",
        "All: ad\n",
        "scores: [0.38049747656813265, 0.37770367700072099, 0.38148882480173035, 0.37269040108156826, 0.37530419107706176]"
       ]
      },
      {
       "output_type": "stream",
       "stream": "stdout",
       "text": [
        "\n",
        "Average scores:0.377536914106\n",
        "Importance:[ 0.73769324  0.04632991  0.21597685]\n",
        "%%%%%%%%%%%%%%%%%%%%%%%%\n",
        "%%%%%%%%%%%%%%%%%%%%%%%%\n",
        "Sample size: 55478\n",
        "AllWithFeature: time\n",
        "scores: [0.86211247296323001, 0.85463229992790191, 0.86076063446286954, 0.85678233438485807, 0.85831455610635421]"
       ]
      },
      {
       "output_type": "stream",
       "stream": "stdout",
       "text": [
        "\n",
        "Average scores:0.858520459569\n",
        "Importance:[ 0.1018568   0.01113309  0.77515905  0.11185106]\n",
        "AllWithFeature: ad\n",
        "scores: [0.44637707281903388, 0.4422314347512617, 0.44691780821917809, 0.43902658855340243, 0.44443442992338894]"
       ]
      },
      {
       "output_type": "stream",
       "stream": "stdout",
       "text": [
        "\n",
        "Average scores:0.443797466853\n",
        "Importance:[ 0.07380063  0.01272863  0.07031321  0.84315754]\n",
        "%%%%%%%%%%%%%%%%%%%%%%%%\n",
        "%%%%%%%%%%%%%%%%%%%%%%%%\n",
        "Sample size: 23415\n",
        "iPad: time\n",
        "scores: [0.86846038863976083, 0.86248131539611361, 0.86952808029041218, 0.86568439034806743, 0.86483023702754647]"
       ]
      },
      {
       "output_type": "stream",
       "stream": "stdout",
       "text": [
        "\n",
        "Average scores:0.86619688234\n",
        "Importance:[ 0.06680934  0.00131562  0.93187503]\n",
        "iPad: ad\n",
        "scores: [0.49839846252402309, 0.48878923766816146, 0.49797138586376255, 0.49113815929959426, 0.4986120008541533]"
       ]
      },
      {
       "output_type": "stream",
       "stream": "stdout",
       "text": [
        "\n",
        "Average scores:0.494981849242\n",
        "Importance:[ 0.53040188  0.05084647  0.41875165]\n",
        "%%%%%%%%%%%%%%%%%%%%%%%%\n",
        "%%%%%%%%%%%%%%%%%%%%%%%%\n",
        "Sample size: 17102\n",
        "iPhone: time\n",
        "scores: [0.90529085062847126, 0.8968137971353406, 0.90760233918128652, 0.90116959064327484, 0.90614035087719302]"
       ]
      },
      {
       "output_type": "stream",
       "stream": "stdout",
       "text": [
        "\n",
        "Average scores:0.903403385693\n",
        "Importance:[ 0.08278063  0.00098997  0.91622941]\n",
        "iPhone: ad\n",
        "scores: [0.48728441976030401, 0.49488453668517979, 0.48947368421052634, 0.48274853801169593, 0.4801169590643275]"
       ]
      },
      {
       "output_type": "stream",
       "stream": "stdout",
       "text": [
        "\n",
        "Average scores:0.486901627546\n",
        "Importance:[ 0.52503621  0.05411949  0.4208443 ]\n",
        "%%%%%%%%%%%%%%%%%%%%%%%%\n",
        "%%%%%%%%%%%%%%%%%%%%%%%%\n",
        "Sample size: 13760\n",
        "Android: time\n",
        "scores: [0.79941860465116277, 0.78633720930232553, 0.78452034883720934, 0.78960755813953487, 0.78670058139534882]"
       ]
      },
      {
       "output_type": "stream",
       "stream": "stdout",
       "text": [
        "\n",
        "Average scores:0.789316860465\n",
        "Importance:[ 0.19915799  0.03979507  0.76104694]\n",
        "Android: ad\n",
        "scores: [0.29396802325581395, 0.27688953488372092, 0.29178779069767441, 0.28633720930232559, 0.29215116279069769]"
       ]
      },
      {
       "output_type": "stream",
       "stream": "stdout",
       "text": [
        "\n",
        "Average scores:0.288226744186\n",
        "Importance:[ 0.39755281  0.1581613   0.44428589]\n",
        "%%%%%%%%%%%%%%%%%%%%%%%%\n",
        "%%%%%%%%%%%%%%%%%%%%%%%%\n",
        "Sample size: 348\n",
        "Apple TV: time\n",
        "scores: [0.81428571428571428, 0.84285714285714286, 0.91428571428571426, 0.85507246376811596, 0.86956521739130432]\n",
        "Average scores:0.859213250518\n",
        "Importance:[ 0.48820032  0.          0.51179968]\n",
        "Apple TV: ad\n",
        "scores: [1.0, 1.0, 1.0, 1.0, 1.0]\n",
        "Average scores:1.0\n",
        "Importance:[ 0.  0.  0.]\n",
        "%%%%%%%%%%%%%%%%%%%%%%%%\n",
        "time: 0.845236146099\n",
        "ad: 0.436767576955\n"
       ]
      }
     ],
     "prompt_number": 15
    },
    {
     "cell_type": "code",
     "collapsed": false,
     "input": [
      "bins = {\n",
      "            'Watching Lasting Time(s)': [0, 13000, 26000, 39000, 52000, 65000, 78000, 91000, 104000, 117000, 130000, 143000, 156000, 169000, 182000, 195000, 208000, 234000, 261000],\n",
      "            'Ad Ratio': [0, 0.05, 0.1, 0.15, 0.2, 0.25, 0.3, 0.35, 0.4, 0.45, 0.5, 0.55, 0.6, 0.65, 0.7, 0.75, 0.8, 0.85, 0.9, 0.95, 1.1],\n",
      "            'Avg Bitrate(kbps)': [0, 125, 250, 375, 500, 615, 750, 875, 1000, 1125, 1250, 1375, 1500, 1625, 1750, 1875, 2000, 2125, 2250, 2375, 2500],\n",
      "            'Switch(per hour)': [0, 6, 12, 18, 24, 30, 36, 42, 48, 54, 61],\n",
      "            'Initial Time(\\'o clock)': [0, 1.2, 2.4, 3.6, 4.8, 6.0, 7.2, 8.4, 9.6, 10.8, 12.0, 13.2, 14.4, 15.6, 16.8, 18.0, 19.2, 20.8, 21.6, 22.8, 24]\n",
      "}\n",
      "\n",
      "\n",
      "if __name__ == '__main__':\n",
      "\n",
      "    c = dt()\n",
      "    \n",
      "    c.plot('All')\n",
      "    \n",
      "    c.plot('AllWithFeature')\n",
      "    \n",
      "    t = []\n",
      "    a = []\n",
      "    \n",
      "    time, ad = c.plot('iPad')\n",
      "    t.append(time)\n",
      "    a.append(ad)\n",
      "    \n",
      "    time, ad = c.plot('iPhone')\n",
      "    t.append(time)\n",
      "    a.append(ad)\n",
      "    \n",
      "    time, ad = c.plot('Android')\n",
      "    t.append(time)\n",
      "    a.append(ad)\n",
      "    \n",
      "    time, ad = c.plot('Apple TV')\n",
      "    t.append(time)\n",
      "    a.append(ad)\n",
      "    \n",
      "    print \"time: \" + str(t[0]*23415/55478+ t[1]*17102/55478+t[2]*13760/55478+t[3]*348/55478)\n",
      "    print \"ad: \" + str(a[0]*23415/55478+ a[1]*17102/55478+a[2]*13760/55478+a[3]*348/55478)"
     ],
     "language": "python",
     "metadata": {},
     "outputs": [
      {
       "output_type": "stream",
       "stream": "stdout",
       "text": [
        "%%%%%%%%%%%%%%%%%%%%%%%%\n",
        "Sample size: 55478\n",
        "All: time\n",
        "scores: [0.77901946647440523, 0.77451333813987022, 0.77649603460706562, 0.77972059486255074, 0.77755745831455614]"
       ]
      },
      {
       "output_type": "stream",
       "stream": "stdout",
       "text": [
        "\n",
        "Average scores:0.77746137848\n",
        "Importance:[ 0.21059361  0.01845457  0.77095182]\n",
        "All: ad\n",
        "scores: [0.31290555155010813, 0.3084895457822639, 0.30939077144917088, 0.3049121225777377, 0.31013970256872464]"
       ]
      },
      {
       "output_type": "stream",
       "stream": "stdout",
       "text": [
        "\n",
        "Average scores:0.309167538786\n",
        "Importance:[ 0.60333272  0.04953195  0.34713533]\n",
        "%%%%%%%%%%%%%%%%%%%%%%%%\n",
        "%%%%%%%%%%%%%%%%%%%%%%%%\n",
        "Sample size: 55478\n",
        "AllWithFeature: time\n",
        "scores: [0.77694664744051911, 0.77253064167267482, 0.77505407354001443, 0.77818837314105449, 0.7761153672825597]"
       ]
      },
      {
       "output_type": "stream",
       "stream": "stdout",
       "text": [
        "\n",
        "Average scores:0.775767020615\n",
        "Importance:[ 0.20886644  0.01712161  0.63907838  0.13493357]\n",
        "AllWithFeature: ad\n",
        "scores: [0.36625811103100214, 0.35913842826243692, 0.3632840663302091, 0.3598017124831005, 0.36593059936908517]"
       ]
      },
      {
       "output_type": "stream",
       "stream": "stdout",
       "text": [
        "\n",
        "Average scores:0.362882583495\n",
        "Importance:[ 0.14816732  0.01644683  0.16216409  0.67322176]\n",
        "%%%%%%%%%%%%%%%%%%%%%%%%\n",
        "%%%%%%%%%%%%%%%%%%%%%%%%\n",
        "Sample size: 23415\n",
        "iPad: time\n",
        "scores: [0.77236814008114452, 0.77300875507153533, 0.77877428998505227, 0.78048259662609443, 0.77599829169335899]"
       ]
      },
      {
       "output_type": "stream",
       "stream": "stdout",
       "text": [
        "\n",
        "Average scores:0.776126414691\n",
        "Importance:[ 0.24841672  0.00617336  0.74540992]\n",
        "iPad: ad\n",
        "scores: [0.38650437753576766, 0.38394191757420459, 0.38565022421524664, 0.38052530429212045, 0.39205637411915439]"
       ]
      },
      {
       "output_type": "stream",
       "stream": "stdout",
       "text": [
        "\n",
        "Average scores:0.385735639547\n",
        "Importance:[ 0.47663817  0.02858106  0.49478078]\n",
        "%%%%%%%%%%%%%%%%%%%%%%%%\n",
        "%%%%%%%%%%%%%%%%%%%%%%%%\n",
        "Sample size: 17102\n",
        "iPhone: time\n",
        "scores: [0.83367436422098806, 0.82841274481145866, 0.83859649122807023, 0.83362573099415205, 0.83654970760233915]"
       ]
      },
      {
       "output_type": "stream",
       "stream": "stdout",
       "text": [
        "\n",
        "Average scores:0.834171807771\n",
        "Importance:[ 0.14017758  0.00194281  0.8578796 ]\n",
        "iPhone: ad\n",
        "scores: [0.41245249926921951, 0.40456007015492546, 0.40847953216374266, 0.39883040935672515, 0.40058479532163743]"
       ]
      },
      {
       "output_type": "stream",
       "stream": "stdout",
       "text": [
        "\n",
        "Average scores:0.404981461253\n",
        "Importance:[ 0.34836277  0.04228076  0.60935647]\n",
        "%%%%%%%%%%%%%%%%%%%%%%%%\n",
        "%%%%%%%%%%%%%%%%%%%%%%%%\n",
        "Sample size: 13760\n",
        "Android: time\n",
        "scores: [0.71802325581395354, 0.70203488372093026, 0.69004360465116277, 0.70930232558139539, 0.70094476744186052]"
       ]
      },
      {
       "output_type": "stream",
       "stream": "stdout",
       "text": [
        "\n",
        "Average scores:0.704069767442\n",
        "Importance:[ 0.34821639  0.05432133  0.59746227]\n",
        "Android: ad\n",
        "scores: [0.26090116279069769, 0.2441860465116279, 0.26162790697674421, 0.26090116279069769, 0.26271802325581395]"
       ]
      },
      {
       "output_type": "stream",
       "stream": "stdout",
       "text": [
        "\n",
        "Average scores:0.258066860465\n",
        "Importance:[ 0.47122535  0.08119662  0.44757803]\n",
        "%%%%%%%%%%%%%%%%%%%%%%%%\n",
        "%%%%%%%%%%%%%%%%%%%%%%%%\n",
        "Sample size: 348\n",
        "Apple TV: time\n",
        "scores: [0.61428571428571432, 0.67142857142857137, 0.7857142857142857, 0.76811594202898548, 0.73913043478260865]\n",
        "Average scores:0.715734989648\n",
        "Importance:[ 0.46189305  0.          0.53810695]\n",
        "Apple TV: ad\n",
        "scores: [1.0, 1.0, 1.0, 1.0, 1.0]\n",
        "Average scores:1.0\n",
        "Importance:[ 0.  0.  0.]\n",
        "%%%%%%%%%%%%%%%%%%%%%%%%\n",
        "time: 0.763835791357\n",
        "ad: 0.357925537156\n"
       ]
      }
     ],
     "prompt_number": 14
    },
    {
     "cell_type": "code",
     "collapsed": false,
     "input": [],
     "language": "python",
     "metadata": {},
     "outputs": []
    }
   ],
   "metadata": {}
  }
 ]
}