{
 "metadata": {
  "name": "Decision Tree-general-bin-2-5-10-20-feature-fine"
 },
 "nbformat": 3,
 "nbformat_minor": 0,
 "worksheets": [
  {
   "cells": [
    {
     "cell_type": "code",
     "collapsed": false,
     "input": [
      "'''\n",
      "Platform:  \n",
      "{ \n",
      "     iPad: 10264251 \n",
      "     Android: 7512890 \n",
      "     iPhone: 5377486 \n",
      "     Apple TV: 368609 \n",
      "     iPod: 243399 \n",
      "     Mac: 21074 \n",
      "     Windows: 423 \n",
      "     None: 133 \n",
      "}\n",
      "\n",
      "[1, 2, 3, 4, 5, 6, 7, 8],\n",
      "['Apple TV', 'Mac', 'Windows', 'iPad', 'Android', 'iPhone', 'iPod', 'Unknown']\n",
      "'''\n",
      "import numpy as np\n",
      "import matplotlib.pyplot as plt\n",
      "from sklearn.cross_validation import cross_val_score\n",
      "from sklearn.datasets import load_svmlight_file\n",
      "from sklearn.cross_validation import train_test_split, KFold\n",
      "\n",
      "\n",
      "from sklearn import tree\n",
      "from six import StringIO  \n",
      "import os\n",
      "\n",
      "platform = { \n",
      "                   'All': -1,\n",
      "                   'AllWithFeature': -2,\n",
      "                   'Apple TV': 1, \n",
      "                   'Mac': 2, \n",
      "                   'Windows': 3, \n",
      "                   'iPad': 4, \n",
      "                   'Android': 5, \n",
      "                   'iPhone': 6, \n",
      "                   'iPod' : 7, \n",
      "                   'None' :8, \n",
      "                }\n",
      "\n",
      "metric_list = ['Watching Lasting Time(s)',\n",
      "               'Ad Ratio',\n",
      "               'Avg Bitrate(kbps)',\n",
      "               'Switch(per hour)',\n",
      "               'Initial Time(\\'o clock)']\n",
      "\n",
      "metric = {\n",
      "                  'Watching Lasting Time(s)': 0,\n",
      "                  'Ad Ratio': 1,\n",
      "                  'Avg Bitrate(kbps)': 2,\n",
      "                  'Switch(per hour)': 3,\n",
      "                  'Initial Time(\\'o clock)': 5\n",
      "              }\n",
      "train = None\n",
      "\n",
      "bins = {\n",
      "            'Watching Lasting Time(s)': [0, 43200, 86400],\n",
      "            'Ad Ratio': [0, 0.5, 1.1],\n",
      "            'Avg Bitrate(kbps)': [0, 1250, 2500],\n",
      "            'Switch(per hour)': [0, 30, 61],\n",
      "            'Initial Time(\\'o clock)': [0, 12, 24]\n",
      "}\n",
      "        \n",
      "\n",
      "class dt:\n",
      "\n",
      "    def __init__(self):\n",
      "        global train\n",
      "        \n",
      "        X_train, y_train = load_svmlight_file('./data_fine/time_train')\n",
      "        X_train, y_train2 = load_svmlight_file('./data_fine/ad_train')\n",
      "        X_train = X_train.toarray()\n",
      "        train = np.column_stack((y_train, y_train2, X_train))\n",
      "\n",
      "    def output(self, file_name, clf):\n",
      "        with open(file_name+\".dot\", 'w') as f:\n",
      "            f = tree.export_graphviz(clf, out_file=f)\n",
      "            os.system(\"dot -Tpdf \" + file_name +\".dot\" + \" -o \" + file_name + \".pdf\")\n",
      "\n",
      "    def train_and_test(self, feature, label, n=10, test_size=0.1):\n",
      "        scores = []\n",
      "        max_score = -1\n",
      "        max_clf = None\n",
      "        \n",
      "        kf = KFold(n=label.shape[0], n_folds=5)\n",
      "        for train_index, test_index in kf:\n",
      "            feature_train, feature_test = feature[train_index], feature[test_index]\n",
      "            label_train, label_test = label[train_index], label[test_index]\n",
      "\n",
      "            clf = tree.DecisionTreeClassifier()\n",
      "            clf = clf.fit(feature_train, label_train)\n",
      "            score = clf.score(feature_test, label_test)\n",
      "            if score > max_score:\n",
      "                max_score = score\n",
      "                max_clf = clf\n",
      "            scores.append(score)\n",
      "        print \"scores: \" + str(scores)\n",
      "        return max_score, max_clf\n",
      "            \n",
      "    def plot(self, p):\n",
      "        global platform\n",
      "        global metric\n",
      "        global train\n",
      "        \n",
      "        if platform[p] == platform['AllWithFeature']:\n",
      "            mat = np.zeros((train[:,:].shape[0],6))\n",
      "            mat[:,5] = train[:,4]\n",
      "        elif platform[p] == platform['All']:\n",
      "            mat = np.zeros((train[:,:].shape[0],5))\n",
      "        else:\n",
      "            mat = np.zeros((train[train[:,4]==platform[p],:].shape[0],5))\n",
      "        for idx, m in enumerate(metric_list):\n",
      "\n",
      "            if platform[p] == platform['AllWithFeature'] or platform[p] == platform['All'] :\n",
      "                mat[:, idx] = numpy.digitize(train[:, metric[m]], bins[m])\n",
      "            else:\n",
      "                mat[:, idx] = numpy.digitize(train[train[:,4]==platform[p], metric[m]], bins[m])\n",
      "            \n",
      "            #print \"%f\\t%f\" %(np.amax(train[train[:,4]==platform[p], metric[m]]), np.amax(mat[:, idx]))\n",
      "        \n",
      "        print \"%%%%%%%%%%%%%%%%%%%%%%%%\"\n",
      "        \n",
      "        print 'Sample size: ' + str(mat.shape[0])\n",
      "        \n",
      "        time_train = mat[:, 0]\n",
      "        ad_train = mat[:, 1]\n",
      "        if platform[p] == platform['AllWithFeature']:\n",
      "            features = mat[:, 2:6]\n",
      "        else:\n",
      "            features = mat[:, 2:5]\n",
      "        \n",
      "        print p + \": time\"\n",
      "        time_score, time_clf = self.train_and_test(features, time_train)\n",
      "        print \"Best scores:\" + str(time_score)\n",
      "        print \"Importance:\" + str(time_clf.feature_importances_)\n",
      "        \n",
      "        print p + \": ad\"\n",
      "        ad_score, ad_clf = self.train_and_test(features, ad_train)\n",
      "        print \"Best scores:\" + str(ad_score)\n",
      "        print \"Importance:\" + str(ad_clf.feature_importances_)\n",
      "        \n",
      "        time_file_name = \"./decision_tree_new_feature/\"+ p + \"_time\"\n",
      "        \n",
      "        \n",
      "        #with open(time_file_name+\".dot\", 'w') as f:\n",
      "        #    f = tree.export_graphviz(time_clf, out_file=f, feature_names=['average bitrate', 'switch time', 'initial time'])\n",
      "            \n",
      "        #ad_file_name = \"./decision_tree_new/\"+ p + \"_ad\"\n",
      "        #with open(ad_file_name+\".dot\", 'w') as f:\n",
      "        #    f = tree.export_graphviz(ad_clf, out_file=f, feature_names=['average bitrate', 'switch time', 'initial time'])\n",
      "            \n",
      "        #with open('./decision_tree_new/convert.sh', 'a') as ff:\n",
      "        #   \n",
      "        #    ff.write(\"dot -Tpdf \" + p + \"_time\" +\".dot\" + \" -o \" + p + \"_time\" + \".pdf\\n\")\n",
      "        #    ff.write(\"dot -Tpdf \" + p + \"_ad\" +\".dot\" + \" -o \" + p + \"_ad\" + \".pdf\\n\") \n",
      "        \n",
      "        print \"%%%%%%%%%%%%%%%%%%%%%%%%\"\n",
      "        \n",
      "        return time_score, ad_score\n",
      "        \n",
      "\n",
      "if __name__ == '__main__':\n",
      "    with open('./decision_tree/convert.sh', 'w') as ff:\n",
      "         ff.write(\"#!/bin/sh\\n\")\n",
      "\n",
      "    c = dt()\n",
      "    \n",
      "    c.plot('All')\n",
      "    \n",
      "    c.plot('AllWithFeature')\n",
      "    \n",
      "    t = []\n",
      "    a = []\n",
      "    \n",
      "    time, ad = c.plot('iPad')\n",
      "    t.append(time)\n",
      "    a.append(ad)\n",
      "    \n",
      "    time, ad = c.plot('iPhone')\n",
      "    t.append(time)\n",
      "    a.append(ad)\n",
      "    \n",
      "    time, ad = c.plot('Android')\n",
      "    t.append(time)\n",
      "    a.append(ad)\n",
      "    \n",
      "    time, ad = c.plot('Apple TV')\n",
      "    t.append(time)\n",
      "    a.append(ad)\n",
      "    \n",
      "    print \"time: \" + str(t[0]*37747/90058+ t[1]*30128/90058+t[2]*20508/90058+t[3]*434/90058)\n",
      "    print \"ad: \" + str(a[0]*37747/90058+ a[1]*30128/90058+a[2]*20508/90058+a[3]*434/90058)"
     ],
     "language": "python",
     "metadata": {},
     "outputs": [
      {
       "output_type": "stream",
       "stream": "stdout",
       "text": [
        "%%%%%%%%%%%%%%%%%%%%%%%%\n",
        "Sample size: 90058\n",
        "All: time\n",
        "scores: [0.98628691983122363, 0.98284477015323113, 0.98351099267155229, 0.98573094220198765, 0.9830659041696741]"
       ]
      },
      {
       "output_type": "stream",
       "stream": "stdout",
       "text": [
        "\n",
        "Best scores:0.986286919831\n",
        "Importance:[  4.50484124e-02   5.17262446e-04   9.54434325e-01]\n",
        "All: ad\n",
        "scores: [0.64218298911836558, 0.64023984010659563, 0.64540306462358432, 0.63483426794736553, 0.64049747376603183]"
       ]
      },
      {
       "output_type": "stream",
       "stream": "stdout",
       "text": [
        "\n",
        "Best scores:0.645403064624\n",
        "Importance:[ 0.94776776  0.0179581   0.03427415]\n",
        "%%%%%%%%%%%%%%%%%%%%%%%%\n",
        "%%%%%%%%%%%%%%%%%%%%%%%%\n",
        "Sample size: 90058\n",
        "AllWithFeature: time\n",
        "scores: [0.98628691983122363, 0.98284477015323113, 0.98351099267155229, 0.98573094220198765, 0.98301038254400086]"
       ]
      },
      {
       "output_type": "stream",
       "stream": "stdout",
       "text": [
        "\n",
        "Best scores:0.986286919831\n",
        "Importance:[  7.58075238e-02   3.43197048e-04   5.39735538e-01   3.84113741e-01]\n",
        "AllWithFeature: ad\n",
        "scores: [0.70530757272929157, 0.70780590717299574, 0.70508549855651792, 0.69929487535395041, 0.69374271278663036]"
       ]
      },
      {
       "output_type": "stream",
       "stream": "stdout",
       "text": [
        "\n",
        "Best scores:0.707805907173\n",
        "Importance:[ 0.0504409   0.00198124  0.02433123  0.92324663]\n",
        "%%%%%%%%%%%%%%%%%%%%%%%%\n",
        "%%%%%%%%%%%%%%%%%%%%%%%%\n",
        "Sample size: 37747\n",
        "iPad: time\n",
        "scores: [0.98794701986754963, 0.9810596026490066, 0.98569346933368662, 0.9867532123460061, 0.98370645118558753]"
       ]
      },
      {
       "output_type": "stream",
       "stream": "stdout",
       "text": [
        "\n",
        "Best scores:0.987947019868\n",
        "Importance:[  2.44194580e-01   1.97639232e-04   7.55607781e-01]\n",
        "iPad: ad\n",
        "scores: [0.72344370860927154, 0.70874172185430462, 0.71943303748840903, 0.70790833222943439, 0.72009537687110881]"
       ]
      },
      {
       "output_type": "stream",
       "stream": "stdout",
       "text": [
        "\n",
        "Best scores:0.723443708609\n",
        "Importance:[ 0.77820143  0.01477567  0.20702289]\n",
        "%%%%%%%%%%%%%%%%%%%%%%%%\n",
        "%%%%%%%%%%%%%%%%%%%%%%%%\n",
        "Sample size: 30128\n",
        "iPhone: time\n",
        "scores: [0.99054098904746102, 0.99070693660803189, 0.99170262197145698, 0.99203319502074694, 0.98937759336099584]"
       ]
      },
      {
       "output_type": "stream",
       "stream": "stdout",
       "text": [
        "\n",
        "Best scores:0.992033195021\n",
        "Importance:[  0.00000000e+00   1.12469751e-04   9.99887530e-01]\n",
        "iPhone: ad\n",
        "scores: [0.72817789578493197, 0.74792565549286427, 0.74029206770660472, 0.73294605809128632, 0.72265560165975107]"
       ]
      },
      {
       "output_type": "stream",
       "stream": "stdout",
       "text": [
        "\n",
        "Best scores:0.747925655493\n",
        "Importance:[ 0.          0.89960426  0.10039574]\n",
        "%%%%%%%%%%%%%%%%%%%%%%%%\n",
        "%%%%%%%%%%%%%%%%%%%%%%%%\n",
        "Sample size: 20508\n",
        "Android: time\n",
        "scores: [0.97684056557776699, 0.97513408093612874, 0.9666016577279376, 0.97512801755669354, 0.97342111680078025]"
       ]
      },
      {
       "output_type": "stream",
       "stream": "stdout",
       "text": [
        "\n",
        "Best scores:0.976840565578\n",
        "Importance:[ 0.01726805  0.00192198  0.98080997]\n",
        "Android: ad\n",
        "scores: [0.62627986348122866, 0.63505607020965382, 0.62018527547537783, 0.62838332114118511, 0.59448914898805172]"
       ]
      },
      {
       "output_type": "stream",
       "stream": "stdout",
       "text": [
        "\n",
        "Best scores:0.63505607021\n",
        "Importance:[ 0.00327019  0.04156857  0.95516124]\n",
        "%%%%%%%%%%%%%%%%%%%%%%%%\n",
        "%%%%%%%%%%%%%%%%%%%%%%%%\n",
        "Sample size: 434\n",
        "Apple TV: time\n",
        "scores: [0.9885057471264368, 0.9885057471264368, 1.0, 0.9885057471264368, 1.0]\n",
        "Best scores:1.0\n",
        "Importance:[ 0.333059    0.00096765  0.66597336]\n",
        "Apple TV: ad\n",
        "scores: [1.0, 1.0, 1.0, 1.0, 1.0]\n",
        "Best scores:1.0\n",
        "Importance:[ 0.  0.  0.]\n",
        "%%%%%%%%%%%%%%%%%%%%%%%%\n",
        "time: 0.973229014384\n",
        "ad: 0.702869969413\n"
       ]
      }
     ],
     "prompt_number": 3
    },
    {
     "cell_type": "code",
     "collapsed": false,
     "input": [
      "bins = {\n",
      "            'Watching Lasting Time(s)': [0, 17280, 34560, 51840, 69120, 86400],\n",
      "            'Ad Ratio': [0, 0.2, 0.4, 0.6, 0.8, 1.1],\n",
      "            'Avg Bitrate(kbps)': [0, 500, 1000, 1500, 2000, 2500],\n",
      "            'Switch(per hour)': [0, 12, 24, 36, 48, 61],\n",
      "            'Initial Time(\\'o clock)': [0, 4.8, 9.6, 14.4, 19.2, 24]\n",
      "}\n",
      "\n",
      "if __name__ == '__main__':\n",
      "\n",
      "    c = dt()\n",
      "    \n",
      "    c.plot('All')\n",
      "    \n",
      "    c.plot('AllWithFeature')\n",
      "    \n",
      "    t = []\n",
      "    a = []\n",
      "    \n",
      "    time, ad = c.plot('iPad')\n",
      "    t.append(time)\n",
      "    a.append(ad)\n",
      "    \n",
      "    time, ad = c.plot('iPhone')\n",
      "    t.append(time)\n",
      "    a.append(ad)\n",
      "    \n",
      "    time, ad = c.plot('Android')\n",
      "    t.append(time)\n",
      "    a.append(ad)\n",
      "    \n",
      "    time, ad = c.plot('Apple TV')\n",
      "    t.append(time)\n",
      "    a.append(ad)\n",
      "    \n",
      "    print \"time: \" + str(t[0]*37747/90058+ t[1]*30128/90058+t[2]*20508/90058+t[3]*434/90058)\n",
      "    print \"ad: \" + str(a[0]*37747/90058+ a[1]*30128/90058+a[2]*20508/90058+a[3]*434/90058)\n"
     ],
     "language": "python",
     "metadata": {},
     "outputs": [
      {
       "output_type": "stream",
       "stream": "stdout",
       "text": [
        "%%%%%%%%%%%%%%%%%%%%%%%%\n",
        "Sample size: 90058\n",
        "All: time\n",
        "scores: [0.9524206084832334, 0.95042194092827004, 0.95036642238507663, 0.95236244517239466, 0.9495308422630615]"
       ]
      },
      {
       "output_type": "stream",
       "stream": "stdout",
       "text": [
        "\n",
        "Best scores:0.952420608483\n",
        "Importance:[ 0.06694717  0.00512376  0.92792907]\n",
        "All: ad\n",
        "scores: [0.46002664890073286, 0.45852764823451031, 0.4575838330002221, 0.45383376825273442, 0.45222364110821167]"
       ]
      },
      {
       "output_type": "stream",
       "stream": "stdout",
       "text": [
        "\n",
        "Best scores:0.460026648901\n",
        "Importance:[ 0.86212615  0.02545194  0.11242191]\n",
        "%%%%%%%%%%%%%%%%%%%%%%%%\n",
        "%%%%%%%%%%%%%%%%%%%%%%%%\n",
        "Sample size: 90058\n",
        "AllWithFeature: time\n",
        "scores: [0.9524206084832334, 0.95042194092827004, 0.95036642238507663, 0.95236244517239466, 0.9493642773860419]"
       ]
      },
      {
       "output_type": "stream",
       "stream": "stdout",
       "text": [
        "\n",
        "Best scores:0.952420608483\n",
        "Importance:[ 0.07456234  0.00509889  0.80209684  0.11824193]\n",
        "AllWithFeature: ad\n",
        "scores: [0.5700644015101044, 0.56473462136353547, 0.56723295580723965, 0.56682027649769584, 0.56743101438010102]"
       ]
      },
      {
       "output_type": "stream",
       "stream": "stdout",
       "text": [
        "\n",
        "Best scores:0.57006440151\n",
        "Importance:[ 0.05524369  0.00465489  0.03436042  0.905741  ]\n",
        "%%%%%%%%%%%%%%%%%%%%%%%%\n",
        "%%%%%%%%%%%%%%%%%%%%%%%%\n",
        "Sample size: 37747\n",
        "iPad: time\n",
        "scores: [0.94887417218543046, 0.94344370860927151, 0.95045701417406281, 0.95019207842098297, 0.94542323486554514]"
       ]
      },
      {
       "output_type": "stream",
       "stream": "stdout",
       "text": [
        "\n",
        "Best scores:0.950457014174\n",
        "Importance:[  1.37132474e-01   4.75074747e-04   8.62392451e-01]\n",
        "iPad: ad\n",
        "scores: [0.59920529801324507, 0.59059602649006626, 0.60087428798516362, 0.59186647238044776, 0.60074182010862365]"
       ]
      },
      {
       "output_type": "stream",
       "stream": "stdout",
       "text": [
        "\n",
        "Best scores:0.600874287985\n",
        "Importance:[ 0.6816336   0.01867158  0.29969482]\n",
        "%%%%%%%%%%%%%%%%%%%%%%%%\n",
        "%%%%%%%%%%%%%%%%%%%%%%%%\n",
        "Sample size: 30128\n",
        "iPhone: time\n",
        "scores: [0.96764022568868235, 0.96465316959840686, 0.96564885496183206, 0.96713692946058094, 0.96614107883817424]"
       ]
      },
      {
       "output_type": "stream",
       "stream": "stdout",
       "text": [
        "\n",
        "Best scores:0.967640225689\n",
        "Importance:[  1.22503576e-02   1.56972080e-04   9.87592670e-01]\n",
        "iPhone: ad\n",
        "scores: [0.55708596083637574, 0.5725190839694656, 0.55808164619980083, 0.56481327800829872, 0.54688796680497931]"
       ]
      },
      {
       "output_type": "stream",
       "stream": "stdout",
       "text": [
        "\n",
        "Best scores:0.572519083969\n",
        "Importance:[ 0.74111498  0.06452078  0.19436424]\n",
        "%%%%%%%%%%%%%%%%%%%%%%%%\n",
        "%%%%%%%%%%%%%%%%%%%%%%%%\n",
        "Sample size: 20508\n",
        "Android: time\n",
        "scores: [0.93954168698196006, 0.94417357386640666, 0.92613359336908829, 0.93635698610095097, 0.93440624237990733]"
       ]
      },
      {
       "output_type": "stream",
       "stream": "stdout",
       "text": [
        "\n",
        "Best scores:0.944173573866\n",
        "Importance:[ 0.10447001  0.02281301  0.87271698]\n",
        "Android: ad\n",
        "scores: [0.51999024865919063, 0.49122379327157484, 0.51121404193076547, 0.512314069739088, 0.5269446476469154]"
       ]
      },
      {
       "output_type": "stream",
       "stream": "stdout",
       "text": [
        "\n",
        "Best scores:0.526944647647\n",
        "Importance:[ 0.24058859  0.12825933  0.63115208]\n",
        "%%%%%%%%%%%%%%%%%%%%%%%%\n",
        "%%%%%%%%%%%%%%%%%%%%%%%%\n",
        "Sample size: 434\n",
        "Apple TV: time\n",
        "scores: [0.89655172413793105, 0.91954022988505746, 0.93103448275862066, 0.97701149425287359, 0.97674418604651159]\n",
        "Best scores:0.977011494253\n",
        "Importance:[ 0.22357123  0.          0.77642877]\n",
        "Apple TV: ad\n",
        "scores: [1.0, 1.0, 1.0, 1.0, 1.0]\n",
        "Best scores:1.0\n",
        "Importance:[ 0.  0.  0.]\n",
        "%%%%%%%%%%%%%%%%%%%%%%%%\n",
        "time: 0.941805284094\n",
        "ad: 0.568196468324\n"
       ]
      }
     ],
     "prompt_number": 5
    },
    {
     "cell_type": "code",
     "collapsed": false,
     "input": [
      "bins = {\n",
      "            'Watching Lasting Time(s)': [0, 26000, 52000, 78000, 104000, 130000, 156000, 182000, 208000, 234000, 261000],\n",
      "            'Ad Ratio': [0, 0.1, 0.2, 0.3, 0.4, 0.5, 0.6, 0.7, 0.8, 0.9, 1.1],\n",
      "            'Avg Bitrate(kbps)': [0, 250, 500, 750, 1000, 1250, 1500, 1750, 2000, 2250, 2500],\n",
      "            'Switch(per hour)': [0, 6, 12, 18, 24, 30, 36, 42, 48, 54, 61],\n",
      "            'Initial Time(\\'o clock)': [0, 2.4, 4.8, 7.2, 9.6, 12.0, 14.4, 16.8, 19.2, 21.6, 24]\n",
      "}\n",
      "\n",
      "if __name__ == '__main__':\n",
      "\n",
      "    c = dt()\n",
      "    \n",
      "    c.plot('All')\n",
      "    \n",
      "    c.plot('AllWithFeature')\n",
      "    \n",
      "    t = []\n",
      "    a = []\n",
      "    \n",
      "    time, ad = c.plot('iPad')\n",
      "    t.append(time)\n",
      "    a.append(ad)\n",
      "    \n",
      "    time, ad = c.plot('iPhone')\n",
      "    t.append(time)\n",
      "    a.append(ad)\n",
      "    \n",
      "    time, ad = c.plot('Android')\n",
      "    t.append(time)\n",
      "    a.append(ad)\n",
      "    \n",
      "    time, ad = c.plot('Apple TV')\n",
      "    t.append(time)\n",
      "    a.append(ad)\n",
      "    \n",
      "    print \"time: \" + str(t[0]*37747/90058+ t[1]*30128/90058+t[2]*20508/90058+t[3]*434/90058)\n",
      "    print \"ad: \" + str(a[0]*37747/90058+ a[1]*30128/90058+a[2]*20508/90058+a[3]*434/90058)"
     ],
     "language": "python",
     "metadata": {},
     "outputs": [
      {
       "output_type": "stream",
       "stream": "stdout",
       "text": [
        "%%%%%%%%%%%%%%%%%%%%%%%%\n",
        "Sample size: 55478\n",
        "All: time\n",
        "scores: [0.86247296322999278, 0.8550829127613554, 0.86112112472963231, 0.85723298783235691, 0.85867507886435335]"
       ]
      },
      {
       "output_type": "stream",
       "stream": "stdout",
       "text": [
        "\n",
        "Best scores:0.86247296323\n",
        "Importance:[ 0.11034902  0.00970248  0.87994849]\n",
        "All: ad\n",
        "scores: [0.38049747656813265, 0.37770367700072099, 0.38148882480173035, 0.37269040108156826, 0.37530419107706176]"
       ]
      },
      {
       "output_type": "stream",
       "stream": "stdout",
       "text": [
        "\n",
        "Best scores:0.381488824802\n",
        "Importance:[ 0.73769324  0.04761314  0.21469362]\n",
        "%%%%%%%%%%%%%%%%%%%%%%%%\n",
        "%%%%%%%%%%%%%%%%%%%%%%%%\n",
        "Sample size: 55478\n",
        "AllWithFeature: time\n",
        "scores: [0.86211247296323001, 0.85463229992790191, 0.86076063446286954, 0.85669220369535826, 0.85831455610635421]"
       ]
      },
      {
       "output_type": "stream",
       "stream": "stdout",
       "text": [
        "\n",
        "Best scores:0.862112472963\n",
        "Importance:[ 0.10185455  0.01113534  0.77515905  0.11185106]\n",
        "AllWithFeature: ad\n",
        "scores: [0.44637707281903388, 0.4422314347512617, 0.44691780821917809, 0.43911671924290219, 0.44443442992338894]"
       ]
      },
      {
       "output_type": "stream",
       "stream": "stdout",
       "text": [
        "\n",
        "Best scores:0.446917808219\n",
        "Importance:[ 0.07350709  0.0127342   0.07060117  0.84315754]\n",
        "%%%%%%%%%%%%%%%%%%%%%%%%\n",
        "%%%%%%%%%%%%%%%%%%%%%%%%\n",
        "Sample size: 23415\n",
        "iPad: time\n",
        "scores: [0.86846038863976083, 0.86248131539611361, 0.86952808029041218, 0.86568439034806743, 0.86483023702754647]"
       ]
      },
      {
       "output_type": "stream",
       "stream": "stdout",
       "text": [
        "\n",
        "Best scores:0.86952808029\n",
        "Importance:[ 0.06680934  0.00131562  0.93187503]\n",
        "iPad: ad\n",
        "scores: [0.49839846252402309, 0.48857569933803119, 0.49797138586376255, 0.49113815929959426, 0.4986120008541533]"
       ]
      },
      {
       "output_type": "stream",
       "stream": "stdout",
       "text": [
        "\n",
        "Best scores:0.498612000854\n",
        "Importance:[ 0.53040188  0.05084647  0.41875165]\n",
        "%%%%%%%%%%%%%%%%%%%%%%%%\n",
        "%%%%%%%%%%%%%%%%%%%%%%%%\n",
        "Sample size: 17102\n",
        "iPhone: time\n",
        "scores: [0.90529085062847126, 0.8968137971353406, 0.90760233918128652, 0.90116959064327484, 0.90614035087719302]"
       ]
      },
      {
       "output_type": "stream",
       "stream": "stdout",
       "text": [
        "\n",
        "Best scores:0.907602339181\n",
        "Importance:[ 0.08278063  0.00098997  0.91622941]\n",
        "iPhone: ad\n",
        "scores: [0.48728441976030401, 0.49488453668517979, 0.48947368421052634, 0.48274853801169593, 0.4801169590643275]\n",
        "Best scores:0.494884536685\n",
        "Importance:[ 0.52503621  0.05411949  0.4208443 ]\n",
        "%%%%%%%%%%%%%%%%%%%%%%%%\n",
        "%%%%%%%%%%%%%%%%%%%%%%%%"
       ]
      },
      {
       "output_type": "stream",
       "stream": "stdout",
       "text": [
        "\n",
        "Sample size: 13760\n",
        "Android: time\n",
        "scores: [0.79941860465116277, 0.78633720930232553, 0.78452034883720934, 0.78960755813953487, 0.78670058139534882]\n",
        "Best scores:0.799418604651\n",
        "Importance:[ 0.19915799  0.03979507  0.76104694]\n",
        "Android: ad\n",
        "scores: [0.29396802325581395, 0.27688953488372092, 0.29178779069767441, 0.28633720930232559, 0.29215116279069769]"
       ]
      },
      {
       "output_type": "stream",
       "stream": "stdout",
       "text": [
        "\n",
        "Best scores:0.293968023256\n",
        "Importance:[ 0.39657665  0.1581613   0.44526205]\n",
        "%%%%%%%%%%%%%%%%%%%%%%%%\n",
        "%%%%%%%%%%%%%%%%%%%%%%%%\n",
        "Sample size: 348\n",
        "Apple TV: time\n",
        "scores: [0.81428571428571428, 0.84285714285714286, 0.91428571428571426, 0.85507246376811596, 0.86956521739130432]\n",
        "Best scores:0.914285714286\n",
        "Importance:[ 0.48820032  0.          0.51179968]\n",
        "Apple TV: ad\n",
        "scores: [1.0, 1.0, 1.0, 1.0, 1.0]\n",
        "Best scores:1.0\n",
        "Importance:[ 0.  0.  0.]\n",
        "%%%%%%%%%%%%%%%%%%%%%%%%\n",
        "time: 0.850787458691\n",
        "ad: 0.442184565889\n"
       ]
      }
     ],
     "prompt_number": 8
    },
    {
     "cell_type": "code",
     "collapsed": false,
     "input": [
      "bins = {\n",
      "            'Watching Lasting Time(s)': [0, 13000, 26000, 39000, 52000, 65000, 78000, 91000, 104000, 117000, 130000, 143000, 156000, 169000, 182000, 195000, 208000, 234000, 261000],\n",
      "            'Ad Ratio': [0, 0.05, 0.1, 0.15, 0.2, 0.25, 0.3, 0.35, 0.4, 0.45, 0.5, 0.55, 0.6, 0.65, 0.7, 0.75, 0.8, 0.85, 0.9, 0.95, 1.1],\n",
      "            'Avg Bitrate(kbps)': [0, 125, 250, 375, 500, 615, 750, 875, 1000, 1125, 1250, 1375, 1500, 1625, 1750, 1875, 2000, 2125, 2250, 2375, 2500],\n",
      "            'Switch(per hour)': [0, 6, 12, 18, 24, 30, 36, 42, 48, 54, 61],\n",
      "            'Initial Time(\\'o clock)': [0, 1.2, 2.4, 3.6, 4.8, 6.0, 7.2, 8.4, 9.6, 10.8, 12.0, 13.2, 14.4, 15.6, 16.8, 18.0, 19.2, 20.8, 21.6, 22.8, 24]\n",
      "}\n",
      "\n",
      "\n",
      "if __name__ == '__main__':\n",
      "\n",
      "    c = dt()\n",
      "    \n",
      "    c.plot('All')\n",
      "    \n",
      "    c.plot('AllWithFeature')\n",
      "    \n",
      "    t = []\n",
      "    a = []\n",
      "    \n",
      "    time, ad = c.plot('iPad')\n",
      "    t.append(time)\n",
      "    a.append(ad)\n",
      "    \n",
      "    time, ad = c.plot('iPhone')\n",
      "    t.append(time)\n",
      "    a.append(ad)\n",
      "    \n",
      "    time, ad = c.plot('Android')\n",
      "    t.append(time)\n",
      "    a.append(ad)\n",
      "    \n",
      "    time, ad = c.plot('Apple TV')\n",
      "    t.append(time)\n",
      "    a.append(ad)\n",
      "    \n",
      "    print \"time: \" + str(t[0]*37747/90058+ t[1]*30128/90058+t[2]*20508/90058+t[3]*434/90058)\n",
      "    print \"ad: \" + str(a[0]*37747/90058+ a[1]*30128/90058+a[2]*20508/90058+a[3]*434/90058)"
     ],
     "language": "python",
     "metadata": {},
     "outputs": [
      {
       "output_type": "stream",
       "stream": "stdout",
       "text": [
        "%%%%%%%%%%%%%%%%%%%%%%%%\n",
        "Sample size: 55478\n",
        "All: time\n",
        "scores: [0.77901946647440523, 0.77451333813987022, 0.77649603460706562, 0.77972059486255074, 0.77755745831455614]"
       ]
      },
      {
       "output_type": "stream",
       "stream": "stdout",
       "text": [
        "\n",
        "Best scores:0.779720594863\n",
        "Importance:[ 0.21072757  0.01832061  0.77095182]\n",
        "All: ad\n",
        "scores: [0.31281542898341747, 0.3084895457822639, 0.30939077144917088, 0.3049121225777377, 0.31004957187922488]"
       ]
      },
      {
       "output_type": "stream",
       "stream": "stdout",
       "text": [
        "\n",
        "Best scores:0.312815428983\n",
        "Importance:[ 0.60280712  0.05045747  0.34673541]\n",
        "%%%%%%%%%%%%%%%%%%%%%%%%\n",
        "%%%%%%%%%%%%%%%%%%%%%%%%\n",
        "Sample size: 55478\n",
        "AllWithFeature: time\n",
        "scores: [0.77694664744051911, 0.77253064167267482, 0.77505407354001443, 0.77818837314105449, 0.7761153672825597]"
       ]
      },
      {
       "output_type": "stream",
       "stream": "stdout",
       "text": [
        "\n",
        "Best scores:0.778188373141\n",
        "Importance:[ 0.21081369  0.01671176  0.63809599  0.13437856]\n",
        "AllWithFeature: ad\n",
        "scores: [0.36625811103100214, 0.35922855082912764, 0.36310382119682766, 0.3598017124831005, 0.36593059936908517]"
       ]
      },
      {
       "output_type": "stream",
       "stream": "stdout",
       "text": [
        "\n",
        "Best scores:0.366258111031\n",
        "Importance:[ 0.14773108  0.01667526  0.16237191  0.67322176]\n",
        "%%%%%%%%%%%%%%%%%%%%%%%%\n",
        "%%%%%%%%%%%%%%%%%%%%%%%%\n",
        "Sample size: 23415\n",
        "iPad: time\n",
        "scores: [0.77236814008114452, 0.77300875507153533, 0.77877428998505227, 0.78048259662609443, 0.77599829169335899]"
       ]
      },
      {
       "output_type": "stream",
       "stream": "stdout",
       "text": [
        "\n",
        "Best scores:0.780482596626\n",
        "Importance:[ 0.24996863  0.00617336  0.74385801]\n",
        "iPad: ad\n",
        "scores: [0.38650437753576766, 0.38394191757420459, 0.38565022421524664, 0.38052530429212045, 0.39205637411915439]"
       ]
      },
      {
       "output_type": "stream",
       "stream": "stdout",
       "text": [
        "\n",
        "Best scores:0.392056374119\n",
        "Importance:[ 0.4801798   0.02858106  0.49123914]\n",
        "%%%%%%%%%%%%%%%%%%%%%%%%\n",
        "%%%%%%%%%%%%%%%%%%%%%%%%\n",
        "Sample size: 17102\n",
        "iPhone: time\n",
        "scores: [0.83367436422098806, 0.82841274481145866, 0.83859649122807023, 0.83362573099415205, 0.83654970760233915]"
       ]
      },
      {
       "output_type": "stream",
       "stream": "stdout",
       "text": [
        "\n",
        "Best scores:0.838596491228\n",
        "Importance:[ 0.14017758  0.00194281  0.8578796 ]\n",
        "iPhone: ad\n",
        "scores: [0.41245249926921951, 0.40456007015492546, 0.40847953216374266, 0.39883040935672515, 0.40058479532163743]"
       ]
      },
      {
       "output_type": "stream",
       "stream": "stdout",
       "text": [
        "\n",
        "Best scores:0.412452499269\n",
        "Importance:[ 0.34976252  0.04228076  0.60795672]\n",
        "%%%%%%%%%%%%%%%%%%%%%%%%\n",
        "%%%%%%%%%%%%%%%%%%%%%%%%\n",
        "Sample size: 13760\n",
        "Android: time\n",
        "scores: [0.71802325581395354, 0.70203488372093026, 0.69004360465116277, 0.70930232558139539, 0.70094476744186052]"
       ]
      },
      {
       "output_type": "stream",
       "stream": "stdout",
       "text": [
        "\n",
        "Best scores:0.718023255814\n",
        "Importance:[ 0.3457783   0.05432133  0.59990037]\n",
        "Android: ad\n",
        "scores: [0.26090116279069769, 0.2441860465116279, 0.26090116279069769, 0.26090116279069769, 0.26235465116279072]"
       ]
      },
      {
       "output_type": "stream",
       "stream": "stdout",
       "text": [
        "\n",
        "Best scores:0.262354651163\n",
        "Importance:[ 0.47119462  0.08553585  0.44326953]\n",
        "%%%%%%%%%%%%%%%%%%%%%%%%\n",
        "%%%%%%%%%%%%%%%%%%%%%%%%\n",
        "Sample size: 348\n",
        "Apple TV: time\n",
        "scores: [0.61428571428571432, 0.67142857142857137, 0.7857142857142857, 0.76811594202898548, 0.73913043478260865]\n",
        "Best scores:0.785714285714\n",
        "Importance:[ 0.44539159  0.          0.55460841]\n",
        "Apple TV: ad\n",
        "scores: [1.0, 1.0, 1.0, 1.0, 1.0]\n",
        "Best scores:1.0\n",
        "Importance:[ 0.  0.  0.]\n",
        "%%%%%%%%%%%%%%%%%%%%%%%%\n",
        "time: 0.770938133394\n",
        "ad: 0.363959815467\n"
       ]
      }
     ],
     "prompt_number": 9
    },
    {
     "cell_type": "code",
     "collapsed": false,
     "input": [],
     "language": "python",
     "metadata": {},
     "outputs": []
    }
   ],
   "metadata": {}
  }
 ]
}