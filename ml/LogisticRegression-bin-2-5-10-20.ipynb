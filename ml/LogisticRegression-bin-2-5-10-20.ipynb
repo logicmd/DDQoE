{
 "metadata": {
  "name": "LogisticRegression-bin-2-5-10-20"
 },
 "nbformat": 3,
 "nbformat_minor": 0,
 "worksheets": [
  {
   "cells": [
    {
     "cell_type": "code",
     "collapsed": false,
     "input": [
      "import numpy as np\n",
      "import matplotlib.pyplot as plt\n",
      "from sklearn.cross_validation import cross_val_score\n",
      "from sklearn.datasets import load_svmlight_file\n",
      "from sklearn.cross_validation import train_test_split, KFold\n",
      "from sklearn.multiclass import OneVsRestClassifier\n",
      "from sklearn.linear_model import LogisticRegression\n",
      "\n",
      "platform = { \n",
      "                   'All': -1,\n",
      "                   'Apple TV': 1, \n",
      "                   'Mac': 2, \n",
      "                   'Windows': 3, \n",
      "                   'iPad': 4, \n",
      "                   'Android': 5, \n",
      "                   'iPhone': 6, \n",
      "                   'iPod' : 7, \n",
      "                   'None' :8, \n",
      "                }\n",
      "\n",
      "metric_list = ['Watching Lasting Time(s)',\n",
      "               'Ad Ratio',\n",
      "               'Avg Bitrate(kbps)',\n",
      "               'Switch(per hour)',\n",
      "               'Initial Time(\\'o clock)']\n",
      "\n",
      "metric = {\n",
      "                  'Watching Lasting Time(s)': 0,\n",
      "                  'Ad Ratio': 1,\n",
      "                  'Avg Bitrate(kbps)': 2,\n",
      "                  'Switch(per hour)': 3,\n",
      "                  'Initial Time(\\'o clock)': 5\n",
      "              }\n",
      "train = None\n",
      "\n",
      "bins = {\n",
      "            'iPad': {\n",
      "                'Watching Lasting Time(s)': [0, 4005.0, 300000],\n",
      "                'Ad Ratio': [0, 0.89000000000000001, 1.1],\n",
      "                'Avg Bitrate(kbps)': [0, 2125.0, 2500],\n",
      "                'Switch(per hour)': [0, 0.10000000000000001, 61],\n",
      "                'Initial Time(\\'o clock)': [0, 16.18, 24]\n",
      "            },\n",
      "            'Android': {\n",
      "                'Watching Lasting Time(s)': [0, 3675.0, 300000.0],\n",
      "                'Ad Ratio': [0, 0.45, 1.1],\n",
      "                'Avg Bitrate(kbps)': [0, 785.39999999999998, 2500],\n",
      "                'Switch(per hour)': [0, 0.04, 50],\n",
      "                'Initial Time(\\'o clock)': [0, 15.57, 24]\n",
      "            },\n",
      "            'iPhone': {\n",
      "                'Watching Lasting Time(s)': [0, 2378.0, 300000.0],\n",
      "                'Ad Ratio': [0, 0.88, 1.1],\n",
      "                'Avg Bitrate(kbps)': [0, 780.7, 2500],\n",
      "                'Switch(per hour)': [0, 0.07, 61],\n",
      "                'Initial Time(\\'o clock)': [0, 16.02, 24]\n",
      "            },\n",
      "            'Apple TV': {\n",
      "                'Watching Lasting Time(s)': [0, 6166, 300000.0],\n",
      "                'Ad Ratio': [0, 0.86, 1.1],\n",
      "                'Avg Bitrate(kbps)': [0, 1963, 2500],\n",
      "                'Switch(per hour)': [0, 0.088, 50],\n",
      "                'Initial Time(\\'o clock)': [0, 16.05, 24]\n",
      "            },\n",
      "            \n",
      "        }\n",
      "        \n",
      "\n",
      "class lr:\n",
      "\n",
      "    def __init__(self):\n",
      "        global train\n",
      "        \n",
      "        X_train, y_train = load_svmlight_file('./data/time_train4')\n",
      "        X_train, y_train2 = load_svmlight_file('./data/ad_train4')\n",
      "        X_train = X_train.toarray()\n",
      "        train = np.column_stack((y_train, y_train2, X_train))\n",
      "\n",
      "\n",
      "    def train_and_test(self, feature, label, n=10, test_size=0.1):\n",
      "        \n",
      "        max_score = -1\n",
      "        max_C = None\n",
      "        max_clf = None\n",
      "        \n",
      "        kf = KFold(n=label.shape[0], n_folds=5)\n",
      "        for C_exp in xrange(-3,7):\n",
      "            scores = []\n",
      "            C = 10**(-C_exp)\n",
      "            \n",
      "            for train_index, test_index in kf:\n",
      "                feature_train, feature_test = feature[train_index], feature[test_index]\n",
      "                label_train, label_test = label[train_index], label[test_index]\n",
      "                \n",
      "                clf = LogisticRegression(C=C)\n",
      "                clf = clf.fit(feature_train, label_train)\n",
      "                score = clf.score(feature_test, label_test)\n",
      "                scores.append(score)\n",
      "            score = np.average(scores)\n",
      "            print \"C:%f, score: %.2f\" %(C, score)\n",
      "            if (score > max_score):\n",
      "                max_score = score\n",
      "                max_C = C\n",
      "            \n",
      "        max_clf = LogisticRegression(C=max_C).fit(feature, label)\n",
      "        final_score = max_clf.score(feature, label)\n",
      "        \n",
      "        print \"C:%f, Final scores: %.2f\\n\" %(max_C, final_score)\n",
      "        \n",
      "        confidence = max_clf.decision_function(feature)\n",
      "        print \"confidence: %.2f\" %(np.average(abs(confidence)))\n",
      "        print max_clf.coef_, max_clf.intercept_\n",
      "        \n",
      "        return final_score, max_clf\n",
      "            \n",
      "    def plot(self, p):\n",
      "        global platform\n",
      "        global metric\n",
      "        global train\n",
      "        \n",
      "        \n",
      "        if platform[p] == platform['All']:\n",
      "            mat = np.zeros((train[:,:].shape[0],5))\n",
      "        else:\n",
      "            mat = np.zeros((train[train[:,4]==platform[p],:].shape[0],5))\n",
      "        for idx, m in enumerate(metric_list):\n",
      "            if platform[p] == platform['All']:\n",
      "                mat[:, idx] = numpy.digitize(train[:, metric[m]], bins['iPad'][m])\n",
      "            else:\n",
      "                mat[:, idx] = numpy.digitize(train[train[:,4]==platform[p], metric[m]], bins[p][m])\n",
      "                #print \"%f\\t%f\" %(np.amax(train[train[:,4]==platform[p], metric[m]]), np.amax(mat[:, idx]))\n",
      "        \n",
      "        print 'Sample size: ' + str(mat.shape[0])\n",
      "        \n",
      "        time_train = mat[:, 0]\n",
      "        ad_train = mat[:, 1]\n",
      "        features = mat[:, 2:5]\n",
      "    \n",
      "        \n",
      "        print p + \": time\"\n",
      "        time_score, time_clf = self.train_and_test(features, time_train)\n",
      "        \n",
      "        print p + \": ad\"\n",
      "        ad_score, ad_clf = self.train_and_test(features, ad_train)\n",
      "\n",
      "        print \"**********\\n**********\\n\"\n",
      "        \n",
      "        \n",
      "        \n",
      "\n",
      "if __name__ == '__main__':\n",
      "\n",
      "    c = lr()\n",
      "    c.plot('iPad')\n",
      "    \n",
      "    c.plot('Android')\n",
      "    \n",
      "    c.plot('iPhone')\n",
      "    \n",
      "    c.plot('Apple TV')\n"
     ],
     "language": "python",
     "metadata": {},
     "outputs": [
      {
       "output_type": "stream",
       "stream": "stderr",
       "text": [
        "/usr/lib/pymodules/python2.7/sklearn/datasets/svmlight_format.py:136: DeprecationWarning: using a non-integer number instead of an integer will result in an error in the future\n",
        "  return _load_svmlight_file(f, dtype, multilabel, zero_based, query_id)\n",
        "/usr/lib/pymodules/python2.7/sklearn/datasets/svmlight_format.py:136: DeprecationWarning: using a non-integer number instead of an integer will result in an error in the future\n",
        "  return _load_svmlight_file(f, dtype, multilabel, zero_based, query_id)\n",
        "/usr/lib/pymodules/python2.7/sklearn/datasets/svmlight_format.py:136: DeprecationWarning: using a non-integer number instead of an integer will result in an error in the future\n",
        "  return _load_svmlight_file(f, dtype, multilabel, zero_based, query_id)\n",
        "/usr/lib/pymodules/python2.7/sklearn/datasets/svmlight_format.py:136: DeprecationWarning: using a non-integer number instead of an integer will result in an error in the future\n",
        "  return _load_svmlight_file(f, dtype, multilabel, zero_based, query_id)\n",
        "/usr/lib/pymodules/python2.7/sklearn/datasets/svmlight_format.py:136: DeprecationWarning: using a non-integer number instead of an integer will result in an error in the future\n",
        "  return _load_svmlight_file(f, dtype, multilabel, zero_based, query_id)\n",
        "/usr/lib/pymodules/python2.7/sklearn/datasets/svmlight_format.py:136: DeprecationWarning: using a non-integer number instead of an integer will result in an error in the future\n",
        "  return _load_svmlight_file(f, dtype, multilabel, zero_based, query_id)\n",
        "/usr/lib/pymodules/python2.7/sklearn/datasets/svmlight_format.py:136: DeprecationWarning: using a non-integer number instead of an integer will result in an error in the future\n",
        "  return _load_svmlight_file(f, dtype, multilabel, zero_based, query_id)\n",
        "/usr/lib/pymodules/python2.7/sklearn/datasets/svmlight_format.py:136: DeprecationWarning: using a non-integer number instead of an integer will result in an error in the future\n",
        "  return _load_svmlight_file(f, dtype, multilabel, zero_based, query_id)\n",
        "/usr/lib/pymodules/python2.7/sklearn/datasets/svmlight_format.py:136: DeprecationWarning: using a non-integer number instead of an integer will result in an error in the future\n",
        "  return _load_svmlight_file(f, dtype, multilabel, zero_based, query_id)\n",
        "/usr/lib/pymodules/python2.7/sklearn/datasets/svmlight_format.py:136: DeprecationWarning: using a non-integer number instead of an integer will result in an error in the future\n",
        "  return _load_svmlight_file(f, dtype, multilabel, zero_based, query_id)\n",
        "/usr/lib/pymodules/python2.7/sklearn/datasets/svmlight_format.py:136: DeprecationWarning: using a non-integer number instead of an integer will result in an error in the future\n",
        "  return _load_svmlight_file(f, dtype, multilabel, zero_based, query_id)\n",
        "/usr/lib/pymodules/python2.7/sklearn/datasets/svmlight_format.py:136: DeprecationWarning: using a non-integer number instead of an integer will result in an error in the future\n",
        "  return _load_svmlight_file(f, dtype, multilabel, zero_based, query_id)\n",
        "/usr/lib/pymodules/python2.7/sklearn/datasets/svmlight_format.py:136: DeprecationWarning: using a non-integer number instead of an integer will result in an error in the future\n",
        "  return _load_svmlight_file(f, dtype, multilabel, zero_based, query_id)\n",
        "/usr/lib/pymodules/python2.7/sklearn/datasets/svmlight_format.py:136: DeprecationWarning: using a non-integer number instead of an integer will result in an error in the future\n",
        "  return _load_svmlight_file(f, dtype, multilabel, zero_based, query_id)\n",
        "/usr/lib/pymodules/python2.7/sklearn/datasets/svmlight_format.py:136: DeprecationWarning: using a non-integer number instead of an integer will result in an error in the future\n",
        "  return _load_svmlight_file(f, dtype, multilabel, zero_based, query_id)\n",
        "/usr/lib/pymodules/python2.7/sklearn/datasets/svmlight_format.py:136: DeprecationWarning: using a non-integer number instead of an integer will result in an error in the future\n",
        "  return _load_svmlight_file(f, dtype, multilabel, zero_based, query_id)\n",
        "/usr/lib/pymodules/python2.7/sklearn/datasets/svmlight_format.py:136: DeprecationWarning: using a non-integer number instead of an integer will result in an error in the future\n",
        "  return _load_svmlight_file(f, dtype, multilabel, zero_based, query_id)\n",
        "/usr/lib/pymodules/python2.7/sklearn/datasets/svmlight_format.py:136: DeprecationWarning: using a non-integer number instead of an integer will result in an error in the future\n",
        "  return _load_svmlight_file(f, dtype, multilabel, zero_based, query_id)\n",
        "/usr/lib/pymodules/python2.7/sklearn/datasets/svmlight_format.py:136: DeprecationWarning: using a non-integer number instead of an integer will result in an error in the future\n",
        "  return _load_svmlight_file(f, dtype, multilabel, zero_based, query_id)\n",
        "/usr/lib/pymodules/python2.7/sklearn/datasets/svmlight_format.py:136: DeprecationWarning: using a non-integer number instead of an integer will result in an error in the future\n",
        "  return _load_svmlight_file(f, dtype, multilabel, zero_based, query_id)\n",
        "/usr/lib/pymodules/python2.7/sklearn/datasets/svmlight_format.py:136: DeprecationWarning: using a non-integer number instead of an integer will result in an error in the future\n",
        "  return _load_svmlight_file(f, dtype, multilabel, zero_based, query_id)\n",
        "/usr/lib/pymodules/python2.7/sklearn/datasets/svmlight_format.py:136: DeprecationWarning: using a non-integer number instead of an integer will result in an error in the future\n",
        "  return _load_svmlight_file(f, dtype, multilabel, zero_based, query_id)\n",
        "/usr/lib/pymodules/python2.7/sklearn/datasets/svmlight_format.py:136: DeprecationWarning: using a non-integer number instead of an integer will result in an error in the future\n",
        "  return _load_svmlight_file(f, dtype, multilabel, zero_based, query_id)\n",
        "/usr/lib/pymodules/python2.7/sklearn/datasets/svmlight_format.py:136: DeprecationWarning: using a non-integer number instead of an integer will result in an error in the future\n",
        "  return _load_svmlight_file(f, dtype, multilabel, zero_based, query_id)\n",
        "/usr/lib/pymodules/python2.7/sklearn/datasets/svmlight_format.py:136: DeprecationWarning: using a non-integer number instead of an integer will result in an error in the future\n",
        "  return _load_svmlight_file(f, dtype, multilabel, zero_based, query_id)\n",
        "/usr/lib/pymodules/python2.7/sklearn/datasets/svmlight_format.py:136: DeprecationWarning: using a non-integer number instead of an integer will result in an error in the future\n",
        "  return _load_svmlight_file(f, dtype, multilabel, zero_based, query_id)\n",
        "/usr/lib/pymodules/python2.7/sklearn/datasets/svmlight_format.py:136: DeprecationWarning: using a non-integer number instead of an integer will result in an error in the future\n",
        "  return _load_svmlight_file(f, dtype, multilabel, zero_based, query_id)\n",
        "/usr/lib/pymodules/python2.7/sklearn/datasets/svmlight_format.py:136: DeprecationWarning: using a non-integer number instead of an integer will result in an error in the future\n",
        "  return _load_svmlight_file(f, dtype, multilabel, zero_based, query_id)\n",
        "/usr/lib/pymodules/python2.7/sklearn/datasets/svmlight_format.py:136: DeprecationWarning: using a non-integer number instead of an integer will result in an error in the future\n",
        "  return _load_svmlight_file(f, dtype, multilabel, zero_based, query_id)\n",
        "/usr/lib/pymodules/python2.7/sklearn/datasets/svmlight_format.py:136: DeprecationWarning: using a non-integer number instead of an integer will result in an error in the future\n",
        "  return _load_svmlight_file(f, dtype, multilabel, zero_based, query_id)\n",
        "/usr/lib/pymodules/python2.7/sklearn/datasets/svmlight_format.py:136: DeprecationWarning: using a non-integer number instead of an integer will result in an error in the future\n",
        "  return _load_svmlight_file(f, dtype, multilabel, zero_based, query_id)\n",
        "/usr/lib/pymodules/python2.7/sklearn/datasets/svmlight_format.py:136: DeprecationWarning: using a non-integer number instead of an integer will result in an error in the future\n",
        "  return _load_svmlight_file(f, dtype, multilabel, zero_based, query_id)\n",
        "/usr/lib/pymodules/python2.7/sklearn/datasets/svmlight_format.py:136: DeprecationWarning: using a non-integer number instead of an integer will result in an error in the future\n",
        "  return _load_svmlight_file(f, dtype, multilabel, zero_based, query_id)\n",
        "/usr/lib/pymodules/python2.7/sklearn/datasets/svmlight_format.py:136: DeprecationWarning: using a non-integer number instead of an integer will result in an error in the future\n",
        "  return _load_svmlight_file(f, dtype, multilabel, zero_based, query_id)\n",
        "/usr/lib/pymodules/python2.7/sklearn/datasets/svmlight_format.py:136: DeprecationWarning: using a non-integer number instead of an integer will result in an error in the future\n",
        "  return _load_svmlight_file(f, dtype, multilabel, zero_based, query_id)\n"
       ]
      },
      {
       "output_type": "stream",
       "stream": "stderr",
       "text": [
        "/usr/lib/pymodules/python2.7/sklearn/datasets/svmlight_format.py:136: DeprecationWarning: using a non-integer number instead of an integer will result in an error in the future\n",
        "  return _load_svmlight_file(f, dtype, multilabel, zero_based, query_id)\n",
        "/usr/lib/pymodules/python2.7/sklearn/datasets/svmlight_format.py:136: DeprecationWarning: using a non-integer number instead of an integer will result in an error in the future\n",
        "  return _load_svmlight_file(f, dtype, multilabel, zero_based, query_id)\n",
        "/usr/lib/pymodules/python2.7/sklearn/datasets/svmlight_format.py:136: DeprecationWarning: using a non-integer number instead of an integer will result in an error in the future\n",
        "  return _load_svmlight_file(f, dtype, multilabel, zero_based, query_id)\n",
        "/usr/lib/pymodules/python2.7/sklearn/datasets/svmlight_format.py:136: DeprecationWarning: using a non-integer number instead of an integer will result in an error in the future\n",
        "  return _load_svmlight_file(f, dtype, multilabel, zero_based, query_id)\n",
        "/usr/lib/pymodules/python2.7/sklearn/datasets/svmlight_format.py:136: DeprecationWarning: using a non-integer number instead of an integer will result in an error in the future\n",
        "  return _load_svmlight_file(f, dtype, multilabel, zero_based, query_id)\n",
        "/usr/lib/pymodules/python2.7/sklearn/datasets/svmlight_format.py:136: DeprecationWarning: using a non-integer number instead of an integer will result in an error in the future\n",
        "  return _load_svmlight_file(f, dtype, multilabel, zero_based, query_id)\n",
        "/usr/lib/pymodules/python2.7/sklearn/datasets/svmlight_format.py:136: DeprecationWarning: using a non-integer number instead of an integer will result in an error in the future\n",
        "  return _load_svmlight_file(f, dtype, multilabel, zero_based, query_id)\n",
        "/usr/lib/pymodules/python2.7/sklearn/datasets/svmlight_format.py:136: DeprecationWarning: using a non-integer number instead of an integer will result in an error in the future\n",
        "  return _load_svmlight_file(f, dtype, multilabel, zero_based, query_id)\n"
       ]
      },
      {
       "output_type": "stream",
       "stream": "stderr",
       "text": [
        "/usr/lib/pymodules/python2.7/sklearn/datasets/svmlight_format.py:136: DeprecationWarning: using a non-integer number instead of an integer will result in an error in the future\n",
        "  return _load_svmlight_file(f, dtype, multilabel, zero_based, query_id)\n",
        "/usr/lib/pymodules/python2.7/sklearn/datasets/svmlight_format.py:136: DeprecationWarning: using a non-integer number instead of an integer will result in an error in the future\n",
        "  return _load_svmlight_file(f, dtype, multilabel, zero_based, query_id)\n",
        "/usr/lib/pymodules/python2.7/sklearn/datasets/svmlight_format.py:136: DeprecationWarning: using a non-integer number instead of an integer will result in an error in the future\n",
        "  return _load_svmlight_file(f, dtype, multilabel, zero_based, query_id)\n",
        "/usr/lib/pymodules/python2.7/sklearn/datasets/svmlight_format.py:136: DeprecationWarning: using a non-integer number instead of an integer will result in an error in the future\n",
        "  return _load_svmlight_file(f, dtype, multilabel, zero_based, query_id)\n"
       ]
      },
      {
       "output_type": "stream",
       "stream": "stderr",
       "text": [
        "/usr/lib/pymodules/python2.7/sklearn/datasets/svmlight_format.py:136: DeprecationWarning: using a non-integer number instead of an integer will result in an error in the future\n",
        "  return _load_svmlight_file(f, dtype, multilabel, zero_based, query_id)\n",
        "/usr/lib/pymodules/python2.7/sklearn/datasets/svmlight_format.py:136: DeprecationWarning: using a non-integer number instead of an integer will result in an error in the future\n",
        "  return _load_svmlight_file(f, dtype, multilabel, zero_based, query_id)\n",
        "/usr/lib/pymodules/python2.7/sklearn/datasets/svmlight_format.py:136: DeprecationWarning: using a non-integer number instead of an integer will result in an error in the future\n",
        "  return _load_svmlight_file(f, dtype, multilabel, zero_based, query_id)\n",
        "/usr/lib/pymodules/python2.7/sklearn/datasets/svmlight_format.py:136: DeprecationWarning: using a non-integer number instead of an integer will result in an error in the future\n",
        "  return _load_svmlight_file(f, dtype, multilabel, zero_based, query_id)\n"
       ]
      },
      {
       "output_type": "stream",
       "stream": "stderr",
       "text": [
        "/usr/lib/pymodules/python2.7/sklearn/datasets/svmlight_format.py:136: DeprecationWarning: using a non-integer number instead of an integer will result in an error in the future\n",
        "  return _load_svmlight_file(f, dtype, multilabel, zero_based, query_id)\n",
        "/usr/lib/pymodules/python2.7/sklearn/datasets/svmlight_format.py:136: DeprecationWarning: using a non-integer number instead of an integer will result in an error in the future\n",
        "  return _load_svmlight_file(f, dtype, multilabel, zero_based, query_id)\n",
        "/usr/lib/pymodules/python2.7/sklearn/datasets/svmlight_format.py:136: DeprecationWarning: using a non-integer number instead of an integer will result in an error in the future\n",
        "  return _load_svmlight_file(f, dtype, multilabel, zero_based, query_id)\n",
        "/usr/lib/pymodules/python2.7/sklearn/datasets/svmlight_format.py:136: DeprecationWarning: using a non-integer number instead of an integer will result in an error in the future\n",
        "  return _load_svmlight_file(f, dtype, multilabel, zero_based, query_id)\n"
       ]
      },
      {
       "output_type": "stream",
       "stream": "stderr",
       "text": [
        "/usr/lib/pymodules/python2.7/sklearn/datasets/svmlight_format.py:136: DeprecationWarning: using a non-integer number instead of an integer will result in an error in the future\n",
        "  return _load_svmlight_file(f, dtype, multilabel, zero_based, query_id)\n",
        "/usr/lib/pymodules/python2.7/sklearn/datasets/svmlight_format.py:136: DeprecationWarning: using a non-integer number instead of an integer will result in an error in the future\n",
        "  return _load_svmlight_file(f, dtype, multilabel, zero_based, query_id)\n"
       ]
      },
      {
       "output_type": "stream",
       "stream": "stderr",
       "text": [
        "/usr/lib/pymodules/python2.7/sklearn/datasets/svmlight_format.py:136: DeprecationWarning: using a non-integer number instead of an integer will result in an error in the future\n",
        "  return _load_svmlight_file(f, dtype, multilabel, zero_based, query_id)\n",
        "/usr/lib/pymodules/python2.7/sklearn/datasets/svmlight_format.py:136: DeprecationWarning: using a non-integer number instead of an integer will result in an error in the future\n",
        "  return _load_svmlight_file(f, dtype, multilabel, zero_based, query_id)\n"
       ]
      },
      {
       "output_type": "stream",
       "stream": "stderr",
       "text": [
        "/usr/lib/pymodules/python2.7/sklearn/datasets/svmlight_format.py:136: DeprecationWarning: using a non-integer number instead of an integer will result in an error in the future\n",
        "  return _load_svmlight_file(f, dtype, multilabel, zero_based, query_id)\n",
        "/usr/lib/pymodules/python2.7/sklearn/datasets/svmlight_format.py:136: DeprecationWarning: using a non-integer number instead of an integer will result in an error in the future\n",
        "  return _load_svmlight_file(f, dtype, multilabel, zero_based, query_id)\n"
       ]
      },
      {
       "output_type": "stream",
       "stream": "stderr",
       "text": [
        "/usr/lib/pymodules/python2.7/sklearn/datasets/svmlight_format.py:136: DeprecationWarning: using a non-integer number instead of an integer will result in an error in the future\n",
        "  return _load_svmlight_file(f, dtype, multilabel, zero_based, query_id)\n",
        "/usr/lib/pymodules/python2.7/sklearn/datasets/svmlight_format.py:136: DeprecationWarning: using a non-integer number instead of an integer will result in an error in the future\n",
        "  return _load_svmlight_file(f, dtype, multilabel, zero_based, query_id)\n"
       ]
      },
      {
       "output_type": "stream",
       "stream": "stderr",
       "text": [
        "/usr/lib/pymodules/python2.7/sklearn/datasets/svmlight_format.py:136: DeprecationWarning: using a non-integer number instead of an integer will result in an error in the future\n",
        "  return _load_svmlight_file(f, dtype, multilabel, zero_based, query_id)\n",
        "/usr/lib/pymodules/python2.7/sklearn/datasets/svmlight_format.py:136: DeprecationWarning: using a non-integer number instead of an integer will result in an error in the future\n",
        "  return _load_svmlight_file(f, dtype, multilabel, zero_based, query_id)\n",
        "/usr/lib/pymodules/python2.7/sklearn/datasets/svmlight_format.py:136: DeprecationWarning: using a non-integer number instead of an integer will result in an error in the future\n",
        "  return _load_svmlight_file(f, dtype, multilabel, zero_based, query_id)\n",
        "/usr/lib/pymodules/python2.7/sklearn/datasets/svmlight_format.py:136: DeprecationWarning: using a non-integer number instead of an integer will result in an error in the future\n",
        "  return _load_svmlight_file(f, dtype, multilabel, zero_based, query_id)\n",
        "/usr/lib/pymodules/python2.7/sklearn/datasets/svmlight_format.py:136: DeprecationWarning: using a non-integer number instead of an integer will result in an error in the future\n",
        "  return _load_svmlight_file(f, dtype, multilabel, zero_based, query_id)\n",
        "/usr/lib/pymodules/python2.7/sklearn/datasets/svmlight_format.py:136: DeprecationWarning: using a non-integer number instead of an integer will result in an error in the future\n",
        "  return _load_svmlight_file(f, dtype, multilabel, zero_based, query_id)\n",
        "/usr/lib/pymodules/python2.7/sklearn/datasets/svmlight_format.py:136: DeprecationWarning: using a non-integer number instead of an integer will result in an error in the future\n",
        "  return _load_svmlight_file(f, dtype, multilabel, zero_based, query_id)\n",
        "/usr/lib/pymodules/python2.7/sklearn/datasets/svmlight_format.py:136: DeprecationWarning: using a non-integer number instead of an integer will result in an error in the future\n",
        "  return _load_svmlight_file(f, dtype, multilabel, zero_based, query_id)\n",
        "/usr/lib/pymodules/python2.7/sklearn/datasets/svmlight_format.py:136: DeprecationWarning: using a non-integer number instead of an integer will result in an error in the future\n",
        "  return _load_svmlight_file(f, dtype, multilabel, zero_based, query_id)\n",
        "/usr/lib/pymodules/python2.7/sklearn/datasets/svmlight_format.py:136: DeprecationWarning: using a non-integer number instead of an integer will result in an error in the future\n",
        "  return _load_svmlight_file(f, dtype, multilabel, zero_based, query_id)\n",
        "/usr/lib/pymodules/python2.7/sklearn/datasets/svmlight_format.py:136: DeprecationWarning: using a non-integer number instead of an integer will result in an error in the future\n",
        "  return _load_svmlight_file(f, dtype, multilabel, zero_based, query_id)\n",
        "/usr/lib/pymodules/python2.7/sklearn/datasets/svmlight_format.py:136: DeprecationWarning: using a non-integer number instead of an integer will result in an error in the future\n",
        "  return _load_svmlight_file(f, dtype, multilabel, zero_based, query_id)\n",
        "/usr/lib/pymodules/python2.7/sklearn/datasets/svmlight_format.py:136: DeprecationWarning: using a non-integer number instead of an integer will result in an error in the future\n",
        "  return _load_svmlight_file(f, dtype, multilabel, zero_based, query_id)\n",
        "/usr/lib/pymodules/python2.7/sklearn/datasets/svmlight_format.py:136: DeprecationWarning: using a non-integer number instead of an integer will result in an error in the future\n",
        "  return _load_svmlight_file(f, dtype, multilabel, zero_based, query_id)\n",
        "/usr/lib/pymodules/python2.7/sklearn/datasets/svmlight_format.py:136: DeprecationWarning: using a non-integer number instead of an integer will result in an error in the future\n",
        "  return _load_svmlight_file(f, dtype, multilabel, zero_based, query_id)\n",
        "/usr/lib/pymodules/python2.7/sklearn/datasets/svmlight_format.py:136: DeprecationWarning: using a non-integer number instead of an integer will result in an error in the future\n",
        "  return _load_svmlight_file(f, dtype, multilabel, zero_based, query_id)\n",
        "/usr/lib/pymodules/python2.7/sklearn/datasets/svmlight_format.py:136: DeprecationWarning: using a non-integer number instead of an integer will result in an error in the future\n",
        "  return _load_svmlight_file(f, dtype, multilabel, zero_based, query_id)\n",
        "/usr/lib/pymodules/python2.7/sklearn/datasets/svmlight_format.py:136: DeprecationWarning: using a non-integer number instead of an integer will result in an error in the future\n",
        "  return _load_svmlight_file(f, dtype, multilabel, zero_based, query_id)\n",
        "/usr/lib/pymodules/python2.7/sklearn/datasets/svmlight_format.py:136: DeprecationWarning: using a non-integer number instead of an integer will result in an error in the future\n",
        "  return _load_svmlight_file(f, dtype, multilabel, zero_based, query_id)\n",
        "/usr/lib/pymodules/python2.7/sklearn/datasets/svmlight_format.py:136: DeprecationWarning: using a non-integer number instead of an integer will result in an error in the future\n",
        "  return _load_svmlight_file(f, dtype, multilabel, zero_based, query_id)\n",
        "/usr/lib/pymodules/python2.7/sklearn/datasets/svmlight_format.py:136: DeprecationWarning: using a non-integer number instead of an integer will result in an error in the future\n",
        "  return _load_svmlight_file(f, dtype, multilabel, zero_based, query_id)\n",
        "/usr/lib/pymodules/python2.7/sklearn/datasets/svmlight_format.py:136: DeprecationWarning: using a non-integer number instead of an integer will result in an error in the future\n",
        "  return _load_svmlight_file(f, dtype, multilabel, zero_based, query_id)\n",
        "/usr/lib/pymodules/python2.7/sklearn/datasets/svmlight_format.py:136: DeprecationWarning: using a non-integer number instead of an integer will result in an error in the future\n",
        "  return _load_svmlight_file(f, dtype, multilabel, zero_based, query_id)\n",
        "/usr/lib/pymodules/python2.7/sklearn/datasets/svmlight_format.py:136: DeprecationWarning: using a non-integer number instead of an integer will result in an error in the future\n",
        "  return _load_svmlight_file(f, dtype, multilabel, zero_based, query_id)\n",
        "/usr/lib/pymodules/python2.7/sklearn/datasets/svmlight_format.py:136: DeprecationWarning: using a non-integer number instead of an integer will result in an error in the future\n",
        "  return _load_svmlight_file(f, dtype, multilabel, zero_based, query_id)\n",
        "/usr/lib/pymodules/python2.7/sklearn/datasets/svmlight_format.py:136: DeprecationWarning: using a non-integer number instead of an integer will result in an error in the future\n",
        "  return _load_svmlight_file(f, dtype, multilabel, zero_based, query_id)\n",
        "/usr/lib/pymodules/python2.7/sklearn/datasets/svmlight_format.py:136: DeprecationWarning: using a non-integer number instead of an integer will result in an error in the future\n",
        "  return _load_svmlight_file(f, dtype, multilabel, zero_based, query_id)\n",
        "/usr/lib/pymodules/python2.7/sklearn/datasets/svmlight_format.py:136: DeprecationWarning: using a non-integer number instead of an integer will result in an error in the future\n",
        "  return _load_svmlight_file(f, dtype, multilabel, zero_based, query_id)\n",
        "/usr/lib/pymodules/python2.7/sklearn/datasets/svmlight_format.py:136: DeprecationWarning: using a non-integer number instead of an integer will result in an error in the future\n",
        "  return _load_svmlight_file(f, dtype, multilabel, zero_based, query_id)\n",
        "/usr/lib/pymodules/python2.7/sklearn/datasets/svmlight_format.py:136: DeprecationWarning: using a non-integer number instead of an integer will result in an error in the future\n",
        "  return _load_svmlight_file(f, dtype, multilabel, zero_based, query_id)\n",
        "/usr/lib/pymodules/python2.7/sklearn/datasets/svmlight_format.py:136: DeprecationWarning: using a non-integer number instead of an integer will result in an error in the future\n",
        "  return _load_svmlight_file(f, dtype, multilabel, zero_based, query_id)\n",
        "/usr/lib/pymodules/python2.7/sklearn/datasets/svmlight_format.py:136: DeprecationWarning: using a non-integer number instead of an integer will result in an error in the future\n",
        "  return _load_svmlight_file(f, dtype, multilabel, zero_based, query_id)\n",
        "/usr/lib/pymodules/python2.7/sklearn/datasets/svmlight_format.py:136: DeprecationWarning: using a non-integer number instead of an integer will result in an error in the future\n",
        "  return _load_svmlight_file(f, dtype, multilabel, zero_based, query_id)\n",
        "/usr/lib/pymodules/python2.7/sklearn/datasets/svmlight_format.py:136: DeprecationWarning: using a non-integer number instead of an integer will result in an error in the future\n",
        "  return _load_svmlight_file(f, dtype, multilabel, zero_based, query_id)\n",
        "/usr/lib/pymodules/python2.7/sklearn/datasets/svmlight_format.py:136: DeprecationWarning: using a non-integer number instead of an integer will result in an error in the future\n",
        "  return _load_svmlight_file(f, dtype, multilabel, zero_based, query_id)\n",
        "/usr/lib/pymodules/python2.7/sklearn/datasets/svmlight_format.py:136: DeprecationWarning: using a non-integer number instead of an integer will result in an error in the future\n",
        "  return _load_svmlight_file(f, dtype, multilabel, zero_based, query_id)\n"
       ]
      },
      {
       "output_type": "stream",
       "stream": "stderr",
       "text": [
        "/usr/lib/pymodules/python2.7/sklearn/datasets/svmlight_format.py:136: DeprecationWarning: using a non-integer number instead of an integer will result in an error in the future\n",
        "  return _load_svmlight_file(f, dtype, multilabel, zero_based, query_id)\n",
        "/usr/lib/pymodules/python2.7/sklearn/datasets/svmlight_format.py:136: DeprecationWarning: using a non-integer number instead of an integer will result in an error in the future\n",
        "  return _load_svmlight_file(f, dtype, multilabel, zero_based, query_id)\n",
        "/usr/lib/pymodules/python2.7/sklearn/datasets/svmlight_format.py:136: DeprecationWarning: using a non-integer number instead of an integer will result in an error in the future\n",
        "  return _load_svmlight_file(f, dtype, multilabel, zero_based, query_id)\n",
        "/usr/lib/pymodules/python2.7/sklearn/datasets/svmlight_format.py:136: DeprecationWarning: using a non-integer number instead of an integer will result in an error in the future\n",
        "  return _load_svmlight_file(f, dtype, multilabel, zero_based, query_id)\n",
        "/usr/lib/pymodules/python2.7/sklearn/datasets/svmlight_format.py:136: DeprecationWarning: using a non-integer number instead of an integer will result in an error in the future\n",
        "  return _load_svmlight_file(f, dtype, multilabel, zero_based, query_id)\n",
        "/usr/lib/pymodules/python2.7/sklearn/datasets/svmlight_format.py:136: DeprecationWarning: using a non-integer number instead of an integer will result in an error in the future\n",
        "  return _load_svmlight_file(f, dtype, multilabel, zero_based, query_id)\n",
        "/usr/lib/pymodules/python2.7/sklearn/datasets/svmlight_format.py:136: DeprecationWarning: using a non-integer number instead of an integer will result in an error in the future\n",
        "  return _load_svmlight_file(f, dtype, multilabel, zero_based, query_id)\n"
       ]
      },
      {
       "output_type": "stream",
       "stream": "stderr",
       "text": [
        "/usr/lib/pymodules/python2.7/sklearn/datasets/svmlight_format.py:136: DeprecationWarning: using a non-integer number instead of an integer will result in an error in the future\n",
        "  return _load_svmlight_file(f, dtype, multilabel, zero_based, query_id)\n",
        "/usr/lib/pymodules/python2.7/sklearn/datasets/svmlight_format.py:136: DeprecationWarning: using a non-integer number instead of an integer will result in an error in the future\n",
        "  return _load_svmlight_file(f, dtype, multilabel, zero_based, query_id)\n",
        "/usr/lib/pymodules/python2.7/sklearn/datasets/svmlight_format.py:136: DeprecationWarning: using a non-integer number instead of an integer will result in an error in the future\n",
        "  return _load_svmlight_file(f, dtype, multilabel, zero_based, query_id)\n",
        "/usr/lib/pymodules/python2.7/sklearn/datasets/svmlight_format.py:136: DeprecationWarning: using a non-integer number instead of an integer will result in an error in the future\n",
        "  return _load_svmlight_file(f, dtype, multilabel, zero_based, query_id)\n",
        "/usr/lib/pymodules/python2.7/sklearn/datasets/svmlight_format.py:136: DeprecationWarning: using a non-integer number instead of an integer will result in an error in the future\n",
        "  return _load_svmlight_file(f, dtype, multilabel, zero_based, query_id)\n"
       ]
      },
      {
       "output_type": "stream",
       "stream": "stderr",
       "text": [
        "/usr/lib/pymodules/python2.7/sklearn/datasets/svmlight_format.py:136: DeprecationWarning: using a non-integer number instead of an integer will result in an error in the future\n",
        "  return _load_svmlight_file(f, dtype, multilabel, zero_based, query_id)\n",
        "/usr/lib/pymodules/python2.7/sklearn/datasets/svmlight_format.py:136: DeprecationWarning: using a non-integer number instead of an integer will result in an error in the future\n",
        "  return _load_svmlight_file(f, dtype, multilabel, zero_based, query_id)\n"
       ]
      },
      {
       "output_type": "stream",
       "stream": "stderr",
       "text": [
        "/usr/lib/pymodules/python2.7/sklearn/datasets/svmlight_format.py:136: DeprecationWarning: using a non-integer number instead of an integer will result in an error in the future\n",
        "  return _load_svmlight_file(f, dtype, multilabel, zero_based, query_id)\n",
        "/usr/lib/pymodules/python2.7/sklearn/datasets/svmlight_format.py:136: DeprecationWarning: using a non-integer number instead of an integer will result in an error in the future\n",
        "  return _load_svmlight_file(f, dtype, multilabel, zero_based, query_id)\n",
        "/usr/lib/pymodules/python2.7/sklearn/datasets/svmlight_format.py:136: DeprecationWarning: using a non-integer number instead of an integer will result in an error in the future\n",
        "  return _load_svmlight_file(f, dtype, multilabel, zero_based, query_id)\n",
        "/usr/lib/pymodules/python2.7/sklearn/datasets/svmlight_format.py:136: DeprecationWarning: using a non-integer number instead of an integer will result in an error in the future\n",
        "  return _load_svmlight_file(f, dtype, multilabel, zero_based, query_id)\n"
       ]
      },
      {
       "output_type": "stream",
       "stream": "stderr",
       "text": [
        "/usr/lib/pymodules/python2.7/sklearn/datasets/svmlight_format.py:136: DeprecationWarning: using a non-integer number instead of an integer will result in an error in the future\n",
        "  return _load_svmlight_file(f, dtype, multilabel, zero_based, query_id)\n",
        "/usr/lib/pymodules/python2.7/sklearn/datasets/svmlight_format.py:136: DeprecationWarning: using a non-integer number instead of an integer will result in an error in the future\n",
        "  return _load_svmlight_file(f, dtype, multilabel, zero_based, query_id)\n"
       ]
      },
      {
       "output_type": "stream",
       "stream": "stderr",
       "text": [
        "/usr/lib/pymodules/python2.7/sklearn/datasets/svmlight_format.py:136: DeprecationWarning: using a non-integer number instead of an integer will result in an error in the future\n",
        "  return _load_svmlight_file(f, dtype, multilabel, zero_based, query_id)\n",
        "/usr/lib/pymodules/python2.7/sklearn/datasets/svmlight_format.py:136: DeprecationWarning: using a non-integer number instead of an integer will result in an error in the future\n",
        "  return _load_svmlight_file(f, dtype, multilabel, zero_based, query_id)\n"
       ]
      },
      {
       "output_type": "stream",
       "stream": "stderr",
       "text": [
        "/usr/lib/pymodules/python2.7/sklearn/datasets/svmlight_format.py:136: DeprecationWarning: using a non-integer number instead of an integer will result in an error in the future\n",
        "  return _load_svmlight_file(f, dtype, multilabel, zero_based, query_id)\n",
        "/usr/lib/pymodules/python2.7/sklearn/datasets/svmlight_format.py:136: DeprecationWarning: using a non-integer number instead of an integer will result in an error in the future\n",
        "  return _load_svmlight_file(f, dtype, multilabel, zero_based, query_id)\n"
       ]
      },
      {
       "output_type": "stream",
       "stream": "stdout",
       "text": [
        "Sample size: 23415\n",
        "iPad: time\n",
        "C:1000.000000, score: 0.64"
       ]
      },
      {
       "output_type": "stream",
       "stream": "stdout",
       "text": [
        "\n",
        "C:100.000000, score: 0.64"
       ]
      },
      {
       "output_type": "stream",
       "stream": "stdout",
       "text": [
        "\n",
        "C:10.000000, score: 0.64"
       ]
      },
      {
       "output_type": "stream",
       "stream": "stdout",
       "text": [
        "\n",
        "C:1.000000, score: 0.64"
       ]
      },
      {
       "output_type": "stream",
       "stream": "stdout",
       "text": [
        "\n",
        "C:0.100000, score: 0.64"
       ]
      },
      {
       "output_type": "stream",
       "stream": "stdout",
       "text": [
        "\n",
        "C:0.010000, score: 0.64"
       ]
      },
      {
       "output_type": "stream",
       "stream": "stdout",
       "text": [
        "\n",
        "C:0.001000, score: 0.64"
       ]
      },
      {
       "output_type": "stream",
       "stream": "stdout",
       "text": [
        "\n",
        "C:0.000100, score: 0.50"
       ]
      },
      {
       "output_type": "stream",
       "stream": "stdout",
       "text": [
        "\n",
        "C:0.000010, score: 0.50"
       ]
      },
      {
       "output_type": "stream",
       "stream": "stdout",
       "text": [
        "\n",
        "C:0.000001, score: 0.50"
       ]
      },
      {
       "output_type": "stream",
       "stream": "stdout",
       "text": [
        "\n",
        "C:1000.000000, Final scores: 0.64\n",
        "\n",
        "confidence: 0.60\n",
        "[[-0.92607603 -1.50687234 -0.37480135]] [ 4.21512952]\n",
        "iPad: ad\n",
        "C:1000.000000, score: 0.57"
       ]
      },
      {
       "output_type": "stream",
       "stream": "stdout",
       "text": [
        "\n",
        "C:100.000000, score: 0.57"
       ]
      },
      {
       "output_type": "stream",
       "stream": "stdout",
       "text": [
        "\n",
        "C:10.000000, score: 0.57"
       ]
      },
      {
       "output_type": "stream",
       "stream": "stdout",
       "text": [
        "\n",
        "C:1.000000, score: 0.57"
       ]
      },
      {
       "output_type": "stream",
       "stream": "stdout",
       "text": [
        "\n",
        "C:0.100000, score: 0.57"
       ]
      },
      {
       "output_type": "stream",
       "stream": "stdout",
       "text": [
        "\n",
        "C:0.010000, score: 0.57"
       ]
      },
      {
       "output_type": "stream",
       "stream": "stdout",
       "text": [
        "\n",
        "C:0.001000, score: 0.55"
       ]
      },
      {
       "output_type": "stream",
       "stream": "stdout",
       "text": [
        "\n",
        "C:0.000100, score: 0.51"
       ]
      },
      {
       "output_type": "stream",
       "stream": "stdout",
       "text": [
        "\n",
        "C:0.000010, score: 0.51"
       ]
      },
      {
       "output_type": "stream",
       "stream": "stdout",
       "text": [
        "\n",
        "C:0.000001, score: 0.51"
       ]
      },
      {
       "output_type": "stream",
       "stream": "stdout",
       "text": [
        "\n",
        "C:1000.000000, Final scores: 0.57\n"
       ]
      },
      {
       "output_type": "stream",
       "stream": "stdout",
       "text": [
        "\n",
        "confidence: 0.28\n",
        "[[ 0.62656303  0.19653297 -0.13771309]] [-0.97781262]\n",
        "**********\n",
        "**********\n",
        "\n",
        "Sample size: 13760\n",
        "Android: time\n",
        "C:1000.000000, score: 0.55"
       ]
      },
      {
       "output_type": "stream",
       "stream": "stdout",
       "text": [
        "\n",
        "C:100.000000, score: 0.55"
       ]
      },
      {
       "output_type": "stream",
       "stream": "stdout",
       "text": [
        "\n",
        "C:10.000000, score: 0.55"
       ]
      },
      {
       "output_type": "stream",
       "stream": "stdout",
       "text": [
        "\n",
        "C:1.000000, score: 0.56"
       ]
      },
      {
       "output_type": "stream",
       "stream": "stdout",
       "text": [
        "\n",
        "C:0.100000, score: 0.57"
       ]
      },
      {
       "output_type": "stream",
       "stream": "stdout",
       "text": [
        "\n",
        "C:0.010000, score: 0.57"
       ]
      },
      {
       "output_type": "stream",
       "stream": "stdout",
       "text": [
        "\n",
        "C:0.001000, score: 0.57"
       ]
      },
      {
       "output_type": "stream",
       "stream": "stdout",
       "text": [
        "\n",
        "C:0.000100, score: 0.50"
       ]
      },
      {
       "output_type": "stream",
       "stream": "stdout",
       "text": [
        "\n",
        "C:0.000010, score: 0.50"
       ]
      },
      {
       "output_type": "stream",
       "stream": "stdout",
       "text": [
        "\n",
        "C:0.000001, score: 0.50"
       ]
      },
      {
       "output_type": "stream",
       "stream": "stdout",
       "text": [
        "\n",
        "C:0.100000, Final scores: 0.57\n",
        "\n",
        "confidence: 0.25\n",
        "[[-0.79666079 -0.5647923  -0.19469081]] [ 2.32979186]\n",
        "Android: ad\n",
        "C:1000.000000, score: 0.55"
       ]
      },
      {
       "output_type": "stream",
       "stream": "stdout",
       "text": [
        "\n",
        "C:100.000000, score: 0.55"
       ]
      },
      {
       "output_type": "stream",
       "stream": "stdout",
       "text": [
        "\n",
        "C:10.000000, score: 0.55"
       ]
      },
      {
       "output_type": "stream",
       "stream": "stdout",
       "text": [
        "\n",
        "C:1.000000, score: 0.55"
       ]
      },
      {
       "output_type": "stream",
       "stream": "stdout",
       "text": [
        "\n",
        "C:0.100000, score: 0.55"
       ]
      },
      {
       "output_type": "stream",
       "stream": "stdout",
       "text": [
        "\n",
        "C:0.010000, score: 0.55"
       ]
      },
      {
       "output_type": "stream",
       "stream": "stdout",
       "text": [
        "\n",
        "C:0.001000, score: 0.55"
       ]
      },
      {
       "output_type": "stream",
       "stream": "stdout",
       "text": [
        "\n",
        "C:0.000100, score: 0.54"
       ]
      },
      {
       "output_type": "stream",
       "stream": "stdout",
       "text": [
        "\n",
        "C:0.000010, score: 0.51"
       ]
      },
      {
       "output_type": "stream",
       "stream": "stdout",
       "text": [
        "\n",
        "C:0.000001, score: 0.50"
       ]
      },
      {
       "output_type": "stream",
       "stream": "stdout",
       "text": [
        "\n",
        "C:1000.000000, Final scores: 0.55\n",
        "\n",
        "confidence: 0.19\n",
        "[[ 0.13950289  0.03351473 -0.38845588]] [ 0.3353317]\n",
        "**********\n",
        "**********\n",
        "\n",
        "Sample size: 17102\n",
        "iPhone: time\n",
        "C:1000.000000, score: 0.62"
       ]
      },
      {
       "output_type": "stream",
       "stream": "stdout",
       "text": [
        "\n",
        "C:100.000000, score: 0.62"
       ]
      },
      {
       "output_type": "stream",
       "stream": "stdout",
       "text": [
        "\n",
        "C:10.000000, score: 0.62"
       ]
      },
      {
       "output_type": "stream",
       "stream": "stdout",
       "text": [
        "\n",
        "C:1.000000, score: 0.62"
       ]
      },
      {
       "output_type": "stream",
       "stream": "stdout",
       "text": [
        "\n",
        "C:0.100000, score: 0.62"
       ]
      },
      {
       "output_type": "stream",
       "stream": "stdout",
       "text": [
        "\n",
        "C:0.010000, score: 0.62"
       ]
      },
      {
       "output_type": "stream",
       "stream": "stdout",
       "text": [
        "\n",
        "C:0.001000, score: 0.62"
       ]
      },
      {
       "output_type": "stream",
       "stream": "stdout",
       "text": [
        "\n",
        "C:0.000100, score: 0.50"
       ]
      },
      {
       "output_type": "stream",
       "stream": "stdout",
       "text": [
        "\n",
        "C:0.000010, score: 0.50"
       ]
      },
      {
       "output_type": "stream",
       "stream": "stdout",
       "text": [
        "\n",
        "C:0.000001, score: 0.50"
       ]
      },
      {
       "output_type": "stream",
       "stream": "stdout",
       "text": [
        "\n",
        "C:1000.000000, Final scores: 0.62\n",
        "\n",
        "confidence: 0.52\n",
        "[[-1.04845561 -1.49584511 -0.17841914]] [ 4.08543234]\n",
        "iPhone: ad\n",
        "C:1000.000000, score: 0.56"
       ]
      },
      {
       "output_type": "stream",
       "stream": "stdout",
       "text": [
        "\n",
        "C:100.000000, score: 0.56"
       ]
      },
      {
       "output_type": "stream",
       "stream": "stdout",
       "text": [
        "\n",
        "C:10.000000, score: 0.56"
       ]
      },
      {
       "output_type": "stream",
       "stream": "stdout",
       "text": [
        "\n",
        "C:1.000000, score: 0.56"
       ]
      },
      {
       "output_type": "stream",
       "stream": "stdout",
       "text": [
        "\n",
        "C:0.100000, score: 0.56"
       ]
      },
      {
       "output_type": "stream",
       "stream": "stdout",
       "text": [
        "\n",
        "C:0.010000, score: 0.56"
       ]
      },
      {
       "output_type": "stream",
       "stream": "stdout",
       "text": [
        "\n",
        "C:0.001000, score: 0.53"
       ]
      },
      {
       "output_type": "stream",
       "stream": "stdout",
       "text": [
        "\n",
        "C:0.000100, score: 0.53"
       ]
      },
      {
       "output_type": "stream",
       "stream": "stdout",
       "text": [
        "\n",
        "C:0.000010, score: 0.53"
       ]
      },
      {
       "output_type": "stream",
       "stream": "stdout",
       "text": [
        "\n",
        "C:0.000001, score: 0.53"
       ]
      },
      {
       "output_type": "stream",
       "stream": "stdout",
       "text": [
        "\n",
        "C:1000.000000, Final scores: 0.56\n",
        "\n",
        "confidence: 0.25\n",
        "[[ 0.59777471  0.20883239 -0.06068558]] [-1.00589833]\n",
        "**********\n",
        "**********\n",
        "\n",
        "Sample size: 348"
       ]
      },
      {
       "output_type": "stream",
       "stream": "stdout",
       "text": [
        "\n",
        "Apple TV: time\n",
        "C:1000.000000, score: 0.60\n",
        "C:100.000000, score: 0.60\n",
        "C:10.000000, score: 0.60\n",
        "C:1.000000, score: 0.60\n",
        "C:0.100000, score: 0.59\n",
        "C:0.010000, score: 0.57\n",
        "C:0.001000, score: 0.49\n",
        "C:0.000100, score: 0.47\n",
        "C:0.000010, score: 0.47\n",
        "C:0.000001, score: 0.47"
       ]
      },
      {
       "ename": "ValueError",
       "evalue": "The number of classes has to be greater than one.",
       "output_type": "pyerr",
       "traceback": [
        "\u001b[0;31m---------------------------------------------------------------------------\u001b[0m\n\u001b[0;31mValueError\u001b[0m                                Traceback (most recent call last)",
        "\u001b[0;32m<ipython-input-39-b5ab95aaa4c7>\u001b[0m in \u001b[0;36m<module>\u001b[0;34m()\u001b[0m\n\u001b[1;32m    152\u001b[0m     \u001b[0mc\u001b[0m\u001b[0;34m.\u001b[0m\u001b[0mplot\u001b[0m\u001b[0;34m(\u001b[0m\u001b[0;34m'iPhone'\u001b[0m\u001b[0;34m)\u001b[0m\u001b[0;34m\u001b[0m\u001b[0m\n\u001b[1;32m    153\u001b[0m \u001b[0;34m\u001b[0m\u001b[0m\n\u001b[0;32m--> 154\u001b[0;31m     \u001b[0mc\u001b[0m\u001b[0;34m.\u001b[0m\u001b[0mplot\u001b[0m\u001b[0;34m(\u001b[0m\u001b[0;34m'Apple TV'\u001b[0m\u001b[0;34m)\u001b[0m\u001b[0;34m\u001b[0m\u001b[0m\n\u001b[0m",
        "\u001b[0;32m<ipython-input-39-b5ab95aaa4c7>\u001b[0m in \u001b[0;36mplot\u001b[0;34m(self, p)\u001b[0m\n\u001b[1;32m    136\u001b[0m \u001b[0;34m\u001b[0m\u001b[0m\n\u001b[1;32m    137\u001b[0m         \u001b[0;32mprint\u001b[0m \u001b[0mp\u001b[0m \u001b[0;34m+\u001b[0m \u001b[0;34m\": ad\"\u001b[0m\u001b[0;34m\u001b[0m\u001b[0m\n\u001b[0;32m--> 138\u001b[0;31m         \u001b[0mad_score\u001b[0m\u001b[0;34m,\u001b[0m \u001b[0mad_clf\u001b[0m \u001b[0;34m=\u001b[0m \u001b[0mself\u001b[0m\u001b[0;34m.\u001b[0m\u001b[0mtrain_and_test\u001b[0m\u001b[0;34m(\u001b[0m\u001b[0mfeatures\u001b[0m\u001b[0;34m,\u001b[0m \u001b[0mad_train\u001b[0m\u001b[0;34m)\u001b[0m\u001b[0;34m\u001b[0m\u001b[0m\n\u001b[0m\u001b[1;32m    139\u001b[0m \u001b[0;34m\u001b[0m\u001b[0m\n\u001b[1;32m    140\u001b[0m         \u001b[0;32mprint\u001b[0m \u001b[0;34m\"**********\\n**********\\n\"\u001b[0m\u001b[0;34m\u001b[0m\u001b[0m\n",
        "\u001b[0;32m<ipython-input-39-b5ab95aaa4c7>\u001b[0m in \u001b[0;36mtrain_and_test\u001b[0;34m(self, feature, label, n, test_size)\u001b[0m\n\u001b[1;32m     94\u001b[0m \u001b[0;34m\u001b[0m\u001b[0m\n\u001b[1;32m     95\u001b[0m                 \u001b[0mclf\u001b[0m \u001b[0;34m=\u001b[0m \u001b[0mLogisticRegression\u001b[0m\u001b[0;34m(\u001b[0m\u001b[0mC\u001b[0m\u001b[0;34m=\u001b[0m\u001b[0mC\u001b[0m\u001b[0;34m)\u001b[0m\u001b[0;34m\u001b[0m\u001b[0m\n\u001b[0;32m---> 96\u001b[0;31m                 \u001b[0mclf\u001b[0m \u001b[0;34m=\u001b[0m \u001b[0mclf\u001b[0m\u001b[0;34m.\u001b[0m\u001b[0mfit\u001b[0m\u001b[0;34m(\u001b[0m\u001b[0mfeature_train\u001b[0m\u001b[0;34m,\u001b[0m \u001b[0mlabel_train\u001b[0m\u001b[0;34m)\u001b[0m\u001b[0;34m\u001b[0m\u001b[0m\n\u001b[0m\u001b[1;32m     97\u001b[0m                 \u001b[0mscore\u001b[0m \u001b[0;34m=\u001b[0m \u001b[0mclf\u001b[0m\u001b[0;34m.\u001b[0m\u001b[0mscore\u001b[0m\u001b[0;34m(\u001b[0m\u001b[0mfeature_test\u001b[0m\u001b[0;34m,\u001b[0m \u001b[0mlabel_test\u001b[0m\u001b[0;34m)\u001b[0m\u001b[0;34m\u001b[0m\u001b[0m\n\u001b[1;32m     98\u001b[0m                 \u001b[0mscores\u001b[0m\u001b[0;34m.\u001b[0m\u001b[0mappend\u001b[0m\u001b[0;34m(\u001b[0m\u001b[0mscore\u001b[0m\u001b[0;34m)\u001b[0m\u001b[0;34m\u001b[0m\u001b[0m\n",
        "\u001b[0;32m/usr/lib/pymodules/python2.7/sklearn/svm/base.pyc\u001b[0m in \u001b[0;36mfit\u001b[0;34m(self, X, y)\u001b[0m\n\u001b[1;32m    672\u001b[0m         \u001b[0my\u001b[0m \u001b[0;34m=\u001b[0m \u001b[0mself\u001b[0m\u001b[0;34m.\u001b[0m\u001b[0m_enc\u001b[0m\u001b[0;34m.\u001b[0m\u001b[0mfit_transform\u001b[0m\u001b[0;34m(\u001b[0m\u001b[0my\u001b[0m\u001b[0;34m)\u001b[0m\u001b[0;34m\u001b[0m\u001b[0m\n\u001b[1;32m    673\u001b[0m         \u001b[0;32mif\u001b[0m \u001b[0mlen\u001b[0m\u001b[0;34m(\u001b[0m\u001b[0mself\u001b[0m\u001b[0;34m.\u001b[0m\u001b[0mclasses_\u001b[0m\u001b[0;34m)\u001b[0m \u001b[0;34m<\u001b[0m \u001b[0;36m2\u001b[0m\u001b[0;34m:\u001b[0m\u001b[0;34m\u001b[0m\u001b[0m\n\u001b[0;32m--> 674\u001b[0;31m             raise ValueError(\"The number of classes has to be greater than\"\n\u001b[0m\u001b[1;32m    675\u001b[0m                              \" one.\")\n\u001b[1;32m    676\u001b[0m \u001b[0;34m\u001b[0m\u001b[0m\n",
        "\u001b[0;31mValueError\u001b[0m: The number of classes has to be greater than one."
       ]
      },
      {
       "output_type": "stream",
       "stream": "stdout",
       "text": [
        "\n",
        "C:1000.000000, Final scores: 0.63\n",
        "\n",
        "confidence: 0.51\n",
        "[[ 0.58237744 -0.98860693 -0.40809364]] [ 1.2429848]\n",
        "Apple TV: ad\n"
       ]
      },
      {
       "output_type": "stream",
       "stream": "stderr",
       "text": [
        "/usr/lib/pymodules/python2.7/sklearn/datasets/svmlight_format.py:136: DeprecationWarning: using a non-integer number instead of an integer will result in an error in the future\n",
        "  return _load_svmlight_file(f, dtype, multilabel, zero_based, query_id)\n"
       ]
      }
     ],
     "prompt_number": 39
    },
    {
     "cell_type": "code",
     "collapsed": false,
     "input": [
      "import numpy as np\n",
      "import matplotlib.pyplot as plt\n",
      "from sklearn.cross_validation import cross_val_score\n",
      "from sklearn.datasets import load_svmlight_file\n",
      "from sklearn.cross_validation import train_test_split, KFold\n",
      "\n",
      "from sklearn.multiclass import OneVsRestClassifier\n",
      "from sklearn.linear_model import LogisticRegression\n",
      "\n",
      "platform = { \n",
      "                   'All': -1,\n",
      "                   'Apple TV': 1, \n",
      "                   'Mac': 2, \n",
      "                   'Windows': 3, \n",
      "                   'iPad': 4, \n",
      "                   'Android': 5, \n",
      "                   'iPhone': 6, \n",
      "                   'iPod' : 7, \n",
      "                   'None' :8, \n",
      "                }\n",
      "\n",
      "metric_list = ['Watching Lasting Time(s)',\n",
      "               'Ad Ratio',\n",
      "               'Avg Bitrate(kbps)',\n",
      "               'Switch(per hour)',\n",
      "               'Initial Time(\\'o clock)']\n",
      "\n",
      "metric = {\n",
      "                  'Watching Lasting Time(s)': 0,\n",
      "                  'Ad Ratio': 1,\n",
      "                  'Avg Bitrate(kbps)': 2,\n",
      "                  'Switch(per hour)': 3,\n",
      "                  'Initial Time(\\'o clock)': 5\n",
      "              }\n",
      "train = None\n",
      "\n",
      "bins = {\n",
      "            'All': {\n",
      "                'Watching Lasting Time(s)': [0, 3306.0, 300000.0],\n",
      "                'Ad Ratio': [0, 0.75, 1.1],\n",
      "                'Avg Bitrate(kbps)': [0, 800, 2500],\n",
      "                'Switch(per hour)': [0, 0.70, 61],\n",
      "                'Initial Time(\\'o clock)': [0, 16.05, 24]\n",
      "            },\n",
      "}\n",
      "        \n",
      "\n",
      "class lr:\n",
      "\n",
      "    def __init__(self):\n",
      "        global train\n",
      "        \n",
      "        X_train, y_train = load_svmlight_file('./data/time_train4')\n",
      "        X_train, y_train2 = load_svmlight_file('./data/ad_train4')\n",
      "        X_train = X_train.toarray()\n",
      "        train = np.column_stack((y_train, y_train2, X_train))\n",
      "\n",
      "\n",
      "    def train_and_test(self, feature, label, n=10, test_size=0.1):\n",
      "        \n",
      "        max_score = -1\n",
      "        max_C = None\n",
      "        max_clf = None\n",
      "        \n",
      "        kf = KFold(n=label.shape[0], n_folds=5)\n",
      "        for C_exp in xrange(-3,7):\n",
      "            scores = []\n",
      "            C = 10**(-C_exp)\n",
      "            \n",
      "            for train_index, test_index in kf:\n",
      "                feature_train, feature_test = feature[train_index], feature[test_index]\n",
      "                label_train, label_test = label[train_index], label[test_index]\n",
      "                \n",
      "                clf = LogisticRegression(C=C)\n",
      "                clf = clf.fit(feature_train, label_train)\n",
      "                score = clf.score(feature_test, label_test)\n",
      "                scores.append(score)\n",
      "            score = np.average(scores)\n",
      "            print \"C:%f, score: %.2f\" %(C, score)\n",
      "            if (score > max_score):\n",
      "                max_score = score\n",
      "                max_C = C\n",
      "            \n",
      "        max_clf = LogisticRegression(C=max_C).fit(feature, label)\n",
      "        final_score = max_clf.score(feature, label)\n",
      "        \n",
      "        print \"C:%f, Final scores: %.4f\\n\" %(max_C, final_score)\n",
      "        \n",
      "        confidence = max_clf.decision_function(feature)\n",
      "        print \"confidence: %.2f\" %(np.average(abs(confidence)))\n",
      "        print max_clf.coef_, max_clf.intercept_\n",
      "        \n",
      "        return final_score, max_clf\n",
      "            \n",
      "    def plot(self, p):\n",
      "        global platform\n",
      "        global metric\n",
      "        global train\n",
      "        \n",
      "        \n",
      "        if platform[p] == platform['All']:\n",
      "            mat = np.zeros((train[:,:].shape[0],5))\n",
      "        else:\n",
      "            mat = np.zeros((train[train[:,4]==platform[p],:].shape[0],5))\n",
      "        for idx, m in enumerate(metric_list):\n",
      "            if platform[p] == platform['All']:\n",
      "                mat[:, idx] = numpy.digitize(train[:, metric[m]], bins['All'][m])\n",
      "            else:\n",
      "                mat[:, idx] = numpy.digitize(train[train[:,4]==platform[p], metric[m]], bins[p][m])\n",
      "                #print \"%f\\t%f\" %(np.amax(train[train[:,4]==platform[p], metric[m]]), np.amax(mat[:, idx]))\n",
      "        \n",
      "        print 'Sample size: ' + str(mat.shape[0])\n",
      "        \n",
      "        time_train = mat[:, 0]\n",
      "        ad_train = mat[:, 1]\n",
      "        features = mat[:, 2:5]\n",
      "    \n",
      "        \n",
      "        print p + \": time\"\n",
      "        time_score, time_clf = self.train_and_test(features, time_train)\n",
      "        \n",
      "        print p + \": ad\"\n",
      "        ad_score, ad_clf = self.train_and_test(features, ad_train)\n",
      "\n",
      "        print \"**********\\n**********\\n\"\n",
      "        \n",
      "        \n",
      "        \n",
      "\n",
      "if __name__ == '__main__':\n",
      "\n",
      "    c = lr()\n",
      "    c.plot('All')\n"
     ],
     "language": "python",
     "metadata": {},
     "outputs": [
      {
       "output_type": "stream",
       "stream": "stdout",
       "text": [
        "Sample size: 55478\n",
        "All: time\n",
        "C:1000.000000, score: 0.58"
       ]
      },
      {
       "output_type": "stream",
       "stream": "stdout",
       "text": [
        "\n",
        "C:100.000000, score: 0.58"
       ]
      },
      {
       "output_type": "stream",
       "stream": "stdout",
       "text": [
        "\n",
        "C:10.000000, score: 0.58"
       ]
      },
      {
       "output_type": "stream",
       "stream": "stdout",
       "text": [
        "\n",
        "C:1.000000, score: 0.58"
       ]
      },
      {
       "output_type": "stream",
       "stream": "stdout",
       "text": [
        "\n",
        "C:0.100000, score: 0.58"
       ]
      },
      {
       "output_type": "stream",
       "stream": "stdout",
       "text": [
        "\n",
        "C:0.010000, score: 0.58"
       ]
      },
      {
       "output_type": "stream",
       "stream": "stdout",
       "text": [
        "\n",
        "C:0.001000, score: 0.57"
       ]
      },
      {
       "output_type": "stream",
       "stream": "stdout",
       "text": [
        "\n",
        "C:0.000100, score: 0.50"
       ]
      },
      {
       "output_type": "stream",
       "stream": "stdout",
       "text": [
        "\n",
        "C:0.000010, score: 0.50"
       ]
      },
      {
       "output_type": "stream",
       "stream": "stdout",
       "text": [
        "\n",
        "C:0.000001, score: 0.50"
       ]
      },
      {
       "output_type": "stream",
       "stream": "stdout",
       "text": [
        "\n",
        "C:1000.000000, Final scores: 0.5812\n"
       ]
      },
      {
       "output_type": "stream",
       "stream": "stdout",
       "text": [
        "\n",
        "confidence: 0.36\n",
        "[[-0.35131904 -1.62269564 -0.35392512]] [ 2.8500977]\n",
        "All: ad\n",
        "C:1000.000000, score: 0.55"
       ]
      },
      {
       "output_type": "stream",
       "stream": "stdout",
       "text": [
        "\n",
        "C:100.000000, score: 0.55"
       ]
      },
      {
       "output_type": "stream",
       "stream": "stdout",
       "text": [
        "\n",
        "C:10.000000, score: 0.55"
       ]
      },
      {
       "output_type": "stream",
       "stream": "stdout",
       "text": [
        "\n",
        "C:1.000000, score: 0.55"
       ]
      },
      {
       "output_type": "stream",
       "stream": "stdout",
       "text": [
        "\n",
        "C:0.100000, score: 0.55"
       ]
      },
      {
       "output_type": "stream",
       "stream": "stdout",
       "text": [
        "\n",
        "C:0.010000, score: 0.55"
       ]
      },
      {
       "output_type": "stream",
       "stream": "stdout",
       "text": [
        "\n",
        "C:0.001000, score: 0.55"
       ]
      },
      {
       "output_type": "stream",
       "stream": "stdout",
       "text": [
        "\n",
        "C:0.000100, score: 0.55"
       ]
      },
      {
       "output_type": "stream",
       "stream": "stdout",
       "text": [
        "\n",
        "C:0.000010, score: 0.53"
       ]
      },
      {
       "output_type": "stream",
       "stream": "stdout",
       "text": [
        "\n",
        "C:0.000001, score: 0.50"
       ]
      },
      {
       "output_type": "stream",
       "stream": "stdout",
       "text": [
        "\n",
        "C:1000.000000, Final scores: 0.5545\n"
       ]
      },
      {
       "output_type": "stream",
       "stream": "stdout",
       "text": [
        "\n",
        "confidence: 0.24\n",
        "[[ 0.34383397 -0.78576721 -0.03635231]] [ 0.39382111]\n",
        "**********\n",
        "**********\n",
        "\n"
       ]
      }
     ],
     "prompt_number": 2
    },
    {
     "cell_type": "code",
     "collapsed": false,
     "input": [
      "bins = {\n",
      "            'All': {\n",
      "                'Watching Lasting Time(s)': [1.0, 713.0, 2083.0, 5234.0, 15401.0,  270000.0],\n",
      "                'Ad Ratio': [0.0, 0.040000000000000001, 0.5, 0.88, 1.0, 1.1],\n",
      "                'Avg Bitrate(kbps)': [50.0, 730.39999999999998, 796.20000000000005, 1190.3, 2140.4000000000001, 2202.0],\n",
      "                'Switch(per hour)': [0.0, 0.0, 0.040000000000000001, 0.12, 0.34999999999999998, 61.0],\n",
      "                'Initial Time(\\'o clock)': [0.0, 11.630000000000001, 14.35, 17.449999999999999, 20.530000000000001, 24]\n",
      "            },\n",
      "\n",
      "            \n",
      "        }\n",
      "\n",
      "\n",
      "\n",
      "if __name__ == '__main__':\n",
      "\n",
      "    c = lr()\n",
      "    c.plot('All')"
     ],
     "language": "python",
     "metadata": {},
     "outputs": [
      {
       "output_type": "stream",
       "stream": "stdout",
       "text": [
        "Sample size: 55478\n",
        "All: time\n",
        "C:1000.000000, score: 0.29"
       ]
      },
      {
       "output_type": "stream",
       "stream": "stdout",
       "text": [
        "\n",
        "C:100.000000, score: 0.29"
       ]
      },
      {
       "output_type": "stream",
       "stream": "stdout",
       "text": [
        "\n",
        "C:10.000000, score: 0.29"
       ]
      },
      {
       "output_type": "stream",
       "stream": "stdout",
       "text": [
        "\n",
        "C:1.000000, score: 0.29"
       ]
      },
      {
       "output_type": "stream",
       "stream": "stdout",
       "text": [
        "\n",
        "C:0.100000, score: 0.30"
       ]
      },
      {
       "output_type": "stream",
       "stream": "stdout",
       "text": [
        "\n",
        "C:0.010000, score: 0.30"
       ]
      },
      {
       "output_type": "stream",
       "stream": "stdout",
       "text": [
        "\n",
        "C:0.001000, score: 0.29"
       ]
      },
      {
       "output_type": "stream",
       "stream": "stdout",
       "text": [
        "\n",
        "C:0.000100, score: 0.23"
       ]
      },
      {
       "output_type": "stream",
       "stream": "stdout",
       "text": [
        "\n",
        "C:0.000010, score: 0.20"
       ]
      },
      {
       "output_type": "stream",
       "stream": "stdout",
       "text": [
        "\n",
        "C:0.000001, score: 0.20"
       ]
      },
      {
       "output_type": "stream",
       "stream": "stdout",
       "text": [
        "\n",
        "C:0.010000, Final scores: 0.2989\n"
       ]
      },
      {
       "output_type": "stream",
       "stream": "stdout",
       "text": [
        "\n",
        "confidence: 1.45\n",
        "[[-0.04792862  0.1569339   0.04788364]\n",
        " [-0.00153819  0.23644241  0.01573237]\n",
        " [ 0.02454536  0.14034329  0.0583351 ]\n",
        " [ 0.048084   -0.01697383 -0.05625361]\n",
        " [-0.1649756  -0.90038576 -0.14446871]] [-1.88784216 -2.18960574 -2.07558272 -1.29576964  2.1080488 ]\n",
        "All: ad\n",
        "C:1000.000000, score: 0.27"
       ]
      },
      {
       "output_type": "stream",
       "stream": "stdout",
       "text": [
        "\n",
        "C:100.000000, score: 0.27"
       ]
      },
      {
       "output_type": "stream",
       "stream": "stdout",
       "text": [
        "\n",
        "C:10.000000, score: 0.27"
       ]
      },
      {
       "output_type": "stream",
       "stream": "stdout",
       "text": [
        "\n",
        "C:1.000000, score: 0.27"
       ]
      },
      {
       "output_type": "stream",
       "stream": "stdout",
       "text": [
        "\n",
        "C:0.100000, score: 0.27"
       ]
      },
      {
       "output_type": "stream",
       "stream": "stdout",
       "text": [
        "\n",
        "C:0.010000, score: 0.27"
       ]
      },
      {
       "output_type": "stream",
       "stream": "stdout",
       "text": [
        "\n",
        "C:0.001000, score: 0.26"
       ]
      },
      {
       "output_type": "stream",
       "stream": "stdout",
       "text": [
        "\n",
        "C:0.000100, score: 0.26"
       ]
      },
      {
       "output_type": "stream",
       "stream": "stdout",
       "text": [
        "\n",
        "C:0.000010, score: 0.25"
       ]
      },
      {
       "output_type": "stream",
       "stream": "stdout",
       "text": [
        "\n",
        "C:0.000001, score: 0.25"
       ]
      },
      {
       "output_type": "stream",
       "stream": "stdout",
       "text": [
        "\n",
        "C:0.100000, Final scores: 0.2737\n"
       ]
      },
      {
       "output_type": "stream",
       "stream": "stdout",
       "text": [
        "\n",
        "confidence: 1.45\n",
        "[[ 0.01473707  0.00070846  0.07873821]\n",
        " [-0.455588   -0.18947179  0.00211686]\n",
        " [-0.14310169 -0.01697453 -0.04584772]\n",
        " [ 0.38045573  0.09530415 -0.09298183]\n",
        " [ 0.12839143  0.03926332  0.03982108]] [-1.67300017  0.12108247 -0.51494043 -2.83008893 -1.84001993]\n",
        "**********\n",
        "**********\n",
        "\n"
       ]
      }
     ],
     "prompt_number": 3
    },
    {
     "cell_type": "code",
     "collapsed": false,
     "input": [
      "bins = {\n",
      "            'All': {\n",
      "                'Watching Lasting Time(s)': [1.0, 290.0, 713.0, 1291.0, 2083.0, 3306.0, 5234.0, 7890.0, 15401.0, 39330.0,  270000.0],\n",
      "                'Ad Ratio': [0.0,  0.0, 0.040000000000000001, 0.42999999999999999, 0.5, 0.75, 0.88, 0.93999999999999995, 1.0, 1.0, 1.1],\n",
      "                'Avg Bitrate(kbps)': [50.0, 560.70000000000005, 730.39999999999998, 780.70000000000005, 796.20000000000005, 800.0, 1190.3, 1964.5, 2140.4000000000001, 2187.1999999999998, 2202.0],\n",
      "                'Switch(per hour)': [0.0, 0.0, 0.0, 0.01, 0.040000000000000001, 0.070000000000000007, 0.12, 0.20000000000000001, 0.34999999999999998, 0.69999999999999996, 61.0],\n",
      "                'Initial Time(\\'o clock)': [0.0, 8.4700000000000006, 11.630000000000001, 13.07, 14.35, 16.050000000000001, 17.449999999999999, 18.920000000000002, 20.530000000000001, 22.32, 24]\n",
      "            },\n",
      "     \n",
      "            \n",
      "        }\n",
      "\n",
      "if __name__ == '__main__':\n",
      "\n",
      "    c = lr()\n",
      "    c.plot('All')"
     ],
     "language": "python",
     "metadata": {},
     "outputs": [
      {
       "output_type": "stream",
       "stream": "stdout",
       "text": [
        "Sample size: 55478\n",
        "All: time\n",
        "C:1000.000000, score: 0.18"
       ]
      },
      {
       "output_type": "stream",
       "stream": "stdout",
       "text": [
        "\n",
        "C:100.000000, score: 0.18"
       ]
      },
      {
       "output_type": "stream",
       "stream": "stdout",
       "text": [
        "\n",
        "C:10.000000, score: 0.18"
       ]
      },
      {
       "output_type": "stream",
       "stream": "stdout",
       "text": [
        "\n",
        "C:1.000000, score: 0.18"
       ]
      },
      {
       "output_type": "stream",
       "stream": "stdout",
       "text": [
        "\n",
        "C:0.100000, score: 0.18"
       ]
      },
      {
       "output_type": "stream",
       "stream": "stdout",
       "text": [
        "\n",
        "C:0.010000, score: 0.18"
       ]
      },
      {
       "output_type": "stream",
       "stream": "stdout",
       "text": [
        "\n",
        "C:0.001000, score: 0.17"
       ]
      },
      {
       "output_type": "stream",
       "stream": "stdout",
       "text": [
        "\n",
        "C:0.000100, score: 0.16"
       ]
      },
      {
       "output_type": "stream",
       "stream": "stdout",
       "text": [
        "\n",
        "C:0.000010, score: 0.15"
       ]
      },
      {
       "output_type": "stream",
       "stream": "stdout",
       "text": [
        "\n",
        "C:0.000001, score: 0.10"
       ]
      },
      {
       "output_type": "stream",
       "stream": "stdout",
       "text": [
        "\n",
        "C:0.100000, Final scores: 0.1783\n"
       ]
      },
      {
       "output_type": "stream",
       "stream": "stdout",
       "text": [
        "\n",
        "confidence: 2.31\n",
        "[[ 0.01074894  0.04247164  0.04054859]\n",
        " [-0.00174936  0.09720605  0.01783272]\n",
        " [ 0.01581064  0.10378181  0.00520907]\n",
        " [ 0.02681474  0.11253806  0.02370977]\n",
        " [ 0.0309411   0.09637458  0.03605797]\n",
        " [ 0.02292466  0.06953188  0.02776785]\n",
        " [ 0.04955814  0.06121396  0.01844332]\n",
        " [ 0.0019208  -0.02183846 -0.04937817]\n",
        " [-0.03208264 -0.19235286 -0.19613537]\n",
        " [-0.21579967 -0.67585014  0.04827554]] [-2.73878196 -2.87852391 -2.94560735 -3.16513418 -3.15814664 -2.89791396\n",
        " -2.9443822  -1.81338152 -0.02756243  1.93714856]\n",
        "All: ad\n",
        "C:1000.000000, score: 0.23"
       ]
      },
      {
       "output_type": "stream",
       "stream": "stdout",
       "text": [
        "\n",
        "C:100.000000, score: 0.23"
       ]
      },
      {
       "output_type": "stream",
       "stream": "stdout",
       "text": [
        "\n",
        "C:10.000000, score: 0.23"
       ]
      },
      {
       "output_type": "stream",
       "stream": "stdout",
       "text": [
        "\n",
        "C:1.000000, score: 0.23"
       ]
      },
      {
       "output_type": "stream",
       "stream": "stdout",
       "text": [
        "\n",
        "C:0.100000, score: 0.23"
       ]
      },
      {
       "output_type": "stream",
       "stream": "stdout",
       "text": [
        "\n",
        "C:0.010000, score: 0.24"
       ]
      },
      {
       "output_type": "stream",
       "stream": "stdout",
       "text": [
        "\n",
        "C:0.001000, score: 0.24"
       ]
      },
      {
       "output_type": "stream",
       "stream": "stdout",
       "text": [
        "\n",
        "C:0.000100, score: 0.24"
       ]
      },
      {
       "output_type": "stream",
       "stream": "stdout",
       "text": [
        "\n",
        "C:0.000010, score: 0.23"
       ]
      },
      {
       "output_type": "stream",
       "stream": "stdout",
       "text": [
        "\n",
        "C:0.000001, score: 0.23"
       ]
      },
      {
       "output_type": "stream",
       "stream": "stdout",
       "text": [
        "\n",
        "C:0.001000, Final scores: 0.2358\n"
       ]
      },
      {
       "output_type": "stream",
       "stream": "stdout",
       "text": [
        "\n",
        "confidence: 2.05\n",
        "[[ -5.80255229e-02  -7.87792854e-02   7.71679788e-03]\n",
        " [ -2.24553901e-01  -1.50562027e-01   2.80846559e-03]\n",
        " [ -2.72389043e-01  -1.58238018e-01  -7.31158280e-02]\n",
        " [ -1.57919619e-01  -1.01664180e-01  -3.18660441e-02]\n",
        " [ -8.09872946e-02  -9.36741449e-02  -8.08919544e-02]\n",
        " [ -2.99779674e-02  -1.26186252e-01  -1.00848329e-01]\n",
        " [  2.06654341e-02  -1.70113174e-01  -1.24877615e-01]\n",
        " [ -1.12465130e-04  -5.95878788e-02  -1.79647253e-02]] [-0.58938847 -0.23311795 -0.17005577 -0.17911157 -0.66074608 -0.76178528\n",
        " -0.7997062  -0.68732026]\n",
        "**********\n",
        "**********\n",
        "\n"
       ]
      }
     ],
     "prompt_number": 4
    },
    {
     "cell_type": "code",
     "collapsed": false,
     "input": [
      "bins = {\n",
      "            'All': {\n",
      "                'Watching Lasting Time(s)': [1.0, 133.0, 290.0, 483.0, 713.0, 977.0, 1291.0, 1645.0, 2083.0, 2629.0, 3306.0, 4185.0, 5234.0, 6466.0, 7890.0, 10549.0, 15401.0, 24021.0, 39330.0, 83756.0,  270000.0],\n",
      "                'Ad Ratio': [0.0,   0.0, 0.0, 0.0, 0.040000000000000001, 0.33000000000000002, 0.42999999999999999, 0.48999999999999999, 0.5, 0.57999999999999996, 0.75, 0.81000000000000005, 0.88, 0.91000000000000003, 0.93999999999999995, 0.96999999999999997, 1.0, 1.0, 1.0, 1.0, 1.1],\n",
      "                'Avg Bitrate(kbps)': [50.0, 400.0, 560.70000000000005, 667.70000000000005, 730.39999999999998, 763.60000000000002, 780.70000000000005, 790.10000000000002, 796.20000000000005, 800.0, 800.0, 800.0, 1190.3, 1680.5, 1964.5, 2086.8000000000002, 2140.4000000000001, 2169.6999999999998, 2187.1999999999998, 2200.0, 2202.0],\n",
      "                'Switch(per hour)': [0.0, 0.0, 0.0, 0.0, 0.0, 0.01, 0.01, 0.029999999999999999, 0.040000000000000001, 0.050000000000000003, 0.070000000000000007, 0.10000000000000001, 0.12, 0.16, 0.20000000000000001, 0.26000000000000001, 0.34999999999999998, 0.46999999999999997, 0.69999999999999996, 1.2, 61.0],\n",
      "                'Initial Time(\\'o clock)': [0.0, 4.4299999999999997, 8.4700000000000006, 10.4, 11.630000000000001, 12.369999999999999, 13.07, 13.630000000000001, 14.35, 15.17, 16.050000000000001, 16.75, 17.449999999999999, 18.149999999999999, 18.920000000000002, 19.719999999999999, 20.530000000000001, 21.329999999999998, 22.32, 23.219999999999999, 24]\n",
      "            },\n",
      "     \n",
      "            \n",
      "        }\n",
      "\n",
      "if __name__ == '__main__':\n",
      "\n",
      "    c = lr()\n",
      "    c.plot('All')"
     ],
     "language": "python",
     "metadata": {},
     "outputs": [
      {
       "output_type": "stream",
       "stream": "stdout",
       "text": [
        "Sample size: 55478\n",
        "All: time\n",
        "C:1000.000000, score: 0.09"
       ]
      },
      {
       "output_type": "stream",
       "stream": "stdout",
       "text": [
        "\n",
        "C:100.000000, score: 0.09"
       ]
      },
      {
       "output_type": "stream",
       "stream": "stdout",
       "text": [
        "\n",
        "C:10.000000, score: 0.10"
       ]
      },
      {
       "output_type": "stream",
       "stream": "stdout",
       "text": [
        "\n",
        "C:1.000000, score: 0.09"
       ]
      },
      {
       "output_type": "stream",
       "stream": "stdout",
       "text": [
        "\n",
        "C:0.100000, score: 0.09"
       ]
      },
      {
       "output_type": "stream",
       "stream": "stdout",
       "text": [
        "\n",
        "C:0.010000, score: 0.09"
       ]
      },
      {
       "output_type": "stream",
       "stream": "stdout",
       "text": [
        "\n",
        "C:0.001000, score: 0.08"
       ]
      },
      {
       "output_type": "stream",
       "stream": "stdout",
       "text": [
        "\n",
        "C:0.000100, score: 0.08"
       ]
      },
      {
       "output_type": "stream",
       "stream": "stdout",
       "text": [
        "\n",
        "C:0.000010, score: 0.07"
       ]
      },
      {
       "output_type": "stream",
       "stream": "stdout",
       "text": [
        "\n",
        "C:0.000001, score: 0.06"
       ]
      },
      {
       "output_type": "stream",
       "stream": "stdout",
       "text": [
        "\n",
        "C:10.000000, Final scores: 0.0961\n"
       ]
      },
      {
       "output_type": "stream",
       "stream": "stdout",
       "text": [
        "\n",
        "confidence: 3.08\n",
        "[[ 0.01914012 -0.00258457  0.0224263 ]\n",
        " [ 0.00514543  0.04685164  0.01853232]\n",
        " [ 0.00255711  0.04467394  0.0123674 ]\n",
        " [ 0.00914852  0.05011104  0.00753718]\n",
        " [ 0.01288933  0.05346251  0.00227962]\n",
        " [ 0.01179965  0.04842491  0.00589238]\n",
        " [ 0.01252892  0.05446648  0.01423351]\n",
        " [ 0.01996081  0.05481905  0.01102173]\n",
        " [ 0.01812184  0.05310037  0.01490873]\n",
        " [ 0.01724248  0.04494353  0.02078676]\n",
        " [ 0.01394604  0.03812927  0.01557184]\n",
        " [ 0.01140241  0.03590168  0.01536911]\n",
        " [ 0.02454257  0.0381624   0.01619107]\n",
        " [ 0.02524606  0.02931958  0.00254834]\n",
        " [ 0.01367715  0.01416528 -0.00841489]\n",
        " [-0.01175561 -0.02605829 -0.03616272]\n",
        " [-0.01839325 -0.06117953 -0.07281979]\n",
        " [-0.01869035 -0.11339395 -0.1089563 ]\n",
        " [-0.04926178 -0.2525276   0.02621937]\n",
        " [-0.17174659 -0.39662447  0.01449351]] [-3.37144651 -3.75132692 -3.62160999 -3.71264135 -3.73292342 -3.69934623\n",
        " -3.86885419 -3.92129604 -3.92313041 -3.87977305 -3.70400896 -3.64803564\n",
        " -3.82723579 -3.58252655 -3.16486723 -2.17730338 -1.43058107 -0.67392046\n",
        " -0.42894949  1.91070728]\n",
        "All: ad\n",
        "C:1000.000000, score: 0.23"
       ]
      },
      {
       "output_type": "stream",
       "stream": "stdout",
       "text": [
        "\n",
        "C:100.000000, score: 0.23"
       ]
      },
      {
       "output_type": "stream",
       "stream": "stdout",
       "text": [
        "\n",
        "C:10.000000, score: 0.23"
       ]
      },
      {
       "output_type": "stream",
       "stream": "stdout",
       "text": [
        "\n",
        "C:1.000000, score: 0.23"
       ]
      },
      {
       "output_type": "stream",
       "stream": "stdout",
       "text": [
        "\n",
        "C:0.100000, score: 0.23"
       ]
      },
      {
       "output_type": "stream",
       "stream": "stdout",
       "text": [
        "\n",
        "C:0.010000, score: 0.23"
       ]
      },
      {
       "output_type": "stream",
       "stream": "stdout",
       "text": [
        "\n",
        "C:0.001000, score: 0.24"
       ]
      },
      {
       "output_type": "stream",
       "stream": "stdout",
       "text": [
        "\n",
        "C:0.000100, score: 0.24"
       ]
      },
      {
       "output_type": "stream",
       "stream": "stdout",
       "text": [
        "\n",
        "C:0.000010, score: 0.24"
       ]
      },
      {
       "output_type": "stream",
       "stream": "stdout",
       "text": [
        "\n",
        "C:0.000001, score: 0.23"
       ]
      },
      {
       "output_type": "stream",
       "stream": "stdout",
       "text": [
        "\n",
        "C:0.000100, Final scores: 0.2359\n"
       ]
      },
      {
       "output_type": "stream",
       "stream": "stdout",
       "text": [
        "\n",
        "confidence: 2.88\n",
        "[[-0.04647809 -0.05812802 -0.00602582]\n",
        " [-0.12957738 -0.12339055 -0.02160063]\n",
        " [-0.1506036  -0.11179422 -0.03247868]\n",
        " [-0.14780773 -0.09741909 -0.05117623]\n",
        " [-0.17699979 -0.17852774 -0.08558194]\n",
        " [-0.10554111 -0.08455473 -0.02121042]\n",
        " [-0.10947723 -0.10581949 -0.06012907]\n",
        " [-0.10175956 -0.10604518 -0.05492978]\n",
        " [-0.08078492 -0.10548136 -0.07239499]\n",
        " [-0.07848357 -0.12051194 -0.07169137]\n",
        " [-0.07070469 -0.12430986 -0.07425856]\n",
        " [-0.05626619 -0.12763629 -0.07531478]\n",
        " [-0.05740433 -0.15899228 -0.09435422]\n",
        " [-0.02037357 -0.0503387  -0.01987319]] [-0.09996644 -0.05305183 -0.03859788 -0.03353823 -0.03413735 -0.03125193\n",
        " -0.0654931  -0.07313698 -0.08521503 -0.08055749 -0.08824787 -0.09244072\n",
        " -0.07595749 -0.11670877]\n",
        "**********\n",
        "**********\n",
        "\n"
       ]
      }
     ],
     "prompt_number": 5
    },
    {
     "cell_type": "code",
     "collapsed": false,
     "input": [],
     "language": "python",
     "metadata": {},
     "outputs": []
    }
   ],
   "metadata": {}
  }
 ]
}