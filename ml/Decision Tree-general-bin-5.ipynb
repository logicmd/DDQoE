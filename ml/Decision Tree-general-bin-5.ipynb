{
 "metadata": {
  "name": "Decision Tree-general-bin-5"
 },
 "nbformat": 3,
 "nbformat_minor": 0,
 "worksheets": [
  {
   "cells": [
    {
     "cell_type": "code",
     "collapsed": false,
     "input": [
      "'''\n",
      "Platform:  \n",
      "{ \n",
      "     iPad: 10264251 \n",
      "     Android: 7512890 \n",
      "     iPhone: 5377486 \n",
      "     Apple TV: 368609 \n",
      "     iPod: 243399 \n",
      "     Mac: 21074 \n",
      "     Windows: 423 \n",
      "     None: 133 \n",
      "}\n",
      "\n",
      "[1, 2, 3, 4, 5, 6, 7, 8],\n",
      "['Apple TV', 'Mac', 'Windows', 'iPad', 'Android', 'iPhone', 'iPod', 'Unknown']\n",
      "'''\n",
      "import numpy as np\n",
      "import matplotlib.pyplot as plt\n",
      "from sklearn.cross_validation import cross_val_score\n",
      "from sklearn.datasets import load_svmlight_file\n",
      "from sklearn.cross_validation import train_test_split, KFold\n",
      "\n",
      "\n",
      "from sklearn import tree\n",
      "from six import StringIO  \n",
      "import os\n",
      "\n",
      "platform = { \n",
      "                   'All': -1,\n",
      "                   'Apple TV': 1, \n",
      "                   'Mac': 2, \n",
      "                   'Windows': 3, \n",
      "                   'iPad': 4, \n",
      "                   'Android': 5, \n",
      "                   'iPhone': 6, \n",
      "                   'iPod' : 7, \n",
      "                   'None' :8, \n",
      "                }\n",
      "\n",
      "metric_list = ['Watching Lasting Time(s)',\n",
      "               'Ad Ratio',\n",
      "               'Avg Bitrate(kbps)',\n",
      "               'Switch(per hour)',\n",
      "               'Initial Time(\\'o clock)']\n",
      "\n",
      "metric = {\n",
      "                  'Watching Lasting Time(s)': 0,\n",
      "                  'Ad Ratio': 1,\n",
      "                  'Avg Bitrate(kbps)': 2,\n",
      "                  'Switch(per hour)': 3,\n",
      "                  'Initial Time(\\'o clock)': 5\n",
      "              }\n",
      "train = None\n",
      "\n",
      "bins = {\n",
      "            'Watching Lasting Time(s)': [0, 52000, 104000, 156000, 208000, 261000],\n",
      "            'Ad Ratio': [0, 0.2, 0.4, 0.6, 0.8, 1.1],\n",
      "            'Avg Bitrate(kbps)': [0, 500, 1000, 1500, 2000, 2500],\n",
      "            'Switch(per hour)': [0, 12, 24, 36, 48, 61],\n",
      "            'Initial Time(\\'o clock)': [0, 4.8, 9.6, 14.4, 19.2, 24]\n",
      "}\n",
      "        \n",
      "\n",
      "folder = 'decision_tree_new5'\n",
      "    \n",
      "class dt:\n",
      "\n",
      "    def __init__(self):\n",
      "        global train\n",
      "        \n",
      "        X_train, y_train = load_svmlight_file('./data/time_train4')\n",
      "        X_train, y_train2 = load_svmlight_file('./data/ad_train4')\n",
      "        X_train = X_train.toarray()\n",
      "        train = np.column_stack((y_train, y_train2, X_train))\n",
      "\n",
      "    def output(self, file_name, clf):\n",
      "        with open(file_name+\".dot\", 'w') as f:\n",
      "            f = tree.export_graphviz(clf, out_file=f)\n",
      "            os.system(\"dot -Tpdf \" + file_name +\".dot\" + \" -o \" + file_name + \".pdf\")\n",
      "\n",
      "    def train_and_test(self, feature, label, n=10, test_size=0.1):\n",
      "        scores = []\n",
      "        max_score = -1\n",
      "        max_clf = None\n",
      "        \n",
      "        kf = KFold(n=label.shape[0], n_folds=5)\n",
      "        for train_index, test_index in kf:\n",
      "            feature_train, feature_test = feature[train_index], feature[test_index]\n",
      "            label_train, label_test = label[train_index], label[test_index]\n",
      "\n",
      "            clf = tree.DecisionTreeClassifier(compute_importances=True)\n",
      "            clf = clf.fit(feature_train, label_train)\n",
      "            score = clf.score(feature_test, label_test)\n",
      "            if score > max_score:\n",
      "                max_score = score\n",
      "                max_clf = clf\n",
      "            scores.append(score)\n",
      "        print \"scores: \" + str(scores)\n",
      "        return max_score, max_clf\n",
      "            \n",
      "    def plot(self, p):\n",
      "        global platform\n",
      "        global metric\n",
      "        global train\n",
      "        \n",
      "        if platform[p] == platform['All']:\n",
      "            mat = np.zeros((train[:,:].shape[0],5))\n",
      "        else:\n",
      "            mat = np.zeros((train[train[:,4]==platform[p],:].shape[0],5))\n",
      "        for idx, m in enumerate(metric_list):\n",
      "\n",
      "            if platform[p] == platform['All']:\n",
      "                mat[:, idx] = numpy.digitize(train[:, metric[m]], bins[m])\n",
      "            else:\n",
      "                mat[:, idx] = numpy.digitize(train[train[:,4]==platform[p], metric[m]], bins[m])\n",
      "            \n",
      "            #print \"%f\\t%f\" %(np.amax(train[train[:,4]==platform[p], metric[m]]), np.amax(mat[:, idx]))\n",
      "            \n",
      "        print \"%%%%%%%%%%%%%%%%%%%%%%%%\"\n",
      "        \n",
      "        print 'Sample size: ' + str(mat.shape[0])\n",
      "        \n",
      "        time_train = mat[:, 0]\n",
      "        ad_train = mat[:, 1]\n",
      "        features = mat[:, 2:5]\n",
      "        \n",
      "        print p + \": time\"\n",
      "        time_score, time_clf = self.train_and_test(features, time_train)\n",
      "        print \"Best scores:\" + str(time_score)\n",
      "        print \"Importance:\" + str(time_clf.feature_importances_)\n",
      "        \n",
      "        print p + \": ad\"\n",
      "        ad_score, ad_clf = self.train_and_test(features, ad_train)\n",
      "        print \"Best scores:\" + str(ad_score)\n",
      "        print \"Importance:\" + str(ad_clf.feature_importances_)\n",
      "        \n",
      "        time_file_name = \"./\" + folder + \"/\"+ p + \"_time\"\n",
      "        with open(time_file_name+\".dot\", 'w') as f:\n",
      "            f = tree.export_graphviz(time_clf, out_file=f, feature_names=['average bitrate', 'switch time', 'initial time'])\n",
      "            \n",
      "        ad_file_name = \"./\" + folder + \"/\"+ p + \"_ad\"\n",
      "        with open(ad_file_name+\".dot\", 'w') as f:\n",
      "            f = tree.export_graphviz(ad_clf, out_file=f, feature_names=['average bitrate', 'switch time', 'initial time'])\n",
      "            \n",
      "        with open(\"./\" + folder + \"/convert.sh\", 'a') as ff:\n",
      "           \n",
      "            ff.write(\"dot -Tpdf \" + p + \"_time\" +\".dot\" + \" -o \" + p + \"_time\" + \".pdf\\n\")\n",
      "            ff.write(\"dot -Tpdf \" + p + \"_ad\" +\".dot\" + \" -o \" + p + \"_ad\" + \".pdf\\n\") \n",
      "        \n",
      "        print \"%%%%%%%%%%%%%%%%%%%%%%%%\"\n",
      "        \n",
      "        \n",
      "\n",
      "if __name__ == '__main__':\n",
      "    with open(\"./\" + folder + \"/convert.sh\", 'w') as ff:\n",
      "         ff.write(\"#!/bin/sh\\n\")\n",
      "\n",
      "    c = dt()\n",
      "    \n",
      "    c.plot('All')\n",
      "    \n",
      "    c.plot('iPad')\n",
      "    \n",
      "    c.plot('Android')\n",
      "    \n",
      "    c.plot('iPhone')\n",
      "    \n",
      "    c.plot('Apple TV')\n"
     ],
     "language": "python",
     "metadata": {},
     "outputs": [
      {
       "output_type": "stream",
       "stream": "stderr",
       "text": [
        "/usr/local/lib/python2.7/dist-packages/sklearn/datasets/svmlight_format.py:137: DeprecationWarning: using a non-integer number instead of an integer will result in an error in the future\n",
        "  return _load_svmlight_file(f, dtype, multilabel, zero_based, query_id)\n",
        "/usr/local/lib/python2.7/dist-packages/sklearn/datasets/svmlight_format.py:137: DeprecationWarning: using a non-integer number instead of an integer will result in an error in the future\n",
        "  return _load_svmlight_file(f, dtype, multilabel, zero_based, query_id)\n",
        "/usr/local/lib/python2.7/dist-packages/sklearn/datasets/svmlight_format.py:137: DeprecationWarning: using a non-integer number instead of an integer will result in an error in the future\n",
        "  return _load_svmlight_file(f, dtype, multilabel, zero_based, query_id)\n",
        "/usr/local/lib/python2.7/dist-packages/sklearn/datasets/svmlight_format.py:137: DeprecationWarning: using a non-integer number instead of an integer will result in an error in the future\n",
        "  return _load_svmlight_file(f, dtype, multilabel, zero_based, query_id)\n",
        "/usr/local/lib/python2.7/dist-packages/sklearn/datasets/svmlight_format.py:137: DeprecationWarning: using a non-integer number instead of an integer will result in an error in the future\n",
        "  return _load_svmlight_file(f, dtype, multilabel, zero_based, query_id)\n",
        "/usr/local/lib/python2.7/dist-packages/sklearn/datasets/svmlight_format.py:137: DeprecationWarning: using a non-integer number instead of an integer will result in an error in the future\n",
        "  return _load_svmlight_file(f, dtype, multilabel, zero_based, query_id)\n",
        "/usr/local/lib/python2.7/dist-packages/sklearn/datasets/svmlight_format.py:137: DeprecationWarning: using a non-integer number instead of an integer will result in an error in the future\n",
        "  return _load_svmlight_file(f, dtype, multilabel, zero_based, query_id)\n",
        "/usr/local/lib/python2.7/dist-packages/sklearn/datasets/svmlight_format.py:137: DeprecationWarning: using a non-integer number instead of an integer will result in an error in the future\n",
        "  return _load_svmlight_file(f, dtype, multilabel, zero_based, query_id)\n",
        "/usr/local/lib/python2.7/dist-packages/sklearn/datasets/svmlight_format.py:137: DeprecationWarning: using a non-integer number instead of an integer will result in an error in the future\n",
        "  return _load_svmlight_file(f, dtype, multilabel, zero_based, query_id)\n",
        "/usr/local/lib/python2.7/dist-packages/sklearn/datasets/svmlight_format.py:137: DeprecationWarning: using a non-integer number instead of an integer will result in an error in the future\n",
        "  return _load_svmlight_file(f, dtype, multilabel, zero_based, query_id)\n",
        "/usr/local/lib/python2.7/dist-packages/sklearn/datasets/svmlight_format.py:137: DeprecationWarning: using a non-integer number instead of an integer will result in an error in the future\n",
        "  return _load_svmlight_file(f, dtype, multilabel, zero_based, query_id)\n",
        "/usr/local/lib/python2.7/dist-packages/sklearn/datasets/svmlight_format.py:137: DeprecationWarning: using a non-integer number instead of an integer will result in an error in the future\n",
        "  return _load_svmlight_file(f, dtype, multilabel, zero_based, query_id)\n",
        "/usr/local/lib/python2.7/dist-packages/sklearn/datasets/svmlight_format.py:137: DeprecationWarning: using a non-integer number instead of an integer will result in an error in the future\n",
        "  return _load_svmlight_file(f, dtype, multilabel, zero_based, query_id)\n",
        "/usr/local/lib/python2.7/dist-packages/sklearn/datasets/svmlight_format.py:137: DeprecationWarning: using a non-integer number instead of an integer will result in an error in the future\n",
        "  return _load_svmlight_file(f, dtype, multilabel, zero_based, query_id)\n",
        "/usr/local/lib/python2.7/dist-packages/sklearn/datasets/svmlight_format.py:137: DeprecationWarning: using a non-integer number instead of an integer will result in an error in the future\n",
        "  return _load_svmlight_file(f, dtype, multilabel, zero_based, query_id)\n",
        "/usr/local/lib/python2.7/dist-packages/sklearn/datasets/svmlight_format.py:137: DeprecationWarning: using a non-integer number instead of an integer will result in an error in the future\n",
        "  return _load_svmlight_file(f, dtype, multilabel, zero_based, query_id)\n",
        "/usr/local/lib/python2.7/dist-packages/sklearn/datasets/svmlight_format.py:137: DeprecationWarning: using a non-integer number instead of an integer will result in an error in the future\n",
        "  return _load_svmlight_file(f, dtype, multilabel, zero_based, query_id)\n",
        "/usr/local/lib/python2.7/dist-packages/sklearn/datasets/svmlight_format.py:137: DeprecationWarning: using a non-integer number instead of an integer will result in an error in the future\n",
        "  return _load_svmlight_file(f, dtype, multilabel, zero_based, query_id)\n",
        "/usr/local/lib/python2.7/dist-packages/sklearn/datasets/svmlight_format.py:137: DeprecationWarning: using a non-integer number instead of an integer will result in an error in the future\n",
        "  return _load_svmlight_file(f, dtype, multilabel, zero_based, query_id)\n",
        "/usr/local/lib/python2.7/dist-packages/sklearn/datasets/svmlight_format.py:137: DeprecationWarning: using a non-integer number instead of an integer will result in an error in the future\n",
        "  return _load_svmlight_file(f, dtype, multilabel, zero_based, query_id)\n",
        "/usr/local/lib/python2.7/dist-packages/sklearn/datasets/svmlight_format.py:137: DeprecationWarning: using a non-integer number instead of an integer will result in an error in the future\n",
        "  return _load_svmlight_file(f, dtype, multilabel, zero_based, query_id)\n",
        "/usr/local/lib/python2.7/dist-packages/sklearn/datasets/svmlight_format.py:137: DeprecationWarning: using a non-integer number instead of an integer will result in an error in the future\n",
        "  return _load_svmlight_file(f, dtype, multilabel, zero_based, query_id)\n",
        "/usr/local/lib/python2.7/dist-packages/sklearn/datasets/svmlight_format.py:137: DeprecationWarning: using a non-integer number instead of an integer will result in an error in the future\n",
        "  return _load_svmlight_file(f, dtype, multilabel, zero_based, query_id)\n",
        "/usr/local/lib/python2.7/dist-packages/sklearn/datasets/svmlight_format.py:137: DeprecationWarning: using a non-integer number instead of an integer will result in an error in the future\n",
        "  return _load_svmlight_file(f, dtype, multilabel, zero_based, query_id)\n",
        "/usr/local/lib/python2.7/dist-packages/sklearn/datasets/svmlight_format.py:137: DeprecationWarning: using a non-integer number instead of an integer will result in an error in the future\n",
        "  return _load_svmlight_file(f, dtype, multilabel, zero_based, query_id)\n",
        "/usr/local/lib/python2.7/dist-packages/sklearn/datasets/svmlight_format.py:137: DeprecationWarning: using a non-integer number instead of an integer will result in an error in the future\n",
        "  return _load_svmlight_file(f, dtype, multilabel, zero_based, query_id)\n",
        "/usr/local/lib/python2.7/dist-packages/sklearn/datasets/svmlight_format.py:137: DeprecationWarning: using a non-integer number instead of an integer will result in an error in the future\n",
        "  return _load_svmlight_file(f, dtype, multilabel, zero_based, query_id)\n",
        "/usr/local/lib/python2.7/dist-packages/sklearn/datasets/svmlight_format.py:137: DeprecationWarning: using a non-integer number instead of an integer will result in an error in the future\n",
        "  return _load_svmlight_file(f, dtype, multilabel, zero_based, query_id)\n",
        "/usr/local/lib/python2.7/dist-packages/sklearn/datasets/svmlight_format.py:137: DeprecationWarning: using a non-integer number instead of an integer will result in an error in the future\n",
        "  return _load_svmlight_file(f, dtype, multilabel, zero_based, query_id)\n",
        "/usr/local/lib/python2.7/dist-packages/sklearn/datasets/svmlight_format.py:137: DeprecationWarning: using a non-integer number instead of an integer will result in an error in the future\n",
        "  return _load_svmlight_file(f, dtype, multilabel, zero_based, query_id)\n",
        "/usr/local/lib/python2.7/dist-packages/sklearn/datasets/svmlight_format.py:137: DeprecationWarning: using a non-integer number instead of an integer will result in an error in the future\n",
        "  return _load_svmlight_file(f, dtype, multilabel, zero_based, query_id)\n",
        "/usr/local/lib/python2.7/dist-packages/sklearn/datasets/svmlight_format.py:137: DeprecationWarning: using a non-integer number instead of an integer will result in an error in the future\n",
        "  return _load_svmlight_file(f, dtype, multilabel, zero_based, query_id)\n",
        "/usr/local/lib/python2.7/dist-packages/sklearn/datasets/svmlight_format.py:137: DeprecationWarning: using a non-integer number instead of an integer will result in an error in the future\n",
        "  return _load_svmlight_file(f, dtype, multilabel, zero_based, query_id)\n",
        "/usr/local/lib/python2.7/dist-packages/sklearn/datasets/svmlight_format.py:137: DeprecationWarning: using a non-integer number instead of an integer will result in an error in the future\n",
        "  return _load_svmlight_file(f, dtype, multilabel, zero_based, query_id)\n",
        "/usr/local/lib/python2.7/dist-packages/sklearn/datasets/svmlight_format.py:137: DeprecationWarning: using a non-integer number instead of an integer will result in an error in the future\n",
        "  return _load_svmlight_file(f, dtype, multilabel, zero_based, query_id)\n"
       ]
      },
      {
       "output_type": "stream",
       "stream": "stderr",
       "text": [
        "/usr/local/lib/python2.7/dist-packages/sklearn/datasets/svmlight_format.py:137: DeprecationWarning: using a non-integer number instead of an integer will result in an error in the future\n",
        "  return _load_svmlight_file(f, dtype, multilabel, zero_based, query_id)\n",
        "/usr/local/lib/python2.7/dist-packages/sklearn/datasets/svmlight_format.py:137: DeprecationWarning: using a non-integer number instead of an integer will result in an error in the future\n",
        "  return _load_svmlight_file(f, dtype, multilabel, zero_based, query_id)\n",
        "/usr/local/lib/python2.7/dist-packages/sklearn/datasets/svmlight_format.py:137: DeprecationWarning: using a non-integer number instead of an integer will result in an error in the future\n",
        "  return _load_svmlight_file(f, dtype, multilabel, zero_based, query_id)\n",
        "/usr/local/lib/python2.7/dist-packages/sklearn/datasets/svmlight_format.py:137: DeprecationWarning: using a non-integer number instead of an integer will result in an error in the future\n",
        "  return _load_svmlight_file(f, dtype, multilabel, zero_based, query_id)\n",
        "/usr/local/lib/python2.7/dist-packages/sklearn/datasets/svmlight_format.py:137: DeprecationWarning: using a non-integer number instead of an integer will result in an error in the future\n",
        "  return _load_svmlight_file(f, dtype, multilabel, zero_based, query_id)\n",
        "/usr/local/lib/python2.7/dist-packages/sklearn/datasets/svmlight_format.py:137: DeprecationWarning: using a non-integer number instead of an integer will result in an error in the future\n",
        "  return _load_svmlight_file(f, dtype, multilabel, zero_based, query_id)\n",
        "/usr/local/lib/python2.7/dist-packages/sklearn/datasets/svmlight_format.py:137: DeprecationWarning: using a non-integer number instead of an integer will result in an error in the future\n",
        "  return _load_svmlight_file(f, dtype, multilabel, zero_based, query_id)\n",
        "/usr/local/lib/python2.7/dist-packages/sklearn/datasets/svmlight_format.py:137: DeprecationWarning: using a non-integer number instead of an integer will result in an error in the future\n",
        "  return _load_svmlight_file(f, dtype, multilabel, zero_based, query_id)\n"
       ]
      },
      {
       "output_type": "stream",
       "stream": "stderr",
       "text": [
        "/usr/local/lib/python2.7/dist-packages/sklearn/datasets/svmlight_format.py:137: DeprecationWarning: using a non-integer number instead of an integer will result in an error in the future\n",
        "  return _load_svmlight_file(f, dtype, multilabel, zero_based, query_id)\n",
        "/usr/local/lib/python2.7/dist-packages/sklearn/datasets/svmlight_format.py:137: DeprecationWarning: using a non-integer number instead of an integer will result in an error in the future\n",
        "  return _load_svmlight_file(f, dtype, multilabel, zero_based, query_id)\n",
        "/usr/local/lib/python2.7/dist-packages/sklearn/datasets/svmlight_format.py:137: DeprecationWarning: using a non-integer number instead of an integer will result in an error in the future\n",
        "  return _load_svmlight_file(f, dtype, multilabel, zero_based, query_id)\n",
        "/usr/local/lib/python2.7/dist-packages/sklearn/datasets/svmlight_format.py:137: DeprecationWarning: using a non-integer number instead of an integer will result in an error in the future\n",
        "  return _load_svmlight_file(f, dtype, multilabel, zero_based, query_id)\n"
       ]
      },
      {
       "output_type": "stream",
       "stream": "stderr",
       "text": [
        "/usr/local/lib/python2.7/dist-packages/sklearn/datasets/svmlight_format.py:137: DeprecationWarning: using a non-integer number instead of an integer will result in an error in the future\n",
        "  return _load_svmlight_file(f, dtype, multilabel, zero_based, query_id)\n",
        "/usr/local/lib/python2.7/dist-packages/sklearn/datasets/svmlight_format.py:137: DeprecationWarning: using a non-integer number instead of an integer will result in an error in the future\n",
        "  return _load_svmlight_file(f, dtype, multilabel, zero_based, query_id)\n",
        "/usr/local/lib/python2.7/dist-packages/sklearn/datasets/svmlight_format.py:137: DeprecationWarning: using a non-integer number instead of an integer will result in an error in the future\n",
        "  return _load_svmlight_file(f, dtype, multilabel, zero_based, query_id)\n",
        "/usr/local/lib/python2.7/dist-packages/sklearn/datasets/svmlight_format.py:137: DeprecationWarning: using a non-integer number instead of an integer will result in an error in the future\n",
        "  return _load_svmlight_file(f, dtype, multilabel, zero_based, query_id)\n"
       ]
      },
      {
       "output_type": "stream",
       "stream": "stderr",
       "text": [
        "/usr/local/lib/python2.7/dist-packages/sklearn/datasets/svmlight_format.py:137: DeprecationWarning: using a non-integer number instead of an integer will result in an error in the future\n",
        "  return _load_svmlight_file(f, dtype, multilabel, zero_based, query_id)\n",
        "/usr/local/lib/python2.7/dist-packages/sklearn/datasets/svmlight_format.py:137: DeprecationWarning: using a non-integer number instead of an integer will result in an error in the future\n",
        "  return _load_svmlight_file(f, dtype, multilabel, zero_based, query_id)\n"
       ]
      },
      {
       "output_type": "stream",
       "stream": "stderr",
       "text": [
        "/usr/local/lib/python2.7/dist-packages/sklearn/datasets/svmlight_format.py:137: DeprecationWarning: using a non-integer number instead of an integer will result in an error in the future\n",
        "  return _load_svmlight_file(f, dtype, multilabel, zero_based, query_id)\n",
        "/usr/local/lib/python2.7/dist-packages/sklearn/datasets/svmlight_format.py:137: DeprecationWarning: using a non-integer number instead of an integer will result in an error in the future\n",
        "  return _load_svmlight_file(f, dtype, multilabel, zero_based, query_id)\n"
       ]
      },
      {
       "output_type": "stream",
       "stream": "stderr",
       "text": [
        "/usr/local/lib/python2.7/dist-packages/sklearn/datasets/svmlight_format.py:137: DeprecationWarning: using a non-integer number instead of an integer will result in an error in the future\n",
        "  return _load_svmlight_file(f, dtype, multilabel, zero_based, query_id)\n",
        "/usr/local/lib/python2.7/dist-packages/sklearn/datasets/svmlight_format.py:137: DeprecationWarning: using a non-integer number instead of an integer will result in an error in the future\n",
        "  return _load_svmlight_file(f, dtype, multilabel, zero_based, query_id)\n"
       ]
      },
      {
       "output_type": "stream",
       "stream": "stderr",
       "text": [
        "/usr/local/lib/python2.7/dist-packages/sklearn/datasets/svmlight_format.py:137: DeprecationWarning: using a non-integer number instead of an integer will result in an error in the future\n",
        "  return _load_svmlight_file(f, dtype, multilabel, zero_based, query_id)\n",
        "/usr/local/lib/python2.7/dist-packages/sklearn/datasets/svmlight_format.py:137: DeprecationWarning: using a non-integer number instead of an integer will result in an error in the future\n",
        "  return _load_svmlight_file(f, dtype, multilabel, zero_based, query_id)\n"
       ]
      },
      {
       "output_type": "stream",
       "stream": "stderr",
       "text": [
        "/usr/local/lib/python2.7/dist-packages/sklearn/datasets/svmlight_format.py:137: DeprecationWarning: using a non-integer number instead of an integer will result in an error in the future\n",
        "  return _load_svmlight_file(f, dtype, multilabel, zero_based, query_id)\n",
        "/usr/local/lib/python2.7/dist-packages/sklearn/datasets/svmlight_format.py:137: DeprecationWarning: using a non-integer number instead of an integer will result in an error in the future\n",
        "  return _load_svmlight_file(f, dtype, multilabel, zero_based, query_id)\n"
       ]
      },
      {
       "output_type": "stream",
       "stream": "stderr",
       "text": [
        "/usr/local/lib/python2.7/dist-packages/sklearn/datasets/svmlight_format.py:137: DeprecationWarning: using a non-integer number instead of an integer will result in an error in the future\n",
        "  return _load_svmlight_file(f, dtype, multilabel, zero_based, query_id)\n",
        "/usr/local/lib/python2.7/dist-packages/sklearn/datasets/svmlight_format.py:137: DeprecationWarning: using a non-integer number instead of an integer will result in an error in the future\n",
        "  return _load_svmlight_file(f, dtype, multilabel, zero_based, query_id)\n"
       ]
      },
      {
       "output_type": "stream",
       "stream": "stderr",
       "text": [
        "/usr/local/lib/python2.7/dist-packages/sklearn/datasets/svmlight_format.py:137: DeprecationWarning: using a non-integer number instead of an integer will result in an error in the future\n",
        "  return _load_svmlight_file(f, dtype, multilabel, zero_based, query_id)\n",
        "/usr/local/lib/python2.7/dist-packages/sklearn/datasets/svmlight_format.py:137: DeprecationWarning: using a non-integer number instead of an integer will result in an error in the future\n",
        "  return _load_svmlight_file(f, dtype, multilabel, zero_based, query_id)\n",
        "/usr/local/lib/python2.7/dist-packages/sklearn/datasets/svmlight_format.py:137: DeprecationWarning: using a non-integer number instead of an integer will result in an error in the future\n",
        "  return _load_svmlight_file(f, dtype, multilabel, zero_based, query_id)\n",
        "/usr/local/lib/python2.7/dist-packages/sklearn/datasets/svmlight_format.py:137: DeprecationWarning: using a non-integer number instead of an integer will result in an error in the future\n",
        "  return _load_svmlight_file(f, dtype, multilabel, zero_based, query_id)\n",
        "/usr/local/lib/python2.7/dist-packages/sklearn/datasets/svmlight_format.py:137: DeprecationWarning: using a non-integer number instead of an integer will result in an error in the future\n",
        "  return _load_svmlight_file(f, dtype, multilabel, zero_based, query_id)\n",
        "/usr/local/lib/python2.7/dist-packages/sklearn/datasets/svmlight_format.py:137: DeprecationWarning: using a non-integer number instead of an integer will result in an error in the future\n",
        "  return _load_svmlight_file(f, dtype, multilabel, zero_based, query_id)\n",
        "/usr/local/lib/python2.7/dist-packages/sklearn/datasets/svmlight_format.py:137: DeprecationWarning: using a non-integer number instead of an integer will result in an error in the future\n",
        "  return _load_svmlight_file(f, dtype, multilabel, zero_based, query_id)\n",
        "/usr/local/lib/python2.7/dist-packages/sklearn/datasets/svmlight_format.py:137: DeprecationWarning: using a non-integer number instead of an integer will result in an error in the future\n",
        "  return _load_svmlight_file(f, dtype, multilabel, zero_based, query_id)\n",
        "/usr/local/lib/python2.7/dist-packages/sklearn/datasets/svmlight_format.py:137: DeprecationWarning: using a non-integer number instead of an integer will result in an error in the future\n",
        "  return _load_svmlight_file(f, dtype, multilabel, zero_based, query_id)\n",
        "/usr/local/lib/python2.7/dist-packages/sklearn/datasets/svmlight_format.py:137: DeprecationWarning: using a non-integer number instead of an integer will result in an error in the future\n",
        "  return _load_svmlight_file(f, dtype, multilabel, zero_based, query_id)\n",
        "/usr/local/lib/python2.7/dist-packages/sklearn/datasets/svmlight_format.py:137: DeprecationWarning: using a non-integer number instead of an integer will result in an error in the future\n",
        "  return _load_svmlight_file(f, dtype, multilabel, zero_based, query_id)\n",
        "/usr/local/lib/python2.7/dist-packages/sklearn/datasets/svmlight_format.py:137: DeprecationWarning: using a non-integer number instead of an integer will result in an error in the future\n",
        "  return _load_svmlight_file(f, dtype, multilabel, zero_based, query_id)\n",
        "/usr/local/lib/python2.7/dist-packages/sklearn/datasets/svmlight_format.py:137: DeprecationWarning: using a non-integer number instead of an integer will result in an error in the future\n",
        "  return _load_svmlight_file(f, dtype, multilabel, zero_based, query_id)\n",
        "/usr/local/lib/python2.7/dist-packages/sklearn/datasets/svmlight_format.py:137: DeprecationWarning: using a non-integer number instead of an integer will result in an error in the future\n",
        "  return _load_svmlight_file(f, dtype, multilabel, zero_based, query_id)\n",
        "/usr/local/lib/python2.7/dist-packages/sklearn/datasets/svmlight_format.py:137: DeprecationWarning: using a non-integer number instead of an integer will result in an error in the future\n",
        "  return _load_svmlight_file(f, dtype, multilabel, zero_based, query_id)\n",
        "/usr/local/lib/python2.7/dist-packages/sklearn/datasets/svmlight_format.py:137: DeprecationWarning: using a non-integer number instead of an integer will result in an error in the future\n",
        "  return _load_svmlight_file(f, dtype, multilabel, zero_based, query_id)\n",
        "/usr/local/lib/python2.7/dist-packages/sklearn/datasets/svmlight_format.py:137: DeprecationWarning: using a non-integer number instead of an integer will result in an error in the future\n",
        "  return _load_svmlight_file(f, dtype, multilabel, zero_based, query_id)\n",
        "/usr/local/lib/python2.7/dist-packages/sklearn/datasets/svmlight_format.py:137: DeprecationWarning: using a non-integer number instead of an integer will result in an error in the future\n",
        "  return _load_svmlight_file(f, dtype, multilabel, zero_based, query_id)\n",
        "/usr/local/lib/python2.7/dist-packages/sklearn/datasets/svmlight_format.py:137: DeprecationWarning: using a non-integer number instead of an integer will result in an error in the future\n",
        "  return _load_svmlight_file(f, dtype, multilabel, zero_based, query_id)\n",
        "/usr/local/lib/python2.7/dist-packages/sklearn/datasets/svmlight_format.py:137: DeprecationWarning: using a non-integer number instead of an integer will result in an error in the future\n",
        "  return _load_svmlight_file(f, dtype, multilabel, zero_based, query_id)\n",
        "/usr/local/lib/python2.7/dist-packages/sklearn/datasets/svmlight_format.py:137: DeprecationWarning: using a non-integer number instead of an integer will result in an error in the future\n",
        "  return _load_svmlight_file(f, dtype, multilabel, zero_based, query_id)\n",
        "/usr/local/lib/python2.7/dist-packages/sklearn/datasets/svmlight_format.py:137: DeprecationWarning: using a non-integer number instead of an integer will result in an error in the future\n",
        "  return _load_svmlight_file(f, dtype, multilabel, zero_based, query_id)\n",
        "/usr/local/lib/python2.7/dist-packages/sklearn/datasets/svmlight_format.py:137: DeprecationWarning: using a non-integer number instead of an integer will result in an error in the future\n",
        "  return _load_svmlight_file(f, dtype, multilabel, zero_based, query_id)\n",
        "/usr/local/lib/python2.7/dist-packages/sklearn/datasets/svmlight_format.py:137: DeprecationWarning: using a non-integer number instead of an integer will result in an error in the future\n",
        "  return _load_svmlight_file(f, dtype, multilabel, zero_based, query_id)\n",
        "/usr/local/lib/python2.7/dist-packages/sklearn/datasets/svmlight_format.py:137: DeprecationWarning: using a non-integer number instead of an integer will result in an error in the future\n",
        "  return _load_svmlight_file(f, dtype, multilabel, zero_based, query_id)\n",
        "/usr/local/lib/python2.7/dist-packages/sklearn/datasets/svmlight_format.py:137: DeprecationWarning: using a non-integer number instead of an integer will result in an error in the future\n",
        "  return _load_svmlight_file(f, dtype, multilabel, zero_based, query_id)\n",
        "/usr/local/lib/python2.7/dist-packages/sklearn/datasets/svmlight_format.py:137: DeprecationWarning: using a non-integer number instead of an integer will result in an error in the future\n",
        "  return _load_svmlight_file(f, dtype, multilabel, zero_based, query_id)\n",
        "/usr/local/lib/python2.7/dist-packages/sklearn/datasets/svmlight_format.py:137: DeprecationWarning: using a non-integer number instead of an integer will result in an error in the future\n",
        "  return _load_svmlight_file(f, dtype, multilabel, zero_based, query_id)\n",
        "/usr/local/lib/python2.7/dist-packages/sklearn/datasets/svmlight_format.py:137: DeprecationWarning: using a non-integer number instead of an integer will result in an error in the future\n",
        "  return _load_svmlight_file(f, dtype, multilabel, zero_based, query_id)\n",
        "/usr/local/lib/python2.7/dist-packages/sklearn/datasets/svmlight_format.py:137: DeprecationWarning: using a non-integer number instead of an integer will result in an error in the future\n",
        "  return _load_svmlight_file(f, dtype, multilabel, zero_based, query_id)\n",
        "/usr/local/lib/python2.7/dist-packages/sklearn/datasets/svmlight_format.py:137: DeprecationWarning: using a non-integer number instead of an integer will result in an error in the future\n",
        "  return _load_svmlight_file(f, dtype, multilabel, zero_based, query_id)\n",
        "/usr/local/lib/python2.7/dist-packages/sklearn/datasets/svmlight_format.py:137: DeprecationWarning: using a non-integer number instead of an integer will result in an error in the future\n",
        "  return _load_svmlight_file(f, dtype, multilabel, zero_based, query_id)\n",
        "/usr/local/lib/python2.7/dist-packages/sklearn/datasets/svmlight_format.py:137: DeprecationWarning: using a non-integer number instead of an integer will result in an error in the future\n",
        "  return _load_svmlight_file(f, dtype, multilabel, zero_based, query_id)\n",
        "/usr/local/lib/python2.7/dist-packages/sklearn/datasets/svmlight_format.py:137: DeprecationWarning: using a non-integer number instead of an integer will result in an error in the future\n",
        "  return _load_svmlight_file(f, dtype, multilabel, zero_based, query_id)\n",
        "/usr/local/lib/python2.7/dist-packages/sklearn/datasets/svmlight_format.py:137: DeprecationWarning: using a non-integer number instead of an integer will result in an error in the future\n",
        "  return _load_svmlight_file(f, dtype, multilabel, zero_based, query_id)\n",
        "/usr/local/lib/python2.7/dist-packages/sklearn/datasets/svmlight_format.py:137: DeprecationWarning: using a non-integer number instead of an integer will result in an error in the future\n",
        "  return _load_svmlight_file(f, dtype, multilabel, zero_based, query_id)\n"
       ]
      },
      {
       "output_type": "stream",
       "stream": "stderr",
       "text": [
        "/usr/local/lib/python2.7/dist-packages/sklearn/datasets/svmlight_format.py:137: DeprecationWarning: using a non-integer number instead of an integer will result in an error in the future\n",
        "  return _load_svmlight_file(f, dtype, multilabel, zero_based, query_id)\n",
        "/usr/local/lib/python2.7/dist-packages/sklearn/datasets/svmlight_format.py:137: DeprecationWarning: using a non-integer number instead of an integer will result in an error in the future\n",
        "  return _load_svmlight_file(f, dtype, multilabel, zero_based, query_id)\n",
        "/usr/local/lib/python2.7/dist-packages/sklearn/datasets/svmlight_format.py:137: DeprecationWarning: using a non-integer number instead of an integer will result in an error in the future\n",
        "  return _load_svmlight_file(f, dtype, multilabel, zero_based, query_id)\n",
        "/usr/local/lib/python2.7/dist-packages/sklearn/datasets/svmlight_format.py:137: DeprecationWarning: using a non-integer number instead of an integer will result in an error in the future\n",
        "  return _load_svmlight_file(f, dtype, multilabel, zero_based, query_id)\n",
        "/usr/local/lib/python2.7/dist-packages/sklearn/datasets/svmlight_format.py:137: DeprecationWarning: using a non-integer number instead of an integer will result in an error in the future\n",
        "  return _load_svmlight_file(f, dtype, multilabel, zero_based, query_id)\n",
        "/usr/local/lib/python2.7/dist-packages/sklearn/datasets/svmlight_format.py:137: DeprecationWarning: using a non-integer number instead of an integer will result in an error in the future\n",
        "  return _load_svmlight_file(f, dtype, multilabel, zero_based, query_id)\n",
        "/usr/local/lib/python2.7/dist-packages/sklearn/datasets/svmlight_format.py:137: DeprecationWarning: using a non-integer number instead of an integer will result in an error in the future\n",
        "  return _load_svmlight_file(f, dtype, multilabel, zero_based, query_id)\n",
        "/usr/local/lib/python2.7/dist-packages/sklearn/datasets/svmlight_format.py:137: DeprecationWarning: using a non-integer number instead of an integer will result in an error in the future\n",
        "  return _load_svmlight_file(f, dtype, multilabel, zero_based, query_id)\n"
       ]
      },
      {
       "output_type": "stream",
       "stream": "stderr",
       "text": [
        "/usr/local/lib/python2.7/dist-packages/sklearn/datasets/svmlight_format.py:137: DeprecationWarning: using a non-integer number instead of an integer will result in an error in the future\n",
        "  return _load_svmlight_file(f, dtype, multilabel, zero_based, query_id)\n",
        "/usr/local/lib/python2.7/dist-packages/sklearn/datasets/svmlight_format.py:137: DeprecationWarning: using a non-integer number instead of an integer will result in an error in the future\n",
        "  return _load_svmlight_file(f, dtype, multilabel, zero_based, query_id)\n",
        "/usr/local/lib/python2.7/dist-packages/sklearn/datasets/svmlight_format.py:137: DeprecationWarning: using a non-integer number instead of an integer will result in an error in the future\n",
        "  return _load_svmlight_file(f, dtype, multilabel, zero_based, query_id)\n",
        "/usr/local/lib/python2.7/dist-packages/sklearn/datasets/svmlight_format.py:137: DeprecationWarning: using a non-integer number instead of an integer will result in an error in the future\n",
        "  return _load_svmlight_file(f, dtype, multilabel, zero_based, query_id)\n"
       ]
      },
      {
       "output_type": "stream",
       "stream": "stderr",
       "text": [
        "/usr/local/lib/python2.7/dist-packages/sklearn/datasets/svmlight_format.py:137: DeprecationWarning: using a non-integer number instead of an integer will result in an error in the future\n",
        "  return _load_svmlight_file(f, dtype, multilabel, zero_based, query_id)\n",
        "/usr/local/lib/python2.7/dist-packages/sklearn/datasets/svmlight_format.py:137: DeprecationWarning: using a non-integer number instead of an integer will result in an error in the future\n",
        "  return _load_svmlight_file(f, dtype, multilabel, zero_based, query_id)\n",
        "/usr/local/lib/python2.7/dist-packages/sklearn/datasets/svmlight_format.py:137: DeprecationWarning: using a non-integer number instead of an integer will result in an error in the future\n",
        "  return _load_svmlight_file(f, dtype, multilabel, zero_based, query_id)\n",
        "/usr/local/lib/python2.7/dist-packages/sklearn/datasets/svmlight_format.py:137: DeprecationWarning: using a non-integer number instead of an integer will result in an error in the future\n",
        "  return _load_svmlight_file(f, dtype, multilabel, zero_based, query_id)\n"
       ]
      },
      {
       "output_type": "stream",
       "stream": "stderr",
       "text": [
        "/usr/local/lib/python2.7/dist-packages/sklearn/datasets/svmlight_format.py:137: DeprecationWarning: using a non-integer number instead of an integer will result in an error in the future\n",
        "  return _load_svmlight_file(f, dtype, multilabel, zero_based, query_id)\n",
        "/usr/local/lib/python2.7/dist-packages/sklearn/datasets/svmlight_format.py:137: DeprecationWarning: using a non-integer number instead of an integer will result in an error in the future\n",
        "  return _load_svmlight_file(f, dtype, multilabel, zero_based, query_id)\n"
       ]
      },
      {
       "output_type": "stream",
       "stream": "stderr",
       "text": [
        "/usr/local/lib/python2.7/dist-packages/sklearn/datasets/svmlight_format.py:137: DeprecationWarning: using a non-integer number instead of an integer will result in an error in the future\n",
        "  return _load_svmlight_file(f, dtype, multilabel, zero_based, query_id)\n",
        "/usr/local/lib/python2.7/dist-packages/sklearn/datasets/svmlight_format.py:137: DeprecationWarning: using a non-integer number instead of an integer will result in an error in the future\n",
        "  return _load_svmlight_file(f, dtype, multilabel, zero_based, query_id)\n"
       ]
      },
      {
       "output_type": "stream",
       "stream": "stderr",
       "text": [
        "/usr/local/lib/python2.7/dist-packages/sklearn/datasets/svmlight_format.py:137: DeprecationWarning: using a non-integer number instead of an integer will result in an error in the future\n",
        "  return _load_svmlight_file(f, dtype, multilabel, zero_based, query_id)\n",
        "/usr/local/lib/python2.7/dist-packages/sklearn/datasets/svmlight_format.py:137: DeprecationWarning: using a non-integer number instead of an integer will result in an error in the future\n",
        "  return _load_svmlight_file(f, dtype, multilabel, zero_based, query_id)\n"
       ]
      },
      {
       "output_type": "stream",
       "stream": "stderr",
       "text": [
        "/usr/local/lib/python2.7/dist-packages/sklearn/datasets/svmlight_format.py:137: DeprecationWarning: using a non-integer number instead of an integer will result in an error in the future\n",
        "  return _load_svmlight_file(f, dtype, multilabel, zero_based, query_id)\n",
        "/usr/local/lib/python2.7/dist-packages/sklearn/datasets/svmlight_format.py:137: DeprecationWarning: using a non-integer number instead of an integer will result in an error in the future\n",
        "  return _load_svmlight_file(f, dtype, multilabel, zero_based, query_id)\n"
       ]
      },
      {
       "output_type": "stream",
       "stream": "stderr",
       "text": [
        "/usr/local/lib/python2.7/dist-packages/sklearn/datasets/svmlight_format.py:137: DeprecationWarning: using a non-integer number instead of an integer will result in an error in the future\n",
        "  return _load_svmlight_file(f, dtype, multilabel, zero_based, query_id)\n",
        "/usr/local/lib/python2.7/dist-packages/sklearn/tree/tree.py:446: DeprecationWarning: Setting compute_importances is no longer required as version 0.14. Variable importances are now computed on the fly when accessing the feature_importances_ attribute. This parameter will be removed in 0.16.\n",
        "  DeprecationWarning)\n"
       ]
      },
      {
       "output_type": "stream",
       "stream": "stderr",
       "text": [
        "/usr/local/lib/python2.7/dist-packages/sklearn/tree/tree.py:446: DeprecationWarning: Setting compute_importances is no longer required as version 0.14. Variable importances are now computed on the fly when accessing the feature_importances_ attribute. This parameter will be removed in 0.16.\n",
        "  DeprecationWarning)\n",
        "/usr/local/lib/python2.7/dist-packages/sklearn/tree/tree.py:446: DeprecationWarning: Setting compute_importances is no longer required as version 0.14. Variable importances are now computed on the fly when accessing the feature_importances_ attribute. This parameter will be removed in 0.16.\n",
        "  DeprecationWarning)\n"
       ]
      },
      {
       "output_type": "stream",
       "stream": "stderr",
       "text": [
        "/usr/local/lib/python2.7/dist-packages/sklearn/tree/tree.py:446: DeprecationWarning: Setting compute_importances is no longer required as version 0.14. Variable importances are now computed on the fly when accessing the feature_importances_ attribute. This parameter will be removed in 0.16.\n",
        "  DeprecationWarning)\n",
        "/usr/local/lib/python2.7/dist-packages/sklearn/tree/tree.py:446: DeprecationWarning: Setting compute_importances is no longer required as version 0.14. Variable importances are now computed on the fly when accessing the feature_importances_ attribute. This parameter will be removed in 0.16.\n",
        "  DeprecationWarning)\n"
       ]
      },
      {
       "output_type": "stream",
       "stream": "stdout",
       "text": [
        "%%%%%%%%%%%%%%%%%%%%%%%%\n",
        "Sample size: 55478\n",
        "All: time\n",
        "scores: [0.91888968997837062, 0.91420331651045417, 0.91510454217736126, 0.9190626408292023, 0.91347453808021628]"
       ]
      },
      {
       "output_type": "stream",
       "stream": "stderr",
       "text": [
        "/usr/local/lib/python2.7/dist-packages/sklearn/tree/tree.py:446: DeprecationWarning: Setting compute_importances is no longer required as version 0.14. Variable importances are now computed on the fly when accessing the feature_importances_ attribute. This parameter will be removed in 0.16.\n",
        "  DeprecationWarning)\n",
        "/usr/local/lib/python2.7/dist-packages/sklearn/tree/tree.py:446: DeprecationWarning: Setting compute_importances is no longer required as version 0.14. Variable importances are now computed on the fly when accessing the feature_importances_ attribute. This parameter will be removed in 0.16.\n",
        "  DeprecationWarning)\n"
       ]
      },
      {
       "output_type": "stream",
       "stream": "stderr",
       "text": [
        "/usr/local/lib/python2.7/dist-packages/sklearn/tree/tree.py:446: DeprecationWarning: Setting compute_importances is no longer required as version 0.14. Variable importances are now computed on the fly when accessing the feature_importances_ attribute. This parameter will be removed in 0.16.\n",
        "  DeprecationWarning)\n",
        "/usr/local/lib/python2.7/dist-packages/sklearn/tree/tree.py:446: DeprecationWarning: Setting compute_importances is no longer required as version 0.14. Variable importances are now computed on the fly when accessing the feature_importances_ attribute. This parameter will be removed in 0.16.\n",
        "  DeprecationWarning)\n"
       ]
      },
      {
       "output_type": "stream",
       "stream": "stdout",
       "text": [
        "\n",
        "Best scores:0.919062640829\n",
        "Importance:[ 0.0624371   0.00193633  0.93562657]\n",
        "All: ad\n",
        "scores: [0.46692501802451336, 0.46818673395818311, 0.4716113914924297, 0.46237043713384407, 0.46642631816133395]"
       ]
      },
      {
       "output_type": "stream",
       "stream": "stdout",
       "text": [
        "\n",
        "Best scores:0.471611391492\n",
        "Importance:[ 0.8893682   0.02231456  0.08831724]\n",
        "%%%%%%%%%%%%%%%%%%%%%%%%"
       ]
      },
      {
       "output_type": "stream",
       "stream": "stderr",
       "text": [
        "/usr/local/lib/python2.7/dist-packages/sklearn/tree/tree.py:446: DeprecationWarning: Setting compute_importances is no longer required as version 0.14. Variable importances are now computed on the fly when accessing the feature_importances_ attribute. This parameter will be removed in 0.16.\n",
        "  DeprecationWarning)\n",
        "/usr/local/lib/python2.7/dist-packages/sklearn/tree/tree.py:446: DeprecationWarning: Setting compute_importances is no longer required as version 0.14. Variable importances are now computed on the fly when accessing the feature_importances_ attribute. This parameter will be removed in 0.16.\n",
        "  DeprecationWarning)\n"
       ]
      },
      {
       "output_type": "stream",
       "stream": "stderr",
       "text": [
        "/usr/local/lib/python2.7/dist-packages/sklearn/tree/tree.py:446: DeprecationWarning: Setting compute_importances is no longer required as version 0.14. Variable importances are now computed on the fly when accessing the feature_importances_ attribute. This parameter will be removed in 0.16.\n",
        "  DeprecationWarning)\n",
        "/usr/local/lib/python2.7/dist-packages/sklearn/tree/tree.py:446: DeprecationWarning: Setting compute_importances is no longer required as version 0.14. Variable importances are now computed on the fly when accessing the feature_importances_ attribute. This parameter will be removed in 0.16.\n",
        "  DeprecationWarning)\n",
        "/usr/local/lib/python2.7/dist-packages/sklearn/tree/tree.py:446: DeprecationWarning: Setting compute_importances is no longer required as version 0.14. Variable importances are now computed on the fly when accessing the feature_importances_ attribute. This parameter will be removed in 0.16.\n",
        "  DeprecationWarning)\n"
       ]
      },
      {
       "output_type": "stream",
       "stream": "stdout",
       "text": [
        "\n",
        "%%%%%%%%%%%%%%%%%%%%%%%%\n",
        "Sample size: 23415\n",
        "iPad: time\n",
        "scores: [0.93572496263079219, 0.93188127268844756, 0.9323083493487081, 0.93593850096092246, 0.93209481101857783]"
       ]
      },
      {
       "output_type": "stream",
       "stream": "stderr",
       "text": [
        "/usr/local/lib/python2.7/dist-packages/sklearn/tree/tree.py:446: DeprecationWarning: Setting compute_importances is no longer required as version 0.14. Variable importances are now computed on the fly when accessing the feature_importances_ attribute. This parameter will be removed in 0.16.\n",
        "  DeprecationWarning)\n",
        "/usr/local/lib/python2.7/dist-packages/sklearn/tree/tree.py:446: DeprecationWarning: Setting compute_importances is no longer required as version 0.14. Variable importances are now computed on the fly when accessing the feature_importances_ attribute. This parameter will be removed in 0.16.\n",
        "  DeprecationWarning)\n",
        "/usr/local/lib/python2.7/dist-packages/sklearn/tree/tree.py:446: DeprecationWarning: Setting compute_importances is no longer required as version 0.14. Variable importances are now computed on the fly when accessing the feature_importances_ attribute. This parameter will be removed in 0.16.\n",
        "  DeprecationWarning)\n"
       ]
      },
      {
       "output_type": "stream",
       "stream": "stdout",
       "text": [
        "\n",
        "Best scores:0.935938500961\n",
        "Importance:[  4.72264326e-02   6.88953876e-04   9.52084614e-01]\n",
        "iPad: ad\n",
        "scores: [0.62310484732009397, 0.61434977578475336, 0.63335468716634635, 0.61797992739696772, 0.62737561392269914]"
       ]
      },
      {
       "output_type": "stream",
       "stream": "stdout",
       "text": [
        "\n",
        "Best scores:0.633354687166\n",
        "Importance:[ 0.67681782  0.03837541  0.28480677]\n",
        "%%%%%%%%%%%%%%%%%%%%%%%%\n",
        "%%%%%%%%%%%%%%%%%%%%%%%%"
       ]
      },
      {
       "output_type": "stream",
       "stream": "stderr",
       "text": [
        "/usr/local/lib/python2.7/dist-packages/sklearn/tree/tree.py:446: DeprecationWarning: Setting compute_importances is no longer required as version 0.14. Variable importances are now computed on the fly when accessing the feature_importances_ attribute. This parameter will be removed in 0.16.\n",
        "  DeprecationWarning)\n",
        "/usr/local/lib/python2.7/dist-packages/sklearn/tree/tree.py:446: DeprecationWarning: Setting compute_importances is no longer required as version 0.14. Variable importances are now computed on the fly when accessing the feature_importances_ attribute. This parameter will be removed in 0.16.\n",
        "  DeprecationWarning)\n",
        "/usr/local/lib/python2.7/dist-packages/sklearn/tree/tree.py:446: DeprecationWarning: Setting compute_importances is no longer required as version 0.14. Variable importances are now computed on the fly when accessing the feature_importances_ attribute. This parameter will be removed in 0.16.\n",
        "  DeprecationWarning)\n",
        "/usr/local/lib/python2.7/dist-packages/sklearn/tree/tree.py:446: DeprecationWarning: Setting compute_importances is no longer required as version 0.14. Variable importances are now computed on the fly when accessing the feature_importances_ attribute. This parameter will be removed in 0.16.\n",
        "  DeprecationWarning)\n"
       ]
      },
      {
       "output_type": "stream",
       "stream": "stdout",
       "text": [
        "\n",
        "Sample size: 13760\n",
        "Android: time\n",
        "scores: [0.8495639534883721, 0.84011627906976749, 0.84156976744186052, 0.85029069767441856, 0.83975290697674421]"
       ]
      },
      {
       "output_type": "stream",
       "stream": "stderr",
       "text": [
        "/usr/local/lib/python2.7/dist-packages/sklearn/tree/tree.py:446: DeprecationWarning: Setting compute_importances is no longer required as version 0.14. Variable importances are now computed on the fly when accessing the feature_importances_ attribute. This parameter will be removed in 0.16.\n",
        "  DeprecationWarning)\n",
        "/usr/local/lib/python2.7/dist-packages/sklearn/tree/tree.py:446: DeprecationWarning: Setting compute_importances is no longer required as version 0.14. Variable importances are now computed on the fly when accessing the feature_importances_ attribute. This parameter will be removed in 0.16.\n",
        "  DeprecationWarning)\n",
        "/usr/local/lib/python2.7/dist-packages/sklearn/tree/tree.py:446: DeprecationWarning: Setting compute_importances is no longer required as version 0.14. Variable importances are now computed on the fly when accessing the feature_importances_ attribute. This parameter will be removed in 0.16.\n",
        "  DeprecationWarning)\n",
        "/usr/local/lib/python2.7/dist-packages/sklearn/tree/tree.py:446: DeprecationWarning: Setting compute_importances is no longer required as version 0.14. Variable importances are now computed on the fly when accessing the feature_importances_ attribute. This parameter will be removed in 0.16.\n",
        "  DeprecationWarning)\n",
        "/usr/local/lib/python2.7/dist-packages/sklearn/tree/tree.py:446: DeprecationWarning: Setting compute_importances is no longer required as version 0.14. Variable importances are now computed on the fly when accessing the feature_importances_ attribute. This parameter will be removed in 0.16.\n",
        "  DeprecationWarning)\n"
       ]
      },
      {
       "output_type": "stream",
       "stream": "stdout",
       "text": [
        "\n",
        "Best scores:0.850290697674\n",
        "Importance:[ 0.05000375  0.01049921  0.93949704]\n",
        "Android: ad\n",
        "scores: [0.55414244186046513, 0.53415697674418605, 0.55377906976744184, 0.55159883720930236, 0.56976744186046513]"
       ]
      },
      {
       "output_type": "stream",
       "stream": "stdout",
       "text": [
        "\n",
        "Best scores:0.56976744186\n",
        "Importance:[ 0.23893653  0.17916599  0.58189748]\n",
        "%%%%%%%%%%%%%%%%%%%%%%%%"
       ]
      },
      {
       "output_type": "stream",
       "stream": "stderr",
       "text": [
        "/usr/local/lib/python2.7/dist-packages/sklearn/tree/tree.py:446: DeprecationWarning: Setting compute_importances is no longer required as version 0.14. Variable importances are now computed on the fly when accessing the feature_importances_ attribute. This parameter will be removed in 0.16.\n",
        "  DeprecationWarning)\n",
        "/usr/local/lib/python2.7/dist-packages/sklearn/tree/tree.py:446: DeprecationWarning: Setting compute_importances is no longer required as version 0.14. Variable importances are now computed on the fly when accessing the feature_importances_ attribute. This parameter will be removed in 0.16.\n",
        "  DeprecationWarning)\n",
        "/usr/local/lib/python2.7/dist-packages/sklearn/tree/tree.py:446: DeprecationWarning: Setting compute_importances is no longer required as version 0.14. Variable importances are now computed on the fly when accessing the feature_importances_ attribute. This parameter will be removed in 0.16.\n",
        "  DeprecationWarning)\n",
        "/usr/local/lib/python2.7/dist-packages/sklearn/tree/tree.py:446: DeprecationWarning: Setting compute_importances is no longer required as version 0.14. Variable importances are now computed on the fly when accessing the feature_importances_ attribute. This parameter will be removed in 0.16.\n",
        "  DeprecationWarning)\n",
        "/usr/local/lib/python2.7/dist-packages/sklearn/tree/tree.py:446: DeprecationWarning: Setting compute_importances is no longer required as version 0.14. Variable importances are now computed on the fly when accessing the feature_importances_ attribute. This parameter will be removed in 0.16.\n",
        "  DeprecationWarning)\n"
       ]
      },
      {
       "output_type": "stream",
       "stream": "stdout",
       "text": [
        "\n",
        "%%%%%%%%%%%%%%%%%%%%%%%%\n",
        "Sample size: 17102\n",
        "iPhone: time\n",
        "scores: [0.94884536685179777, 0.94709149371528789, 0.94999999999999996, 0.95175438596491224, 0.94619883040935671]"
       ]
      },
      {
       "output_type": "stream",
       "stream": "stderr",
       "text": [
        "/usr/local/lib/python2.7/dist-packages/sklearn/tree/tree.py:446: DeprecationWarning: Setting compute_importances is no longer required as version 0.14. Variable importances are now computed on the fly when accessing the feature_importances_ attribute. This parameter will be removed in 0.16.\n",
        "  DeprecationWarning)\n",
        "/usr/local/lib/python2.7/dist-packages/sklearn/tree/tree.py:446: DeprecationWarning: Setting compute_importances is no longer required as version 0.14. Variable importances are now computed on the fly when accessing the feature_importances_ attribute. This parameter will be removed in 0.16.\n",
        "  DeprecationWarning)\n",
        "/usr/local/lib/python2.7/dist-packages/sklearn/tree/tree.py:446: DeprecationWarning: Setting compute_importances is no longer required as version 0.14. Variable importances are now computed on the fly when accessing the feature_importances_ attribute. This parameter will be removed in 0.16.\n",
        "  DeprecationWarning)\n",
        "/usr/local/lib/python2.7/dist-packages/sklearn/tree/tree.py:446: DeprecationWarning: Setting compute_importances is no longer required as version 0.14. Variable importances are now computed on the fly when accessing the feature_importances_ attribute. This parameter will be removed in 0.16.\n",
        "  DeprecationWarning)\n",
        "/usr/local/lib/python2.7/dist-packages/sklearn/tree/tree.py:446: DeprecationWarning: Setting compute_importances is no longer required as version 0.14. Variable importances are now computed on the fly when accessing the feature_importances_ attribute. This parameter will be removed in 0.16.\n",
        "  DeprecationWarning)\n"
       ]
      },
      {
       "output_type": "stream",
       "stream": "stdout",
       "text": [
        "\n",
        "Best scores:0.951754385965\n",
        "Importance:[  1.76815758e-02   4.42846293e-04   9.81875578e-01]\n",
        "iPhone: ad\n",
        "scores: [0.6080093539900614, 0.6237942122186495, 0.6166666666666667, 0.60233918128654973, 0.59707602339181287]"
       ]
      },
      {
       "output_type": "stream",
       "stream": "stderr",
       "text": [
        "/usr/local/lib/python2.7/dist-packages/sklearn/tree/tree.py:446: DeprecationWarning: Setting compute_importances is no longer required as version 0.14. Variable importances are now computed on the fly when accessing the feature_importances_ attribute. This parameter will be removed in 0.16.\n",
        "  DeprecationWarning)\n",
        "/usr/local/lib/python2.7/dist-packages/sklearn/tree/tree.py:446: DeprecationWarning: Setting compute_importances is no longer required as version 0.14. Variable importances are now computed on the fly when accessing the feature_importances_ attribute. This parameter will be removed in 0.16.\n",
        "  DeprecationWarning)\n",
        "/usr/local/lib/python2.7/dist-packages/sklearn/tree/tree.py:446: DeprecationWarning: Setting compute_importances is no longer required as version 0.14. Variable importances are now computed on the fly when accessing the feature_importances_ attribute. This parameter will be removed in 0.16.\n",
        "  DeprecationWarning)\n",
        "/usr/local/lib/python2.7/dist-packages/sklearn/tree/tree.py:446: DeprecationWarning: Setting compute_importances is no longer required as version 0.14. Variable importances are now computed on the fly when accessing the feature_importances_ attribute. This parameter will be removed in 0.16.\n",
        "  DeprecationWarning)\n",
        "/usr/local/lib/python2.7/dist-packages/sklearn/tree/tree.py:446: DeprecationWarning: Setting compute_importances is no longer required as version 0.14. Variable importances are now computed on the fly when accessing the feature_importances_ attribute. This parameter will be removed in 0.16.\n",
        "  DeprecationWarning)\n"
       ]
      },
      {
       "output_type": "stream",
       "stream": "stdout",
       "text": [
        "\n",
        "Best scores:0.623794212219\n",
        "Importance:[ 0.68519917  0.08927053  0.2255303 ]\n",
        "%%%%%%%%%%%%%%%%%%%%%%%%\n",
        "%%%%%%%%%%%%%%%%%%%%%%%%\n",
        "Sample size: 348\n",
        "Apple TV: time\n",
        "scores: [0.9285714285714286, 0.9285714285714286, 0.95714285714285718, 0.92753623188405798, 0.92753623188405798]\n",
        "Best scores:0.957142857143\n",
        "Importance:[ 0.39089338  0.          0.60910662]\n",
        "Apple TV: ad\n",
        "scores: [1.0, 1.0, 1.0, 1.0, 1.0]\n",
        "Best scores:1.0\n",
        "Importance:[ 0.  0.  0.]\n",
        "%%%%%%%%%%%%%%%%%%%%%%%%\n"
       ]
      },
      {
       "output_type": "stream",
       "stream": "stderr",
       "text": [
        "/usr/local/lib/python2.7/dist-packages/sklearn/tree/tree.py:446: DeprecationWarning: Setting compute_importances is no longer required as version 0.14. Variable importances are now computed on the fly when accessing the feature_importances_ attribute. This parameter will be removed in 0.16.\n",
        "  DeprecationWarning)\n",
        "/usr/local/lib/python2.7/dist-packages/sklearn/tree/tree.py:446: DeprecationWarning: Setting compute_importances is no longer required as version 0.14. Variable importances are now computed on the fly when accessing the feature_importances_ attribute. This parameter will be removed in 0.16.\n",
        "  DeprecationWarning)\n",
        "/usr/local/lib/python2.7/dist-packages/sklearn/tree/tree.py:446: DeprecationWarning: Setting compute_importances is no longer required as version 0.14. Variable importances are now computed on the fly when accessing the feature_importances_ attribute. This parameter will be removed in 0.16.\n",
        "  DeprecationWarning)\n",
        "/usr/local/lib/python2.7/dist-packages/sklearn/tree/tree.py:446: DeprecationWarning: Setting compute_importances is no longer required as version 0.14. Variable importances are now computed on the fly when accessing the feature_importances_ attribute. This parameter will be removed in 0.16.\n",
        "  DeprecationWarning)\n",
        "/usr/local/lib/python2.7/dist-packages/sklearn/tree/tree.py:446: DeprecationWarning: Setting compute_importances is no longer required as version 0.14. Variable importances are now computed on the fly when accessing the feature_importances_ attribute. This parameter will be removed in 0.16.\n",
        "  DeprecationWarning)\n",
        "/usr/local/lib/python2.7/dist-packages/sklearn/tree/tree.py:446: DeprecationWarning: Setting compute_importances is no longer required as version 0.14. Variable importances are now computed on the fly when accessing the feature_importances_ attribute. This parameter will be removed in 0.16.\n",
        "  DeprecationWarning)\n",
        "/usr/local/lib/python2.7/dist-packages/sklearn/tree/tree.py:446: DeprecationWarning: Setting compute_importances is no longer required as version 0.14. Variable importances are now computed on the fly when accessing the feature_importances_ attribute. This parameter will be removed in 0.16.\n",
        "  DeprecationWarning)\n",
        "/usr/local/lib/python2.7/dist-packages/sklearn/tree/tree.py:446: DeprecationWarning: Setting compute_importances is no longer required as version 0.14. Variable importances are now computed on the fly when accessing the feature_importances_ attribute. This parameter will be removed in 0.16.\n",
        "  DeprecationWarning)\n",
        "/usr/local/lib/python2.7/dist-packages/sklearn/tree/tree.py:446: DeprecationWarning: Setting compute_importances is no longer required as version 0.14. Variable importances are now computed on the fly when accessing the feature_importances_ attribute. This parameter will be removed in 0.16.\n",
        "  DeprecationWarning)\n"
       ]
      }
     ],
     "prompt_number": 4
    },
    {
     "cell_type": "code",
     "collapsed": false,
     "input": [],
     "language": "python",
     "metadata": {},
     "outputs": [],
     "prompt_number": 3
    },
    {
     "cell_type": "code",
     "collapsed": false,
     "input": [],
     "language": "python",
     "metadata": {},
     "outputs": []
    }
   ],
   "metadata": {}
  }
 ]
}